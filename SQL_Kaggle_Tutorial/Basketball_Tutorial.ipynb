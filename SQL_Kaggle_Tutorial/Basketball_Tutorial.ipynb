{
 "cells": [
  {
   "cell_type": "markdown",
   "metadata": {},
   "source": [
    "## SQL Kaggle Tutorial"
   ]
  },
  {
   "cell_type": "markdown",
   "metadata": {},
   "source": [
    "## SQLite Commands\n",
    "\n",
    "SELECT -> Used to query data from one or more table\n",
    "\n",
    "COUNT -> Aggregate function that returns the number of items in a group. If uses the ALL argument, all non-null values included duplicates will be counted. If DISTINCT specified, only the unique and non-null values will bem counted\n",
    "\n",
    "DISTINCT -> Query unique rows in a table (Remove duplicate rows in the result set).\n",
    "Consider NULL values as duplicates. If used with a column with NULL values, SQLite will keep one row of a NULL value.\n",
    "\n",
    "GROUP BY -> Get the group rows into groups and apply aggregate function for each group\n",
    "\n",
    "FROM -> Specifies the table from which the data will be taken\n",
    "\n",
    "ORDER BY -> Allows to sort the result set based on one or more columns in ascending or descending order. Comes after the FROM. (ASC = Ascending. DESC = Descending). Uses ascending order by default.\n",
    "\n",
    "UNION -> Combine rows from two or more queries into a single result set. UNION ALL operator does not remove duplicate rows. UNION operator removes/eliminate duplicate rows\n",
    "\n",
    "JOIN -> Query data from two or more tables"
   ]
  },
  {
   "cell_type": "markdown",
   "metadata": {},
   "source": [
    "#### Importing Libraries"
   ]
  },
  {
   "cell_type": "code",
   "execution_count": 2,
   "metadata": {},
   "outputs": [],
   "source": [
    "import numpy as np\n",
    "import pandas as pd\n",
    "import sqlite3 as sql\n",
    "import plotly.express as px\n",
    "import os"
   ]
  },
  {
   "cell_type": "markdown",
   "metadata": {},
   "source": [
    "## Connecting to SQL Database"
   ]
  },
  {
   "cell_type": "markdown",
   "metadata": {},
   "source": [
    "#### Create conection"
   ]
  },
  {
   "cell_type": "code",
   "execution_count": 3,
   "metadata": {},
   "outputs": [
    {
     "name": "stdout",
     "output_type": "stream",
     "text": [
      "SQL database connected\n"
     ]
    }
   ],
   "source": [
    "connection = sql.connect(\"basketball.sqlite\")\n",
    "print(\"SQL database connected\")"
   ]
  },
  {
   "cell_type": "markdown",
   "metadata": {},
   "source": [
    "#### Show all the tables title"
   ]
  },
  {
   "cell_type": "code",
   "execution_count": 4,
   "metadata": {},
   "outputs": [
    {
     "name": "stdout",
     "output_type": "stream",
     "text": [
      "                     name\n",
      "0                  Player\n",
      "1                    Team\n",
      "2         Team_Attributes\n",
      "3            Team_History\n",
      "4       Player_Attributes\n",
      "5          Game_Officials\n",
      "6   Game_Inactive_Players\n",
      "7             Team_Salary\n",
      "8           Player_Salary\n",
      "9                   Draft\n",
      "10          Draft_Combine\n",
      "11          Player_Photos\n",
      "12            Player_Bios\n",
      "13                   Game\n",
      "14                   News\n",
      "15           News_Missing\n"
     ]
    }
   ],
   "source": [
    "table = pd.read_sql_query(\"SELECT name FROM sqlite_master WHERE type='table'\", connection)\n",
    "print(table)"
   ]
  },
  {
   "cell_type": "markdown",
   "metadata": {},
   "source": [
    "## Drafting Data Analysis"
   ]
  },
  {
   "cell_type": "markdown",
   "metadata": {},
   "source": [
    "#### Drafting count change over time from 1949 to 2020"
   ]
  },
  {
   "cell_type": "code",
   "execution_count": 5,
   "metadata": {},
   "outputs": [
    {
     "data": {
      "text/html": [
       "<div>\n",
       "<style scoped>\n",
       "    .dataframe tbody tr th:only-of-type {\n",
       "        vertical-align: middle;\n",
       "    }\n",
       "\n",
       "    .dataframe tbody tr th {\n",
       "        vertical-align: top;\n",
       "    }\n",
       "\n",
       "    .dataframe thead th {\n",
       "        text-align: right;\n",
       "    }\n",
       "</style>\n",
       "<table border=\"1\" class=\"dataframe\">\n",
       "  <thead>\n",
       "    <tr style=\"text-align: right;\">\n",
       "      <th></th>\n",
       "      <th>yearDraft</th>\n",
       "      <th>numberPickOverall</th>\n",
       "      <th>numberRound</th>\n",
       "      <th>numberRoundPick</th>\n",
       "      <th>namePlayer</th>\n",
       "      <th>slugTeam</th>\n",
       "      <th>nameOrganizationFrom</th>\n",
       "      <th>typeOrganizationFrom</th>\n",
       "      <th>idPlayer</th>\n",
       "      <th>idTeam</th>\n",
       "      <th>nameTeam</th>\n",
       "      <th>cityTeam</th>\n",
       "      <th>teamName</th>\n",
       "      <th>PLAYER_PROFILE_FLAG</th>\n",
       "      <th>slugOrganizationTypeFrom</th>\n",
       "      <th>locationOrganizationFrom</th>\n",
       "    </tr>\n",
       "  </thead>\n",
       "  <tbody>\n",
       "    <tr>\n",
       "      <th>0</th>\n",
       "      <td>2020.0</td>\n",
       "      <td>1.0</td>\n",
       "      <td>1.0</td>\n",
       "      <td>1.0</td>\n",
       "      <td>Anthony Edwards</td>\n",
       "      <td>MIN</td>\n",
       "      <td>Georgia</td>\n",
       "      <td>College/University</td>\n",
       "      <td>1630162.0</td>\n",
       "      <td>1.610613e+09</td>\n",
       "      <td>Minnesota Timberwolves</td>\n",
       "      <td>Minnesota</td>\n",
       "      <td>Timberwolves</td>\n",
       "      <td>1.0</td>\n",
       "      <td>COL</td>\n",
       "      <td>None</td>\n",
       "    </tr>\n",
       "    <tr>\n",
       "      <th>1</th>\n",
       "      <td>2020.0</td>\n",
       "      <td>2.0</td>\n",
       "      <td>1.0</td>\n",
       "      <td>2.0</td>\n",
       "      <td>James Wiseman</td>\n",
       "      <td>GSW</td>\n",
       "      <td>Memphis</td>\n",
       "      <td>College/University</td>\n",
       "      <td>1630164.0</td>\n",
       "      <td>1.610613e+09</td>\n",
       "      <td>Golden State Warriors</td>\n",
       "      <td>Golden State</td>\n",
       "      <td>Warriors</td>\n",
       "      <td>1.0</td>\n",
       "      <td>COL</td>\n",
       "      <td>None</td>\n",
       "    </tr>\n",
       "    <tr>\n",
       "      <th>2</th>\n",
       "      <td>2020.0</td>\n",
       "      <td>3.0</td>\n",
       "      <td>1.0</td>\n",
       "      <td>3.0</td>\n",
       "      <td>LaMelo Ball</td>\n",
       "      <td>CHA</td>\n",
       "      <td>Illawarra</td>\n",
       "      <td>Other Team/Club</td>\n",
       "      <td>1630163.0</td>\n",
       "      <td>1.610613e+09</td>\n",
       "      <td>Charlotte Hornets</td>\n",
       "      <td>Charlotte</td>\n",
       "      <td>Hornets</td>\n",
       "      <td>1.0</td>\n",
       "      <td>PRO</td>\n",
       "      <td>Australia</td>\n",
       "    </tr>\n",
       "    <tr>\n",
       "      <th>3</th>\n",
       "      <td>2020.0</td>\n",
       "      <td>4.0</td>\n",
       "      <td>1.0</td>\n",
       "      <td>4.0</td>\n",
       "      <td>Patrick Williams</td>\n",
       "      <td>CHI</td>\n",
       "      <td>Florida State</td>\n",
       "      <td>College/University</td>\n",
       "      <td>1630172.0</td>\n",
       "      <td>1.610613e+09</td>\n",
       "      <td>Chicago Bulls</td>\n",
       "      <td>Chicago</td>\n",
       "      <td>Bulls</td>\n",
       "      <td>1.0</td>\n",
       "      <td>COL</td>\n",
       "      <td>None</td>\n",
       "    </tr>\n",
       "    <tr>\n",
       "      <th>4</th>\n",
       "      <td>2020.0</td>\n",
       "      <td>5.0</td>\n",
       "      <td>1.0</td>\n",
       "      <td>5.0</td>\n",
       "      <td>Isaac Okoro</td>\n",
       "      <td>CLE</td>\n",
       "      <td>Auburn</td>\n",
       "      <td>College/University</td>\n",
       "      <td>1630171.0</td>\n",
       "      <td>1.610613e+09</td>\n",
       "      <td>Cleveland Cavaliers</td>\n",
       "      <td>Cleveland</td>\n",
       "      <td>Cavaliers</td>\n",
       "      <td>1.0</td>\n",
       "      <td>COL</td>\n",
       "      <td>None</td>\n",
       "    </tr>\n",
       "    <tr>\n",
       "      <th>...</th>\n",
       "      <td>...</td>\n",
       "      <td>...</td>\n",
       "      <td>...</td>\n",
       "      <td>...</td>\n",
       "      <td>...</td>\n",
       "      <td>...</td>\n",
       "      <td>...</td>\n",
       "      <td>...</td>\n",
       "      <td>...</td>\n",
       "      <td>...</td>\n",
       "      <td>...</td>\n",
       "      <td>...</td>\n",
       "      <td>...</td>\n",
       "      <td>...</td>\n",
       "      <td>...</td>\n",
       "      <td>...</td>\n",
       "    </tr>\n",
       "    <tr>\n",
       "      <th>7885</th>\n",
       "      <td>1949.0</td>\n",
       "      <td>6.0</td>\n",
       "      <td>1.0</td>\n",
       "      <td>6.0</td>\n",
       "      <td>Ron Livingstone</td>\n",
       "      <td>BAL</td>\n",
       "      <td>Wyoming</td>\n",
       "      <td>College/University</td>\n",
       "      <td>77392.0</td>\n",
       "      <td>1.610610e+09</td>\n",
       "      <td>Baltimore Bullets</td>\n",
       "      <td>Baltimore</td>\n",
       "      <td>Bullets</td>\n",
       "      <td>1.0</td>\n",
       "      <td>COL</td>\n",
       "      <td>None</td>\n",
       "    </tr>\n",
       "    <tr>\n",
       "      <th>7886</th>\n",
       "      <td>1949.0</td>\n",
       "      <td>7.0</td>\n",
       "      <td>1.0</td>\n",
       "      <td>7.0</td>\n",
       "      <td>Dick McGuire</td>\n",
       "      <td>NYK</td>\n",
       "      <td>St. John's (NY)</td>\n",
       "      <td>College/University</td>\n",
       "      <td>77537.0</td>\n",
       "      <td>1.610613e+09</td>\n",
       "      <td>New York Knicks</td>\n",
       "      <td>New York</td>\n",
       "      <td>Knicks</td>\n",
       "      <td>1.0</td>\n",
       "      <td>COL</td>\n",
       "      <td>None</td>\n",
       "    </tr>\n",
       "    <tr>\n",
       "      <th>7887</th>\n",
       "      <td>1949.0</td>\n",
       "      <td>8.0</td>\n",
       "      <td>1.0</td>\n",
       "      <td>8.0</td>\n",
       "      <td>Wallace Jones</td>\n",
       "      <td>WAS</td>\n",
       "      <td>Kentucky</td>\n",
       "      <td>College/University</td>\n",
       "      <td>77199.0</td>\n",
       "      <td>1.610610e+09</td>\n",
       "      <td>Washington Capitols</td>\n",
       "      <td>Washington</td>\n",
       "      <td>Capitols</td>\n",
       "      <td>1.0</td>\n",
       "      <td>COL</td>\n",
       "      <td>None</td>\n",
       "    </tr>\n",
       "    <tr>\n",
       "      <th>7888</th>\n",
       "      <td>1949.0</td>\n",
       "      <td>9.0</td>\n",
       "      <td>1.0</td>\n",
       "      <td>9.0</td>\n",
       "      <td>Jack Kerris</td>\n",
       "      <td>CHS</td>\n",
       "      <td>Loyola-Chicago</td>\n",
       "      <td>College/University</td>\n",
       "      <td>77249.0</td>\n",
       "      <td>1.610610e+09</td>\n",
       "      <td>Chicago Stags</td>\n",
       "      <td>Chicago</td>\n",
       "      <td>Stags</td>\n",
       "      <td>1.0</td>\n",
       "      <td>COL</td>\n",
       "      <td>None</td>\n",
       "    </tr>\n",
       "    <tr>\n",
       "      <th>7889</th>\n",
       "      <td>1949.0</td>\n",
       "      <td>10.0</td>\n",
       "      <td>1.0</td>\n",
       "      <td>10.0</td>\n",
       "      <td>Frank Saul</td>\n",
       "      <td>ROC</td>\n",
       "      <td>Seton Hall</td>\n",
       "      <td>College/University</td>\n",
       "      <td>78063.0</td>\n",
       "      <td>1.610613e+09</td>\n",
       "      <td>Rochester Royals</td>\n",
       "      <td>Rochester</td>\n",
       "      <td>Royals</td>\n",
       "      <td>1.0</td>\n",
       "      <td>COL</td>\n",
       "      <td>None</td>\n",
       "    </tr>\n",
       "  </tbody>\n",
       "</table>\n",
       "<p>7890 rows × 16 columns</p>\n",
       "</div>"
      ],
      "text/plain": [
       "      yearDraft  numberPickOverall  numberRound  numberRoundPick  \\\n",
       "0        2020.0                1.0          1.0              1.0   \n",
       "1        2020.0                2.0          1.0              2.0   \n",
       "2        2020.0                3.0          1.0              3.0   \n",
       "3        2020.0                4.0          1.0              4.0   \n",
       "4        2020.0                5.0          1.0              5.0   \n",
       "...         ...                ...          ...              ...   \n",
       "7885     1949.0                6.0          1.0              6.0   \n",
       "7886     1949.0                7.0          1.0              7.0   \n",
       "7887     1949.0                8.0          1.0              8.0   \n",
       "7888     1949.0                9.0          1.0              9.0   \n",
       "7889     1949.0               10.0          1.0             10.0   \n",
       "\n",
       "            namePlayer slugTeam nameOrganizationFrom typeOrganizationFrom  \\\n",
       "0      Anthony Edwards      MIN              Georgia   College/University   \n",
       "1        James Wiseman      GSW              Memphis   College/University   \n",
       "2          LaMelo Ball      CHA            Illawarra      Other Team/Club   \n",
       "3     Patrick Williams      CHI        Florida State   College/University   \n",
       "4          Isaac Okoro      CLE               Auburn   College/University   \n",
       "...                ...      ...                  ...                  ...   \n",
       "7885   Ron Livingstone      BAL              Wyoming   College/University   \n",
       "7886      Dick McGuire      NYK      St. John's (NY)   College/University   \n",
       "7887     Wallace Jones      WAS             Kentucky   College/University   \n",
       "7888       Jack Kerris      CHS       Loyola-Chicago   College/University   \n",
       "7889        Frank Saul      ROC           Seton Hall   College/University   \n",
       "\n",
       "       idPlayer        idTeam                nameTeam      cityTeam  \\\n",
       "0     1630162.0  1.610613e+09  Minnesota Timberwolves     Minnesota   \n",
       "1     1630164.0  1.610613e+09   Golden State Warriors  Golden State   \n",
       "2     1630163.0  1.610613e+09       Charlotte Hornets     Charlotte   \n",
       "3     1630172.0  1.610613e+09           Chicago Bulls       Chicago   \n",
       "4     1630171.0  1.610613e+09     Cleveland Cavaliers     Cleveland   \n",
       "...         ...           ...                     ...           ...   \n",
       "7885    77392.0  1.610610e+09       Baltimore Bullets     Baltimore   \n",
       "7886    77537.0  1.610613e+09         New York Knicks      New York   \n",
       "7887    77199.0  1.610610e+09     Washington Capitols    Washington   \n",
       "7888    77249.0  1.610610e+09           Chicago Stags       Chicago   \n",
       "7889    78063.0  1.610613e+09        Rochester Royals     Rochester   \n",
       "\n",
       "          teamName  PLAYER_PROFILE_FLAG slugOrganizationTypeFrom  \\\n",
       "0     Timberwolves                  1.0                      COL   \n",
       "1         Warriors                  1.0                      COL   \n",
       "2          Hornets                  1.0                      PRO   \n",
       "3            Bulls                  1.0                      COL   \n",
       "4        Cavaliers                  1.0                      COL   \n",
       "...            ...                  ...                      ...   \n",
       "7885       Bullets                  1.0                      COL   \n",
       "7886        Knicks                  1.0                      COL   \n",
       "7887      Capitols                  1.0                      COL   \n",
       "7888         Stags                  1.0                      COL   \n",
       "7889        Royals                  1.0                      COL   \n",
       "\n",
       "     locationOrganizationFrom  \n",
       "0                        None  \n",
       "1                        None  \n",
       "2                   Australia  \n",
       "3                        None  \n",
       "4                        None  \n",
       "...                       ...  \n",
       "7885                     None  \n",
       "7886                     None  \n",
       "7887                     None  \n",
       "7888                     None  \n",
       "7889                     None  \n",
       "\n",
       "[7890 rows x 16 columns]"
      ]
     },
     "execution_count": 5,
     "metadata": {},
     "output_type": "execute_result"
    }
   ],
   "source": [
    "df = pd.read_sql_query(\"SELECT * FROM Draft\", connection)\n",
    "df"
   ]
  },
  {
   "cell_type": "markdown",
   "metadata": {},
   "source": [
    "## Get data with SQL"
   ]
  },
  {
   "cell_type": "code",
   "execution_count": 6,
   "metadata": {},
   "outputs": [
    {
     "data": {
      "text/html": [
       "<div>\n",
       "<style scoped>\n",
       "    .dataframe tbody tr th:only-of-type {\n",
       "        vertical-align: middle;\n",
       "    }\n",
       "\n",
       "    .dataframe tbody tr th {\n",
       "        vertical-align: top;\n",
       "    }\n",
       "\n",
       "    .dataframe thead th {\n",
       "        text-align: right;\n",
       "    }\n",
       "</style>\n",
       "<table border=\"1\" class=\"dataframe\">\n",
       "  <thead>\n",
       "    <tr style=\"text-align: right;\">\n",
       "      <th></th>\n",
       "      <th>year_drafted</th>\n",
       "      <th>total_drafted</th>\n",
       "    </tr>\n",
       "  </thead>\n",
       "  <tbody>\n",
       "    <tr>\n",
       "      <th>0</th>\n",
       "      <td>1949</td>\n",
       "      <td>75</td>\n",
       "    </tr>\n",
       "    <tr>\n",
       "      <th>1</th>\n",
       "      <td>1950</td>\n",
       "      <td>121</td>\n",
       "    </tr>\n",
       "    <tr>\n",
       "      <th>2</th>\n",
       "      <td>1951</td>\n",
       "      <td>87</td>\n",
       "    </tr>\n",
       "    <tr>\n",
       "      <th>3</th>\n",
       "      <td>1952</td>\n",
       "      <td>106</td>\n",
       "    </tr>\n",
       "    <tr>\n",
       "      <th>4</th>\n",
       "      <td>1953</td>\n",
       "      <td>122</td>\n",
       "    </tr>\n",
       "    <tr>\n",
       "      <th>...</th>\n",
       "      <td>...</td>\n",
       "      <td>...</td>\n",
       "    </tr>\n",
       "    <tr>\n",
       "      <th>67</th>\n",
       "      <td>2016</td>\n",
       "      <td>60</td>\n",
       "    </tr>\n",
       "    <tr>\n",
       "      <th>68</th>\n",
       "      <td>2017</td>\n",
       "      <td>60</td>\n",
       "    </tr>\n",
       "    <tr>\n",
       "      <th>69</th>\n",
       "      <td>2018</td>\n",
       "      <td>60</td>\n",
       "    </tr>\n",
       "    <tr>\n",
       "      <th>70</th>\n",
       "      <td>2019</td>\n",
       "      <td>60</td>\n",
       "    </tr>\n",
       "    <tr>\n",
       "      <th>71</th>\n",
       "      <td>2020</td>\n",
       "      <td>60</td>\n",
       "    </tr>\n",
       "  </tbody>\n",
       "</table>\n",
       "<p>72 rows × 2 columns</p>\n",
       "</div>"
      ],
      "text/plain": [
       "    year_drafted  total_drafted\n",
       "0           1949             75\n",
       "1           1950            121\n",
       "2           1951             87\n",
       "3           1952            106\n",
       "4           1953            122\n",
       "..           ...            ...\n",
       "67          2016             60\n",
       "68          2017             60\n",
       "69          2018             60\n",
       "70          2019             60\n",
       "71          2020             60\n",
       "\n",
       "[72 rows x 2 columns]"
      ]
     },
     "execution_count": 6,
     "metadata": {},
     "output_type": "execute_result"
    }
   ],
   "source": [
    "query = \"\"\"\n",
    "        SELECT\n",
    "            yearDraft as year_drafted,\n",
    "            COUNT(DISTINCT idPlayer) AS total_drafted\n",
    "        FROM Draft\n",
    "        GROUP BY yearDraft;\n",
    "\"\"\"\n",
    "\n",
    "year_draft_total = pd.read_sql(query, connection).astype({\"year_drafted\": int})\n",
    "year_draft_total"
   ]
  },
  {
   "cell_type": "code",
   "execution_count": 7,
   "metadata": {},
   "outputs": [
    {
     "data": {
      "application/vnd.plotly.v1+json": {
       "config": {
        "plotlyServerURL": "https://plot.ly"
       },
       "data": [
        {
         "hovertemplate": "year_drafted=%{x}<br>total_drafted=%{y}<extra></extra>",
         "legendgroup": "",
         "line": {
          "color": "#636efa",
          "dash": "solid"
         },
         "marker": {
          "symbol": "circle"
         },
         "mode": "lines",
         "name": "",
         "orientation": "v",
         "showlegend": false,
         "type": "scatter",
         "x": [
          1949,
          1950,
          1951,
          1952,
          1953,
          1954,
          1955,
          1956,
          1957,
          1958,
          1959,
          1960,
          1961,
          1962,
          1963,
          1964,
          1965,
          1966,
          1967,
          1968,
          1969,
          1970,
          1971,
          1972,
          1973,
          1974,
          1975,
          1976,
          1977,
          1978,
          1979,
          1980,
          1981,
          1982,
          1983,
          1984,
          1985,
          1986,
          1987,
          1988,
          1989,
          1990,
          1991,
          1992,
          1993,
          1994,
          1995,
          1996,
          1997,
          1998,
          1999,
          2000,
          2001,
          2002,
          2003,
          2004,
          2005,
          2006,
          2007,
          2008,
          2009,
          2010,
          2011,
          2012,
          2013,
          2014,
          2015,
          2016,
          2017,
          2018,
          2019,
          2020
         ],
         "xaxis": "x",
         "y": [
          75,
          121,
          87,
          106,
          122,
          100,
          95,
          92,
          85,
          88,
          85,
          100,
          107,
          102,
          84,
          101,
          112,
          112,
          162,
          214,
          218,
          239,
          237,
          198,
          211,
          178,
          174,
          173,
          170,
          202,
          202,
          214,
          223,
          225,
          226,
          228,
          162,
          162,
          161,
          75,
          54,
          54,
          54,
          54,
          54,
          54,
          58,
          58,
          57,
          58,
          58,
          58,
          57,
          57,
          58,
          59,
          60,
          60,
          60,
          60,
          60,
          60,
          60,
          60,
          60,
          60,
          60,
          60,
          60,
          60,
          60,
          60
         ],
         "yaxis": "y"
        }
       ],
       "layout": {
        "legend": {
         "tracegroupgap": 0
        },
        "template": {
         "data": {
          "bar": [
           {
            "error_x": {
             "color": "#2a3f5f"
            },
            "error_y": {
             "color": "#2a3f5f"
            },
            "marker": {
             "line": {
              "color": "#E5ECF6",
              "width": 0.5
             },
             "pattern": {
              "fillmode": "overlay",
              "size": 10,
              "solidity": 0.2
             }
            },
            "type": "bar"
           }
          ],
          "barpolar": [
           {
            "marker": {
             "line": {
              "color": "#E5ECF6",
              "width": 0.5
             },
             "pattern": {
              "fillmode": "overlay",
              "size": 10,
              "solidity": 0.2
             }
            },
            "type": "barpolar"
           }
          ],
          "carpet": [
           {
            "aaxis": {
             "endlinecolor": "#2a3f5f",
             "gridcolor": "white",
             "linecolor": "white",
             "minorgridcolor": "white",
             "startlinecolor": "#2a3f5f"
            },
            "baxis": {
             "endlinecolor": "#2a3f5f",
             "gridcolor": "white",
             "linecolor": "white",
             "minorgridcolor": "white",
             "startlinecolor": "#2a3f5f"
            },
            "type": "carpet"
           }
          ],
          "choropleth": [
           {
            "colorbar": {
             "outlinewidth": 0,
             "ticks": ""
            },
            "type": "choropleth"
           }
          ],
          "contour": [
           {
            "colorbar": {
             "outlinewidth": 0,
             "ticks": ""
            },
            "colorscale": [
             [
              0,
              "#0d0887"
             ],
             [
              0.1111111111111111,
              "#46039f"
             ],
             [
              0.2222222222222222,
              "#7201a8"
             ],
             [
              0.3333333333333333,
              "#9c179e"
             ],
             [
              0.4444444444444444,
              "#bd3786"
             ],
             [
              0.5555555555555556,
              "#d8576b"
             ],
             [
              0.6666666666666666,
              "#ed7953"
             ],
             [
              0.7777777777777778,
              "#fb9f3a"
             ],
             [
              0.8888888888888888,
              "#fdca26"
             ],
             [
              1,
              "#f0f921"
             ]
            ],
            "type": "contour"
           }
          ],
          "contourcarpet": [
           {
            "colorbar": {
             "outlinewidth": 0,
             "ticks": ""
            },
            "type": "contourcarpet"
           }
          ],
          "heatmap": [
           {
            "colorbar": {
             "outlinewidth": 0,
             "ticks": ""
            },
            "colorscale": [
             [
              0,
              "#0d0887"
             ],
             [
              0.1111111111111111,
              "#46039f"
             ],
             [
              0.2222222222222222,
              "#7201a8"
             ],
             [
              0.3333333333333333,
              "#9c179e"
             ],
             [
              0.4444444444444444,
              "#bd3786"
             ],
             [
              0.5555555555555556,
              "#d8576b"
             ],
             [
              0.6666666666666666,
              "#ed7953"
             ],
             [
              0.7777777777777778,
              "#fb9f3a"
             ],
             [
              0.8888888888888888,
              "#fdca26"
             ],
             [
              1,
              "#f0f921"
             ]
            ],
            "type": "heatmap"
           }
          ],
          "heatmapgl": [
           {
            "colorbar": {
             "outlinewidth": 0,
             "ticks": ""
            },
            "colorscale": [
             [
              0,
              "#0d0887"
             ],
             [
              0.1111111111111111,
              "#46039f"
             ],
             [
              0.2222222222222222,
              "#7201a8"
             ],
             [
              0.3333333333333333,
              "#9c179e"
             ],
             [
              0.4444444444444444,
              "#bd3786"
             ],
             [
              0.5555555555555556,
              "#d8576b"
             ],
             [
              0.6666666666666666,
              "#ed7953"
             ],
             [
              0.7777777777777778,
              "#fb9f3a"
             ],
             [
              0.8888888888888888,
              "#fdca26"
             ],
             [
              1,
              "#f0f921"
             ]
            ],
            "type": "heatmapgl"
           }
          ],
          "histogram": [
           {
            "marker": {
             "pattern": {
              "fillmode": "overlay",
              "size": 10,
              "solidity": 0.2
             }
            },
            "type": "histogram"
           }
          ],
          "histogram2d": [
           {
            "colorbar": {
             "outlinewidth": 0,
             "ticks": ""
            },
            "colorscale": [
             [
              0,
              "#0d0887"
             ],
             [
              0.1111111111111111,
              "#46039f"
             ],
             [
              0.2222222222222222,
              "#7201a8"
             ],
             [
              0.3333333333333333,
              "#9c179e"
             ],
             [
              0.4444444444444444,
              "#bd3786"
             ],
             [
              0.5555555555555556,
              "#d8576b"
             ],
             [
              0.6666666666666666,
              "#ed7953"
             ],
             [
              0.7777777777777778,
              "#fb9f3a"
             ],
             [
              0.8888888888888888,
              "#fdca26"
             ],
             [
              1,
              "#f0f921"
             ]
            ],
            "type": "histogram2d"
           }
          ],
          "histogram2dcontour": [
           {
            "colorbar": {
             "outlinewidth": 0,
             "ticks": ""
            },
            "colorscale": [
             [
              0,
              "#0d0887"
             ],
             [
              0.1111111111111111,
              "#46039f"
             ],
             [
              0.2222222222222222,
              "#7201a8"
             ],
             [
              0.3333333333333333,
              "#9c179e"
             ],
             [
              0.4444444444444444,
              "#bd3786"
             ],
             [
              0.5555555555555556,
              "#d8576b"
             ],
             [
              0.6666666666666666,
              "#ed7953"
             ],
             [
              0.7777777777777778,
              "#fb9f3a"
             ],
             [
              0.8888888888888888,
              "#fdca26"
             ],
             [
              1,
              "#f0f921"
             ]
            ],
            "type": "histogram2dcontour"
           }
          ],
          "mesh3d": [
           {
            "colorbar": {
             "outlinewidth": 0,
             "ticks": ""
            },
            "type": "mesh3d"
           }
          ],
          "parcoords": [
           {
            "line": {
             "colorbar": {
              "outlinewidth": 0,
              "ticks": ""
             }
            },
            "type": "parcoords"
           }
          ],
          "pie": [
           {
            "automargin": true,
            "type": "pie"
           }
          ],
          "scatter": [
           {
            "fillpattern": {
             "fillmode": "overlay",
             "size": 10,
             "solidity": 0.2
            },
            "type": "scatter"
           }
          ],
          "scatter3d": [
           {
            "line": {
             "colorbar": {
              "outlinewidth": 0,
              "ticks": ""
             }
            },
            "marker": {
             "colorbar": {
              "outlinewidth": 0,
              "ticks": ""
             }
            },
            "type": "scatter3d"
           }
          ],
          "scattercarpet": [
           {
            "marker": {
             "colorbar": {
              "outlinewidth": 0,
              "ticks": ""
             }
            },
            "type": "scattercarpet"
           }
          ],
          "scattergeo": [
           {
            "marker": {
             "colorbar": {
              "outlinewidth": 0,
              "ticks": ""
             }
            },
            "type": "scattergeo"
           }
          ],
          "scattergl": [
           {
            "marker": {
             "colorbar": {
              "outlinewidth": 0,
              "ticks": ""
             }
            },
            "type": "scattergl"
           }
          ],
          "scattermapbox": [
           {
            "marker": {
             "colorbar": {
              "outlinewidth": 0,
              "ticks": ""
             }
            },
            "type": "scattermapbox"
           }
          ],
          "scatterpolar": [
           {
            "marker": {
             "colorbar": {
              "outlinewidth": 0,
              "ticks": ""
             }
            },
            "type": "scatterpolar"
           }
          ],
          "scatterpolargl": [
           {
            "marker": {
             "colorbar": {
              "outlinewidth": 0,
              "ticks": ""
             }
            },
            "type": "scatterpolargl"
           }
          ],
          "scatterternary": [
           {
            "marker": {
             "colorbar": {
              "outlinewidth": 0,
              "ticks": ""
             }
            },
            "type": "scatterternary"
           }
          ],
          "surface": [
           {
            "colorbar": {
             "outlinewidth": 0,
             "ticks": ""
            },
            "colorscale": [
             [
              0,
              "#0d0887"
             ],
             [
              0.1111111111111111,
              "#46039f"
             ],
             [
              0.2222222222222222,
              "#7201a8"
             ],
             [
              0.3333333333333333,
              "#9c179e"
             ],
             [
              0.4444444444444444,
              "#bd3786"
             ],
             [
              0.5555555555555556,
              "#d8576b"
             ],
             [
              0.6666666666666666,
              "#ed7953"
             ],
             [
              0.7777777777777778,
              "#fb9f3a"
             ],
             [
              0.8888888888888888,
              "#fdca26"
             ],
             [
              1,
              "#f0f921"
             ]
            ],
            "type": "surface"
           }
          ],
          "table": [
           {
            "cells": {
             "fill": {
              "color": "#EBF0F8"
             },
             "line": {
              "color": "white"
             }
            },
            "header": {
             "fill": {
              "color": "#C8D4E3"
             },
             "line": {
              "color": "white"
             }
            },
            "type": "table"
           }
          ]
         },
         "layout": {
          "annotationdefaults": {
           "arrowcolor": "#2a3f5f",
           "arrowhead": 0,
           "arrowwidth": 1
          },
          "autotypenumbers": "strict",
          "coloraxis": {
           "colorbar": {
            "outlinewidth": 0,
            "ticks": ""
           }
          },
          "colorscale": {
           "diverging": [
            [
             0,
             "#8e0152"
            ],
            [
             0.1,
             "#c51b7d"
            ],
            [
             0.2,
             "#de77ae"
            ],
            [
             0.3,
             "#f1b6da"
            ],
            [
             0.4,
             "#fde0ef"
            ],
            [
             0.5,
             "#f7f7f7"
            ],
            [
             0.6,
             "#e6f5d0"
            ],
            [
             0.7,
             "#b8e186"
            ],
            [
             0.8,
             "#7fbc41"
            ],
            [
             0.9,
             "#4d9221"
            ],
            [
             1,
             "#276419"
            ]
           ],
           "sequential": [
            [
             0,
             "#0d0887"
            ],
            [
             0.1111111111111111,
             "#46039f"
            ],
            [
             0.2222222222222222,
             "#7201a8"
            ],
            [
             0.3333333333333333,
             "#9c179e"
            ],
            [
             0.4444444444444444,
             "#bd3786"
            ],
            [
             0.5555555555555556,
             "#d8576b"
            ],
            [
             0.6666666666666666,
             "#ed7953"
            ],
            [
             0.7777777777777778,
             "#fb9f3a"
            ],
            [
             0.8888888888888888,
             "#fdca26"
            ],
            [
             1,
             "#f0f921"
            ]
           ],
           "sequentialminus": [
            [
             0,
             "#0d0887"
            ],
            [
             0.1111111111111111,
             "#46039f"
            ],
            [
             0.2222222222222222,
             "#7201a8"
            ],
            [
             0.3333333333333333,
             "#9c179e"
            ],
            [
             0.4444444444444444,
             "#bd3786"
            ],
            [
             0.5555555555555556,
             "#d8576b"
            ],
            [
             0.6666666666666666,
             "#ed7953"
            ],
            [
             0.7777777777777778,
             "#fb9f3a"
            ],
            [
             0.8888888888888888,
             "#fdca26"
            ],
            [
             1,
             "#f0f921"
            ]
           ]
          },
          "colorway": [
           "#636efa",
           "#EF553B",
           "#00cc96",
           "#ab63fa",
           "#FFA15A",
           "#19d3f3",
           "#FF6692",
           "#B6E880",
           "#FF97FF",
           "#FECB52"
          ],
          "font": {
           "color": "#2a3f5f"
          },
          "geo": {
           "bgcolor": "white",
           "lakecolor": "white",
           "landcolor": "#E5ECF6",
           "showlakes": true,
           "showland": true,
           "subunitcolor": "white"
          },
          "hoverlabel": {
           "align": "left"
          },
          "hovermode": "closest",
          "mapbox": {
           "style": "light"
          },
          "paper_bgcolor": "white",
          "plot_bgcolor": "#E5ECF6",
          "polar": {
           "angularaxis": {
            "gridcolor": "white",
            "linecolor": "white",
            "ticks": ""
           },
           "bgcolor": "#E5ECF6",
           "radialaxis": {
            "gridcolor": "white",
            "linecolor": "white",
            "ticks": ""
           }
          },
          "scene": {
           "xaxis": {
            "backgroundcolor": "#E5ECF6",
            "gridcolor": "white",
            "gridwidth": 2,
            "linecolor": "white",
            "showbackground": true,
            "ticks": "",
            "zerolinecolor": "white"
           },
           "yaxis": {
            "backgroundcolor": "#E5ECF6",
            "gridcolor": "white",
            "gridwidth": 2,
            "linecolor": "white",
            "showbackground": true,
            "ticks": "",
            "zerolinecolor": "white"
           },
           "zaxis": {
            "backgroundcolor": "#E5ECF6",
            "gridcolor": "white",
            "gridwidth": 2,
            "linecolor": "white",
            "showbackground": true,
            "ticks": "",
            "zerolinecolor": "white"
           }
          },
          "shapedefaults": {
           "line": {
            "color": "#2a3f5f"
           }
          },
          "ternary": {
           "aaxis": {
            "gridcolor": "white",
            "linecolor": "white",
            "ticks": ""
           },
           "baxis": {
            "gridcolor": "white",
            "linecolor": "white",
            "ticks": ""
           },
           "bgcolor": "#E5ECF6",
           "caxis": {
            "gridcolor": "white",
            "linecolor": "white",
            "ticks": ""
           }
          },
          "title": {
           "x": 0.05
          },
          "xaxis": {
           "automargin": true,
           "gridcolor": "white",
           "linecolor": "white",
           "ticks": "",
           "title": {
            "standoff": 15
           },
           "zerolinecolor": "white",
           "zerolinewidth": 2
          },
          "yaxis": {
           "automargin": true,
           "gridcolor": "white",
           "linecolor": "white",
           "ticks": "",
           "title": {
            "standoff": 15
           },
           "zerolinecolor": "white",
           "zerolinewidth": 2
          }
         }
        },
        "title": {
         "text": "NBA Drafting Trend from 1949 to 2020"
        },
        "xaxis": {
         "anchor": "y",
         "domain": [
          0,
          1
         ],
         "title": {
          "text": "year_drafted"
         }
        },
        "yaxis": {
         "anchor": "x",
         "domain": [
          0,
          1
         ],
         "title": {
          "text": "total_drafted"
         }
        }
       }
      }
     },
     "metadata": {},
     "output_type": "display_data"
    }
   ],
   "source": [
    "px.line(year_draft_total, x=\"year_drafted\", y=\"total_drafted\",\n",
    "        title=\"NBA Drafting Trend from 1949 to 2020\")"
   ]
  },
  {
   "cell_type": "markdown",
   "metadata": {},
   "source": [
    "#### What are the top 10 NBA teams that drafted most number of players from university"
   ]
  },
  {
   "cell_type": "code",
   "execution_count": 8,
   "metadata": {},
   "outputs": [
    {
     "data": {
      "text/html": [
       "<div>\n",
       "<style scoped>\n",
       "    .dataframe tbody tr th:only-of-type {\n",
       "        vertical-align: middle;\n",
       "    }\n",
       "\n",
       "    .dataframe tbody tr th {\n",
       "        vertical-align: top;\n",
       "    }\n",
       "\n",
       "    .dataframe thead th {\n",
       "        text-align: right;\n",
       "    }\n",
       "</style>\n",
       "<table border=\"1\" class=\"dataframe\">\n",
       "  <thead>\n",
       "    <tr style=\"text-align: right;\">\n",
       "      <th></th>\n",
       "      <th>nba_team</th>\n",
       "      <th>total_drafted</th>\n",
       "    </tr>\n",
       "  </thead>\n",
       "  <tbody>\n",
       "    <tr>\n",
       "      <th>0</th>\n",
       "      <td>Atlanta Hawks</td>\n",
       "      <td>514</td>\n",
       "    </tr>\n",
       "    <tr>\n",
       "      <th>1</th>\n",
       "      <td>Sacramento Kings</td>\n",
       "      <td>511</td>\n",
       "    </tr>\n",
       "    <tr>\n",
       "      <th>2</th>\n",
       "      <td>Philadelphia 76ers</td>\n",
       "      <td>487</td>\n",
       "    </tr>\n",
       "    <tr>\n",
       "      <th>3</th>\n",
       "      <td>New York Knicks</td>\n",
       "      <td>474</td>\n",
       "    </tr>\n",
       "    <tr>\n",
       "      <th>4</th>\n",
       "      <td>Golden State Warriors</td>\n",
       "      <td>451</td>\n",
       "    </tr>\n",
       "    <tr>\n",
       "      <th>5</th>\n",
       "      <td>Boston Celtics</td>\n",
       "      <td>448</td>\n",
       "    </tr>\n",
       "    <tr>\n",
       "      <th>6</th>\n",
       "      <td>Detroit Pistons</td>\n",
       "      <td>431</td>\n",
       "    </tr>\n",
       "    <tr>\n",
       "      <th>7</th>\n",
       "      <td>Los Angeles Lakers</td>\n",
       "      <td>426</td>\n",
       "    </tr>\n",
       "    <tr>\n",
       "      <th>8</th>\n",
       "      <td>Washington Wizards</td>\n",
       "      <td>411</td>\n",
       "    </tr>\n",
       "    <tr>\n",
       "      <th>9</th>\n",
       "      <td>Chicago Bulls</td>\n",
       "      <td>341</td>\n",
       "    </tr>\n",
       "  </tbody>\n",
       "</table>\n",
       "</div>"
      ],
      "text/plain": [
       "                nba_team  total_drafted\n",
       "0          Atlanta Hawks            514\n",
       "1       Sacramento Kings            511\n",
       "2     Philadelphia 76ers            487\n",
       "3        New York Knicks            474\n",
       "4  Golden State Warriors            451\n",
       "5         Boston Celtics            448\n",
       "6        Detroit Pistons            431\n",
       "7     Los Angeles Lakers            426\n",
       "8     Washington Wizards            411\n",
       "9          Chicago Bulls            341"
      ]
     },
     "execution_count": 8,
     "metadata": {},
     "output_type": "execute_result"
    }
   ],
   "source": [
    "query = \"\"\"\n",
    "        SELECT\n",
    "            nameTeam as nba_team,\n",
    "            COUNT(DISTINCT idPlayer) as total_drafted\n",
    "        FROM Draft\n",
    "        Group BY idTeam\n",
    "        ORDER BY total_drafted DESC\n",
    "        LIMIT 10;\n",
    "\"\"\"\n",
    "\n",
    "nba_team_draft_total = pd.read_sql(query, connection)\n",
    "nba_team_draft_total"
   ]
  },
  {
   "cell_type": "markdown",
   "metadata": {},
   "source": [
    "#### When did the teams first started to draft players fro the universities?"
   ]
  },
  {
   "cell_type": "code",
   "execution_count": 9,
   "metadata": {},
   "outputs": [
    {
     "data": {
      "text/html": [
       "<div>\n",
       "<style scoped>\n",
       "    .dataframe tbody tr th:only-of-type {\n",
       "        vertical-align: middle;\n",
       "    }\n",
       "\n",
       "    .dataframe tbody tr th {\n",
       "        vertical-align: top;\n",
       "    }\n",
       "\n",
       "    .dataframe thead th {\n",
       "        text-align: right;\n",
       "    }\n",
       "</style>\n",
       "<table border=\"1\" class=\"dataframe\">\n",
       "  <thead>\n",
       "    <tr style=\"text-align: right;\">\n",
       "      <th></th>\n",
       "      <th>first_draft_year</th>\n",
       "      <th>nba_team</th>\n",
       "      <th>years_drafted</th>\n",
       "      <th>total_drafted_to_date</th>\n",
       "    </tr>\n",
       "  </thead>\n",
       "  <tbody>\n",
       "    <tr>\n",
       "      <th>0</th>\n",
       "      <td>1949.0</td>\n",
       "      <td>Baltimore Bullets</td>\n",
       "      <td>6</td>\n",
       "      <td>68</td>\n",
       "    </tr>\n",
       "    <tr>\n",
       "      <th>1</th>\n",
       "      <td>1949.0</td>\n",
       "      <td>Chicago Stags</td>\n",
       "      <td>2</td>\n",
       "      <td>13</td>\n",
       "    </tr>\n",
       "    <tr>\n",
       "      <th>2</th>\n",
       "      <td>1949.0</td>\n",
       "      <td>Indianapolis Olympians</td>\n",
       "      <td>4</td>\n",
       "      <td>36</td>\n",
       "    </tr>\n",
       "    <tr>\n",
       "      <th>3</th>\n",
       "      <td>1949.0</td>\n",
       "      <td>Providence Steamrollers</td>\n",
       "      <td>1</td>\n",
       "      <td>9</td>\n",
       "    </tr>\n",
       "    <tr>\n",
       "      <th>4</th>\n",
       "      <td>1949.0</td>\n",
       "      <td>St. Louis Bombers</td>\n",
       "      <td>1</td>\n",
       "      <td>10</td>\n",
       "    </tr>\n",
       "  </tbody>\n",
       "</table>\n",
       "</div>"
      ],
      "text/plain": [
       "   first_draft_year                 nba_team  years_drafted  \\\n",
       "0            1949.0        Baltimore Bullets              6   \n",
       "1            1949.0            Chicago Stags              2   \n",
       "2            1949.0   Indianapolis Olympians              4   \n",
       "3            1949.0  Providence Steamrollers              1   \n",
       "4            1949.0        St. Louis Bombers              1   \n",
       "\n",
       "   total_drafted_to_date  \n",
       "0                     68  \n",
       "1                     13  \n",
       "2                     36  \n",
       "3                      9  \n",
       "4                     10  "
      ]
     },
     "execution_count": 9,
     "metadata": {},
     "output_type": "execute_result"
    }
   ],
   "source": [
    "query = \"\"\"\n",
    "        SELECT\n",
    "            MIN(yearDraft) as first_draft_year,\n",
    "            nameTeam as nba_team,\n",
    "            COUNT(DISTINCT yearDraft) AS years_drafted,\n",
    "            COUNT(DISTINCT idPlayer) AS total_drafted_to_date\n",
    "        FROM Draft\n",
    "        GROUP BY idTeam\n",
    "        ORDER BY first_draft_year;\n",
    "\"\"\"\n",
    "\n",
    "nba_team_first_draft_year = pd.read_sql(query, connection)\n",
    "nba_team_first_draft_year.head()"
   ]
  },
  {
   "cell_type": "markdown",
   "metadata": {},
   "source": [
    "#### For each year, how many team first started drafting new players?"
   ]
  },
  {
   "cell_type": "code",
   "execution_count": 10,
   "metadata": {},
   "outputs": [
    {
     "data": {
      "text/plain": [
       "1949.0    12\n",
       "1977.0     4\n",
       "1970.0     3\n",
       "1950.0     2\n",
       "1967.0     2\n",
       "1968.0     2\n",
       "1988.0     2\n",
       "1989.0     2\n",
       "1995.0     2\n",
       "1961.0     1\n",
       "1966.0     1\n",
       "1974.0     1\n",
       "1980.0     1\n",
       "2003.0     1\n",
       "Name: first_draft_year, dtype: int64"
      ]
     },
     "execution_count": 10,
     "metadata": {},
     "output_type": "execute_result"
    }
   ],
   "source": [
    "nba_team_first_draft_year[\"first_draft_year\"].value_counts()"
   ]
  },
  {
   "cell_type": "markdown",
   "metadata": {},
   "source": [
    "#### Top 5 teams with the most years of drafts"
   ]
  },
  {
   "cell_type": "code",
   "execution_count": 11,
   "metadata": {},
   "outputs": [
    {
     "data": {
      "text/html": [
       "<div>\n",
       "<style scoped>\n",
       "    .dataframe tbody tr th:only-of-type {\n",
       "        vertical-align: middle;\n",
       "    }\n",
       "\n",
       "    .dataframe tbody tr th {\n",
       "        vertical-align: top;\n",
       "    }\n",
       "\n",
       "    .dataframe thead th {\n",
       "        text-align: right;\n",
       "    }\n",
       "</style>\n",
       "<table border=\"1\" class=\"dataframe\">\n",
       "  <thead>\n",
       "    <tr style=\"text-align: right;\">\n",
       "      <th></th>\n",
       "      <th>first_draft_year</th>\n",
       "      <th>nba_team</th>\n",
       "      <th>years_drafted</th>\n",
       "      <th>total_drafted_to_date</th>\n",
       "    </tr>\n",
       "  </thead>\n",
       "  <tbody>\n",
       "    <tr>\n",
       "      <th>6</th>\n",
       "      <td>1949.0</td>\n",
       "      <td>Boston Celtics</td>\n",
       "      <td>72</td>\n",
       "      <td>448</td>\n",
       "    </tr>\n",
       "    <tr>\n",
       "      <th>11</th>\n",
       "      <td>1949.0</td>\n",
       "      <td>Ft. Wayne Zollner Pistons</td>\n",
       "      <td>72</td>\n",
       "      <td>431</td>\n",
       "    </tr>\n",
       "    <tr>\n",
       "      <th>13</th>\n",
       "      <td>1950.0</td>\n",
       "      <td>Syracuse Nationals</td>\n",
       "      <td>71</td>\n",
       "      <td>487</td>\n",
       "    </tr>\n",
       "    <tr>\n",
       "      <th>8</th>\n",
       "      <td>1949.0</td>\n",
       "      <td>Minneapolis Lakers</td>\n",
       "      <td>71</td>\n",
       "      <td>426</td>\n",
       "    </tr>\n",
       "    <tr>\n",
       "      <th>10</th>\n",
       "      <td>1949.0</td>\n",
       "      <td>Rochester Royals</td>\n",
       "      <td>71</td>\n",
       "      <td>511</td>\n",
       "    </tr>\n",
       "  </tbody>\n",
       "</table>\n",
       "</div>"
      ],
      "text/plain": [
       "    first_draft_year                   nba_team  years_drafted  \\\n",
       "6             1949.0             Boston Celtics             72   \n",
       "11            1949.0  Ft. Wayne Zollner Pistons             72   \n",
       "13            1950.0         Syracuse Nationals             71   \n",
       "8             1949.0         Minneapolis Lakers             71   \n",
       "10            1949.0           Rochester Royals             71   \n",
       "\n",
       "    total_drafted_to_date  \n",
       "6                     448  \n",
       "11                    431  \n",
       "13                    487  \n",
       "8                     426  \n",
       "10                    511  "
      ]
     },
     "execution_count": 11,
     "metadata": {},
     "output_type": "execute_result"
    }
   ],
   "source": [
    "nba_team_first_draft_year.sort_values(\"years_drafted\", ascending=False).head()"
   ]
  },
  {
   "cell_type": "markdown",
   "metadata": {},
   "source": [
    "#### Do most of the players coming from high school, university or from other professional basketball team?"
   ]
  },
  {
   "cell_type": "code",
   "execution_count": 12,
   "metadata": {},
   "outputs": [
    {
     "data": {
      "text/html": [
       "<div>\n",
       "<style scoped>\n",
       "    .dataframe tbody tr th:only-of-type {\n",
       "        vertical-align: middle;\n",
       "    }\n",
       "\n",
       "    .dataframe tbody tr th {\n",
       "        vertical-align: top;\n",
       "    }\n",
       "\n",
       "    .dataframe thead th {\n",
       "        text-align: right;\n",
       "    }\n",
       "</style>\n",
       "<table border=\"1\" class=\"dataframe\">\n",
       "  <thead>\n",
       "    <tr style=\"text-align: right;\">\n",
       "      <th></th>\n",
       "      <th>organization</th>\n",
       "      <th>player_count</th>\n",
       "    </tr>\n",
       "  </thead>\n",
       "  <tbody>\n",
       "    <tr>\n",
       "      <th>0</th>\n",
       "      <td>None</td>\n",
       "      <td>15</td>\n",
       "    </tr>\n",
       "    <tr>\n",
       "      <th>1</th>\n",
       "      <td>College/University</td>\n",
       "      <td>7389</td>\n",
       "    </tr>\n",
       "    <tr>\n",
       "      <th>2</th>\n",
       "      <td>High School</td>\n",
       "      <td>48</td>\n",
       "    </tr>\n",
       "    <tr>\n",
       "      <th>3</th>\n",
       "      <td>Other Team/Club</td>\n",
       "      <td>304</td>\n",
       "    </tr>\n",
       "  </tbody>\n",
       "</table>\n",
       "</div>"
      ],
      "text/plain": [
       "         organization  player_count\n",
       "0                None            15\n",
       "1  College/University          7389\n",
       "2         High School            48\n",
       "3     Other Team/Club           304"
      ]
     },
     "execution_count": 12,
     "metadata": {},
     "output_type": "execute_result"
    }
   ],
   "source": [
    "query = \"\"\"\n",
    "        SELECT\n",
    "            typeOrganizationFrom AS organization,\n",
    "            COUNT (DISTINCT idPLayer) AS player_count\n",
    "        FROM Draft\n",
    "        GROUP BY typeOrganizationFrom;\n",
    "\"\"\"\n",
    "\n",
    "draft_player_org = pd.read_sql(query, connection)\n",
    "draft_player_org"
   ]
  },
  {
   "cell_type": "code",
   "execution_count": 13,
   "metadata": {},
   "outputs": [
    {
     "data": {
      "application/vnd.plotly.v1+json": {
       "config": {
        "plotlyServerURL": "https://plot.ly"
       },
       "data": [
        {
         "domain": {
          "x": [
           0,
           1
          ],
          "y": [
           0,
           1
          ]
         },
         "hole": 0.3,
         "hovertemplate": "organization=%{label}<br>player_count=%{value}<extra></extra>",
         "labels": [
          "College/University",
          "High School",
          "Other Team/Club"
         ],
         "legendgroup": "",
         "name": "",
         "showlegend": true,
         "type": "pie",
         "values": [
          7389,
          48,
          304
         ]
        }
       ],
       "layout": {
        "legend": {
         "tracegroupgap": 0
        },
        "template": {
         "data": {
          "bar": [
           {
            "error_x": {
             "color": "#2a3f5f"
            },
            "error_y": {
             "color": "#2a3f5f"
            },
            "marker": {
             "line": {
              "color": "#E5ECF6",
              "width": 0.5
             },
             "pattern": {
              "fillmode": "overlay",
              "size": 10,
              "solidity": 0.2
             }
            },
            "type": "bar"
           }
          ],
          "barpolar": [
           {
            "marker": {
             "line": {
              "color": "#E5ECF6",
              "width": 0.5
             },
             "pattern": {
              "fillmode": "overlay",
              "size": 10,
              "solidity": 0.2
             }
            },
            "type": "barpolar"
           }
          ],
          "carpet": [
           {
            "aaxis": {
             "endlinecolor": "#2a3f5f",
             "gridcolor": "white",
             "linecolor": "white",
             "minorgridcolor": "white",
             "startlinecolor": "#2a3f5f"
            },
            "baxis": {
             "endlinecolor": "#2a3f5f",
             "gridcolor": "white",
             "linecolor": "white",
             "minorgridcolor": "white",
             "startlinecolor": "#2a3f5f"
            },
            "type": "carpet"
           }
          ],
          "choropleth": [
           {
            "colorbar": {
             "outlinewidth": 0,
             "ticks": ""
            },
            "type": "choropleth"
           }
          ],
          "contour": [
           {
            "colorbar": {
             "outlinewidth": 0,
             "ticks": ""
            },
            "colorscale": [
             [
              0,
              "#0d0887"
             ],
             [
              0.1111111111111111,
              "#46039f"
             ],
             [
              0.2222222222222222,
              "#7201a8"
             ],
             [
              0.3333333333333333,
              "#9c179e"
             ],
             [
              0.4444444444444444,
              "#bd3786"
             ],
             [
              0.5555555555555556,
              "#d8576b"
             ],
             [
              0.6666666666666666,
              "#ed7953"
             ],
             [
              0.7777777777777778,
              "#fb9f3a"
             ],
             [
              0.8888888888888888,
              "#fdca26"
             ],
             [
              1,
              "#f0f921"
             ]
            ],
            "type": "contour"
           }
          ],
          "contourcarpet": [
           {
            "colorbar": {
             "outlinewidth": 0,
             "ticks": ""
            },
            "type": "contourcarpet"
           }
          ],
          "heatmap": [
           {
            "colorbar": {
             "outlinewidth": 0,
             "ticks": ""
            },
            "colorscale": [
             [
              0,
              "#0d0887"
             ],
             [
              0.1111111111111111,
              "#46039f"
             ],
             [
              0.2222222222222222,
              "#7201a8"
             ],
             [
              0.3333333333333333,
              "#9c179e"
             ],
             [
              0.4444444444444444,
              "#bd3786"
             ],
             [
              0.5555555555555556,
              "#d8576b"
             ],
             [
              0.6666666666666666,
              "#ed7953"
             ],
             [
              0.7777777777777778,
              "#fb9f3a"
             ],
             [
              0.8888888888888888,
              "#fdca26"
             ],
             [
              1,
              "#f0f921"
             ]
            ],
            "type": "heatmap"
           }
          ],
          "heatmapgl": [
           {
            "colorbar": {
             "outlinewidth": 0,
             "ticks": ""
            },
            "colorscale": [
             [
              0,
              "#0d0887"
             ],
             [
              0.1111111111111111,
              "#46039f"
             ],
             [
              0.2222222222222222,
              "#7201a8"
             ],
             [
              0.3333333333333333,
              "#9c179e"
             ],
             [
              0.4444444444444444,
              "#bd3786"
             ],
             [
              0.5555555555555556,
              "#d8576b"
             ],
             [
              0.6666666666666666,
              "#ed7953"
             ],
             [
              0.7777777777777778,
              "#fb9f3a"
             ],
             [
              0.8888888888888888,
              "#fdca26"
             ],
             [
              1,
              "#f0f921"
             ]
            ],
            "type": "heatmapgl"
           }
          ],
          "histogram": [
           {
            "marker": {
             "pattern": {
              "fillmode": "overlay",
              "size": 10,
              "solidity": 0.2
             }
            },
            "type": "histogram"
           }
          ],
          "histogram2d": [
           {
            "colorbar": {
             "outlinewidth": 0,
             "ticks": ""
            },
            "colorscale": [
             [
              0,
              "#0d0887"
             ],
             [
              0.1111111111111111,
              "#46039f"
             ],
             [
              0.2222222222222222,
              "#7201a8"
             ],
             [
              0.3333333333333333,
              "#9c179e"
             ],
             [
              0.4444444444444444,
              "#bd3786"
             ],
             [
              0.5555555555555556,
              "#d8576b"
             ],
             [
              0.6666666666666666,
              "#ed7953"
             ],
             [
              0.7777777777777778,
              "#fb9f3a"
             ],
             [
              0.8888888888888888,
              "#fdca26"
             ],
             [
              1,
              "#f0f921"
             ]
            ],
            "type": "histogram2d"
           }
          ],
          "histogram2dcontour": [
           {
            "colorbar": {
             "outlinewidth": 0,
             "ticks": ""
            },
            "colorscale": [
             [
              0,
              "#0d0887"
             ],
             [
              0.1111111111111111,
              "#46039f"
             ],
             [
              0.2222222222222222,
              "#7201a8"
             ],
             [
              0.3333333333333333,
              "#9c179e"
             ],
             [
              0.4444444444444444,
              "#bd3786"
             ],
             [
              0.5555555555555556,
              "#d8576b"
             ],
             [
              0.6666666666666666,
              "#ed7953"
             ],
             [
              0.7777777777777778,
              "#fb9f3a"
             ],
             [
              0.8888888888888888,
              "#fdca26"
             ],
             [
              1,
              "#f0f921"
             ]
            ],
            "type": "histogram2dcontour"
           }
          ],
          "mesh3d": [
           {
            "colorbar": {
             "outlinewidth": 0,
             "ticks": ""
            },
            "type": "mesh3d"
           }
          ],
          "parcoords": [
           {
            "line": {
             "colorbar": {
              "outlinewidth": 0,
              "ticks": ""
             }
            },
            "type": "parcoords"
           }
          ],
          "pie": [
           {
            "automargin": true,
            "type": "pie"
           }
          ],
          "scatter": [
           {
            "fillpattern": {
             "fillmode": "overlay",
             "size": 10,
             "solidity": 0.2
            },
            "type": "scatter"
           }
          ],
          "scatter3d": [
           {
            "line": {
             "colorbar": {
              "outlinewidth": 0,
              "ticks": ""
             }
            },
            "marker": {
             "colorbar": {
              "outlinewidth": 0,
              "ticks": ""
             }
            },
            "type": "scatter3d"
           }
          ],
          "scattercarpet": [
           {
            "marker": {
             "colorbar": {
              "outlinewidth": 0,
              "ticks": ""
             }
            },
            "type": "scattercarpet"
           }
          ],
          "scattergeo": [
           {
            "marker": {
             "colorbar": {
              "outlinewidth": 0,
              "ticks": ""
             }
            },
            "type": "scattergeo"
           }
          ],
          "scattergl": [
           {
            "marker": {
             "colorbar": {
              "outlinewidth": 0,
              "ticks": ""
             }
            },
            "type": "scattergl"
           }
          ],
          "scattermapbox": [
           {
            "marker": {
             "colorbar": {
              "outlinewidth": 0,
              "ticks": ""
             }
            },
            "type": "scattermapbox"
           }
          ],
          "scatterpolar": [
           {
            "marker": {
             "colorbar": {
              "outlinewidth": 0,
              "ticks": ""
             }
            },
            "type": "scatterpolar"
           }
          ],
          "scatterpolargl": [
           {
            "marker": {
             "colorbar": {
              "outlinewidth": 0,
              "ticks": ""
             }
            },
            "type": "scatterpolargl"
           }
          ],
          "scatterternary": [
           {
            "marker": {
             "colorbar": {
              "outlinewidth": 0,
              "ticks": ""
             }
            },
            "type": "scatterternary"
           }
          ],
          "surface": [
           {
            "colorbar": {
             "outlinewidth": 0,
             "ticks": ""
            },
            "colorscale": [
             [
              0,
              "#0d0887"
             ],
             [
              0.1111111111111111,
              "#46039f"
             ],
             [
              0.2222222222222222,
              "#7201a8"
             ],
             [
              0.3333333333333333,
              "#9c179e"
             ],
             [
              0.4444444444444444,
              "#bd3786"
             ],
             [
              0.5555555555555556,
              "#d8576b"
             ],
             [
              0.6666666666666666,
              "#ed7953"
             ],
             [
              0.7777777777777778,
              "#fb9f3a"
             ],
             [
              0.8888888888888888,
              "#fdca26"
             ],
             [
              1,
              "#f0f921"
             ]
            ],
            "type": "surface"
           }
          ],
          "table": [
           {
            "cells": {
             "fill": {
              "color": "#EBF0F8"
             },
             "line": {
              "color": "white"
             }
            },
            "header": {
             "fill": {
              "color": "#C8D4E3"
             },
             "line": {
              "color": "white"
             }
            },
            "type": "table"
           }
          ]
         },
         "layout": {
          "annotationdefaults": {
           "arrowcolor": "#2a3f5f",
           "arrowhead": 0,
           "arrowwidth": 1
          },
          "autotypenumbers": "strict",
          "coloraxis": {
           "colorbar": {
            "outlinewidth": 0,
            "ticks": ""
           }
          },
          "colorscale": {
           "diverging": [
            [
             0,
             "#8e0152"
            ],
            [
             0.1,
             "#c51b7d"
            ],
            [
             0.2,
             "#de77ae"
            ],
            [
             0.3,
             "#f1b6da"
            ],
            [
             0.4,
             "#fde0ef"
            ],
            [
             0.5,
             "#f7f7f7"
            ],
            [
             0.6,
             "#e6f5d0"
            ],
            [
             0.7,
             "#b8e186"
            ],
            [
             0.8,
             "#7fbc41"
            ],
            [
             0.9,
             "#4d9221"
            ],
            [
             1,
             "#276419"
            ]
           ],
           "sequential": [
            [
             0,
             "#0d0887"
            ],
            [
             0.1111111111111111,
             "#46039f"
            ],
            [
             0.2222222222222222,
             "#7201a8"
            ],
            [
             0.3333333333333333,
             "#9c179e"
            ],
            [
             0.4444444444444444,
             "#bd3786"
            ],
            [
             0.5555555555555556,
             "#d8576b"
            ],
            [
             0.6666666666666666,
             "#ed7953"
            ],
            [
             0.7777777777777778,
             "#fb9f3a"
            ],
            [
             0.8888888888888888,
             "#fdca26"
            ],
            [
             1,
             "#f0f921"
            ]
           ],
           "sequentialminus": [
            [
             0,
             "#0d0887"
            ],
            [
             0.1111111111111111,
             "#46039f"
            ],
            [
             0.2222222222222222,
             "#7201a8"
            ],
            [
             0.3333333333333333,
             "#9c179e"
            ],
            [
             0.4444444444444444,
             "#bd3786"
            ],
            [
             0.5555555555555556,
             "#d8576b"
            ],
            [
             0.6666666666666666,
             "#ed7953"
            ],
            [
             0.7777777777777778,
             "#fb9f3a"
            ],
            [
             0.8888888888888888,
             "#fdca26"
            ],
            [
             1,
             "#f0f921"
            ]
           ]
          },
          "colorway": [
           "#636efa",
           "#EF553B",
           "#00cc96",
           "#ab63fa",
           "#FFA15A",
           "#19d3f3",
           "#FF6692",
           "#B6E880",
           "#FF97FF",
           "#FECB52"
          ],
          "font": {
           "color": "#2a3f5f"
          },
          "geo": {
           "bgcolor": "white",
           "lakecolor": "white",
           "landcolor": "#E5ECF6",
           "showlakes": true,
           "showland": true,
           "subunitcolor": "white"
          },
          "hoverlabel": {
           "align": "left"
          },
          "hovermode": "closest",
          "mapbox": {
           "style": "light"
          },
          "paper_bgcolor": "white",
          "plot_bgcolor": "#E5ECF6",
          "polar": {
           "angularaxis": {
            "gridcolor": "white",
            "linecolor": "white",
            "ticks": ""
           },
           "bgcolor": "#E5ECF6",
           "radialaxis": {
            "gridcolor": "white",
            "linecolor": "white",
            "ticks": ""
           }
          },
          "scene": {
           "xaxis": {
            "backgroundcolor": "#E5ECF6",
            "gridcolor": "white",
            "gridwidth": 2,
            "linecolor": "white",
            "showbackground": true,
            "ticks": "",
            "zerolinecolor": "white"
           },
           "yaxis": {
            "backgroundcolor": "#E5ECF6",
            "gridcolor": "white",
            "gridwidth": 2,
            "linecolor": "white",
            "showbackground": true,
            "ticks": "",
            "zerolinecolor": "white"
           },
           "zaxis": {
            "backgroundcolor": "#E5ECF6",
            "gridcolor": "white",
            "gridwidth": 2,
            "linecolor": "white",
            "showbackground": true,
            "ticks": "",
            "zerolinecolor": "white"
           }
          },
          "shapedefaults": {
           "line": {
            "color": "#2a3f5f"
           }
          },
          "ternary": {
           "aaxis": {
            "gridcolor": "white",
            "linecolor": "white",
            "ticks": ""
           },
           "baxis": {
            "gridcolor": "white",
            "linecolor": "white",
            "ticks": ""
           },
           "bgcolor": "#E5ECF6",
           "caxis": {
            "gridcolor": "white",
            "linecolor": "white",
            "ticks": ""
           }
          },
          "title": {
           "x": 0.05
          },
          "xaxis": {
           "automargin": true,
           "gridcolor": "white",
           "linecolor": "white",
           "ticks": "",
           "title": {
            "standoff": 15
           },
           "zerolinecolor": "white",
           "zerolinewidth": 2
          },
          "yaxis": {
           "automargin": true,
           "gridcolor": "white",
           "linecolor": "white",
           "ticks": "",
           "title": {
            "standoff": 15
           },
           "zerolinecolor": "white",
           "zerolinewidth": 2
          }
         }
        },
        "title": {
         "text": "Drafted player organization breakdown"
        }
       }
      }
     },
     "metadata": {},
     "output_type": "display_data"
    }
   ],
   "source": [
    "# Didn't including the None answers\n",
    "\n",
    "px.pie(draft_player_org.iloc[1:,], values=\"player_count\", names=\"organization\",\n",
    "       hole=0.3, title=\"Drafted player organization breakdown\")"
   ]
  },
  {
   "cell_type": "markdown",
   "metadata": {},
   "source": [
    "#### Trend Line"
   ]
  },
  {
   "cell_type": "code",
   "execution_count": 14,
   "metadata": {},
   "outputs": [
    {
     "data": {
      "text/html": [
       "<div>\n",
       "<style scoped>\n",
       "    .dataframe tbody tr th:only-of-type {\n",
       "        vertical-align: middle;\n",
       "    }\n",
       "\n",
       "    .dataframe tbody tr th {\n",
       "        vertical-align: top;\n",
       "    }\n",
       "\n",
       "    .dataframe thead th {\n",
       "        text-align: right;\n",
       "    }\n",
       "</style>\n",
       "<table border=\"1\" class=\"dataframe\">\n",
       "  <thead>\n",
       "    <tr style=\"text-align: right;\">\n",
       "      <th></th>\n",
       "      <th>year_drafted</th>\n",
       "      <th>organization</th>\n",
       "      <th>drafted_count</th>\n",
       "    </tr>\n",
       "  </thead>\n",
       "  <tbody>\n",
       "    <tr>\n",
       "      <th>0</th>\n",
       "      <td>1949</td>\n",
       "      <td>College/University</td>\n",
       "      <td>75</td>\n",
       "    </tr>\n",
       "    <tr>\n",
       "      <th>1</th>\n",
       "      <td>1950</td>\n",
       "      <td>College/University</td>\n",
       "      <td>121</td>\n",
       "    </tr>\n",
       "    <tr>\n",
       "      <th>2</th>\n",
       "      <td>1951</td>\n",
       "      <td>College/University</td>\n",
       "      <td>87</td>\n",
       "    </tr>\n",
       "    <tr>\n",
       "      <th>3</th>\n",
       "      <td>1952</td>\n",
       "      <td>College/University</td>\n",
       "      <td>106</td>\n",
       "    </tr>\n",
       "    <tr>\n",
       "      <th>4</th>\n",
       "      <td>1953</td>\n",
       "      <td>None</td>\n",
       "      <td>6</td>\n",
       "    </tr>\n",
       "    <tr>\n",
       "      <th>...</th>\n",
       "      <td>...</td>\n",
       "      <td>...</td>\n",
       "      <td>...</td>\n",
       "    </tr>\n",
       "    <tr>\n",
       "      <th>136</th>\n",
       "      <td>2019</td>\n",
       "      <td>High School</td>\n",
       "      <td>1</td>\n",
       "    </tr>\n",
       "    <tr>\n",
       "      <th>137</th>\n",
       "      <td>2019</td>\n",
       "      <td>Other Team/Club</td>\n",
       "      <td>7</td>\n",
       "    </tr>\n",
       "    <tr>\n",
       "      <th>138</th>\n",
       "      <td>2020</td>\n",
       "      <td>College/University</td>\n",
       "      <td>49</td>\n",
       "    </tr>\n",
       "    <tr>\n",
       "      <th>139</th>\n",
       "      <td>2020</td>\n",
       "      <td>High School</td>\n",
       "      <td>1</td>\n",
       "    </tr>\n",
       "    <tr>\n",
       "      <th>140</th>\n",
       "      <td>2020</td>\n",
       "      <td>Other Team/Club</td>\n",
       "      <td>10</td>\n",
       "    </tr>\n",
       "  </tbody>\n",
       "</table>\n",
       "<p>141 rows × 3 columns</p>\n",
       "</div>"
      ],
      "text/plain": [
       "     year_drafted        organization  drafted_count\n",
       "0            1949  College/University             75\n",
       "1            1950  College/University            121\n",
       "2            1951  College/University             87\n",
       "3            1952  College/University            106\n",
       "4            1953                None              6\n",
       "..            ...                 ...            ...\n",
       "136          2019         High School              1\n",
       "137          2019     Other Team/Club              7\n",
       "138          2020  College/University             49\n",
       "139          2020         High School              1\n",
       "140          2020     Other Team/Club             10\n",
       "\n",
       "[141 rows x 3 columns]"
      ]
     },
     "execution_count": 14,
     "metadata": {},
     "output_type": "execute_result"
    }
   ],
   "source": [
    "query = \"\"\"\n",
    "        SELECT\n",
    "            yearDraft AS year_drafted,\n",
    "            typeOrganizationFrom AS organization,\n",
    "            COUNT (DISTINCT idPLayer) AS drafted_count\n",
    "        FROM Draft\n",
    "        GROUP BY yearDraft, typeOrganizationFrom;\n",
    "\"\"\"\n",
    "\n",
    "draft_player_org_trend = pd.read_sql(query, connection).astype({\"year_drafted\": int})\n",
    "draft_player_org_trend"
   ]
  },
  {
   "cell_type": "code",
   "execution_count": 15,
   "metadata": {},
   "outputs": [
    {
     "data": {
      "application/vnd.plotly.v1+json": {
       "config": {
        "plotlyServerURL": "https://plot.ly"
       },
       "data": [
        {
         "hovertemplate": "organization=College/University<br>year_drafted=%{x}<br>drafted_count=%{y}<extra></extra>",
         "legendgroup": "College/University",
         "line": {
          "color": "#636efa",
          "dash": "solid"
         },
         "marker": {
          "symbol": "circle"
         },
         "mode": "lines",
         "name": "College/University",
         "orientation": "v",
         "showlegend": true,
         "type": "scatter",
         "x": [
          1949,
          1950,
          1951,
          1952,
          1953,
          1954,
          1955,
          1956,
          1957,
          1958,
          1959,
          1960,
          1961,
          1962,
          1963,
          1964,
          1965,
          1966,
          1967,
          1968,
          1969,
          1970,
          1971,
          1972,
          1973,
          1974,
          1975,
          1976,
          1977,
          1978,
          1979,
          1980,
          1981,
          1982,
          1983,
          1984,
          1985,
          1986,
          1987,
          1988,
          1989,
          1990,
          1991,
          1992,
          1993,
          1994,
          1995,
          1996,
          1997,
          1998,
          1999,
          2000,
          2001,
          2002,
          2003,
          2004,
          2005,
          2006,
          2007,
          2008,
          2009,
          2010,
          2011,
          2012,
          2013,
          2014,
          2015,
          2016,
          2017,
          2018,
          2019,
          2020
         ],
         "xaxis": "x",
         "y": [
          75,
          121,
          87,
          106,
          116,
          99,
          94,
          92,
          83,
          88,
          85,
          100,
          107,
          101,
          83,
          101,
          111,
          112,
          162,
          211,
          218,
          237,
          236,
          198,
          211,
          178,
          171,
          173,
          170,
          202,
          202,
          214,
          222,
          225,
          226,
          227,
          158,
          157,
          155,
          74,
          52,
          52,
          53,
          53,
          52,
          52,
          54,
          51,
          50,
          50,
          51,
          46,
          45,
          42,
          34,
          38,
          37,
          44,
          47,
          48,
          47,
          53,
          47,
          52,
          47,
          45,
          46,
          43,
          50,
          51,
          52,
          49
         ],
         "yaxis": "y"
        },
        {
         "hovertemplate": "organization=High School<br>year_drafted=%{x}<br>drafted_count=%{y}<extra></extra>",
         "legendgroup": "High School",
         "line": {
          "color": "#EF553B",
          "dash": "solid"
         },
         "marker": {
          "symbol": "circle"
         },
         "mode": "lines",
         "name": "High School",
         "orientation": "v",
         "showlegend": true,
         "type": "scatter",
         "x": [
          1962,
          1963,
          1968,
          1975,
          1995,
          1996,
          1997,
          1998,
          1999,
          2000,
          2001,
          2002,
          2003,
          2004,
          2005,
          2015,
          2016,
          2018,
          2019,
          2020
         ],
         "xaxis": "x",
         "y": [
          1,
          1,
          1,
          2,
          1,
          2,
          1,
          3,
          2,
          2,
          5,
          1,
          5,
          8,
          9,
          1,
          1,
          1,
          1,
          1
         ],
         "yaxis": "y"
        },
        {
         "hovertemplate": "organization=Other Team/Club<br>year_drafted=%{x}<br>drafted_count=%{y}<extra></extra>",
         "legendgroup": "Other Team/Club",
         "line": {
          "color": "#00cc96",
          "dash": "solid"
         },
         "marker": {
          "symbol": "circle"
         },
         "mode": "lines",
         "name": "Other Team/Club",
         "orientation": "v",
         "showlegend": true,
         "type": "scatter",
         "x": [
          1970,
          1971,
          1975,
          1981,
          1984,
          1985,
          1986,
          1987,
          1988,
          1989,
          1990,
          1991,
          1992,
          1993,
          1994,
          1995,
          1996,
          1997,
          1998,
          1999,
          2000,
          2001,
          2002,
          2003,
          2004,
          2005,
          2006,
          2007,
          2008,
          2009,
          2010,
          2011,
          2012,
          2013,
          2014,
          2015,
          2016,
          2017,
          2018,
          2019,
          2020
         ],
         "xaxis": "x",
         "y": [
          2,
          1,
          1,
          1,
          1,
          4,
          5,
          6,
          1,
          2,
          2,
          1,
          1,
          2,
          2,
          3,
          5,
          6,
          5,
          5,
          10,
          7,
          14,
          19,
          13,
          14,
          16,
          13,
          12,
          13,
          7,
          13,
          8,
          13,
          15,
          13,
          15,
          10,
          7,
          7,
          10
         ],
         "yaxis": "y"
        }
       ],
       "layout": {
        "legend": {
         "title": {
          "text": "organization"
         },
         "tracegroupgap": 0
        },
        "template": {
         "data": {
          "bar": [
           {
            "error_x": {
             "color": "#2a3f5f"
            },
            "error_y": {
             "color": "#2a3f5f"
            },
            "marker": {
             "line": {
              "color": "#E5ECF6",
              "width": 0.5
             },
             "pattern": {
              "fillmode": "overlay",
              "size": 10,
              "solidity": 0.2
             }
            },
            "type": "bar"
           }
          ],
          "barpolar": [
           {
            "marker": {
             "line": {
              "color": "#E5ECF6",
              "width": 0.5
             },
             "pattern": {
              "fillmode": "overlay",
              "size": 10,
              "solidity": 0.2
             }
            },
            "type": "barpolar"
           }
          ],
          "carpet": [
           {
            "aaxis": {
             "endlinecolor": "#2a3f5f",
             "gridcolor": "white",
             "linecolor": "white",
             "minorgridcolor": "white",
             "startlinecolor": "#2a3f5f"
            },
            "baxis": {
             "endlinecolor": "#2a3f5f",
             "gridcolor": "white",
             "linecolor": "white",
             "minorgridcolor": "white",
             "startlinecolor": "#2a3f5f"
            },
            "type": "carpet"
           }
          ],
          "choropleth": [
           {
            "colorbar": {
             "outlinewidth": 0,
             "ticks": ""
            },
            "type": "choropleth"
           }
          ],
          "contour": [
           {
            "colorbar": {
             "outlinewidth": 0,
             "ticks": ""
            },
            "colorscale": [
             [
              0,
              "#0d0887"
             ],
             [
              0.1111111111111111,
              "#46039f"
             ],
             [
              0.2222222222222222,
              "#7201a8"
             ],
             [
              0.3333333333333333,
              "#9c179e"
             ],
             [
              0.4444444444444444,
              "#bd3786"
             ],
             [
              0.5555555555555556,
              "#d8576b"
             ],
             [
              0.6666666666666666,
              "#ed7953"
             ],
             [
              0.7777777777777778,
              "#fb9f3a"
             ],
             [
              0.8888888888888888,
              "#fdca26"
             ],
             [
              1,
              "#f0f921"
             ]
            ],
            "type": "contour"
           }
          ],
          "contourcarpet": [
           {
            "colorbar": {
             "outlinewidth": 0,
             "ticks": ""
            },
            "type": "contourcarpet"
           }
          ],
          "heatmap": [
           {
            "colorbar": {
             "outlinewidth": 0,
             "ticks": ""
            },
            "colorscale": [
             [
              0,
              "#0d0887"
             ],
             [
              0.1111111111111111,
              "#46039f"
             ],
             [
              0.2222222222222222,
              "#7201a8"
             ],
             [
              0.3333333333333333,
              "#9c179e"
             ],
             [
              0.4444444444444444,
              "#bd3786"
             ],
             [
              0.5555555555555556,
              "#d8576b"
             ],
             [
              0.6666666666666666,
              "#ed7953"
             ],
             [
              0.7777777777777778,
              "#fb9f3a"
             ],
             [
              0.8888888888888888,
              "#fdca26"
             ],
             [
              1,
              "#f0f921"
             ]
            ],
            "type": "heatmap"
           }
          ],
          "heatmapgl": [
           {
            "colorbar": {
             "outlinewidth": 0,
             "ticks": ""
            },
            "colorscale": [
             [
              0,
              "#0d0887"
             ],
             [
              0.1111111111111111,
              "#46039f"
             ],
             [
              0.2222222222222222,
              "#7201a8"
             ],
             [
              0.3333333333333333,
              "#9c179e"
             ],
             [
              0.4444444444444444,
              "#bd3786"
             ],
             [
              0.5555555555555556,
              "#d8576b"
             ],
             [
              0.6666666666666666,
              "#ed7953"
             ],
             [
              0.7777777777777778,
              "#fb9f3a"
             ],
             [
              0.8888888888888888,
              "#fdca26"
             ],
             [
              1,
              "#f0f921"
             ]
            ],
            "type": "heatmapgl"
           }
          ],
          "histogram": [
           {
            "marker": {
             "pattern": {
              "fillmode": "overlay",
              "size": 10,
              "solidity": 0.2
             }
            },
            "type": "histogram"
           }
          ],
          "histogram2d": [
           {
            "colorbar": {
             "outlinewidth": 0,
             "ticks": ""
            },
            "colorscale": [
             [
              0,
              "#0d0887"
             ],
             [
              0.1111111111111111,
              "#46039f"
             ],
             [
              0.2222222222222222,
              "#7201a8"
             ],
             [
              0.3333333333333333,
              "#9c179e"
             ],
             [
              0.4444444444444444,
              "#bd3786"
             ],
             [
              0.5555555555555556,
              "#d8576b"
             ],
             [
              0.6666666666666666,
              "#ed7953"
             ],
             [
              0.7777777777777778,
              "#fb9f3a"
             ],
             [
              0.8888888888888888,
              "#fdca26"
             ],
             [
              1,
              "#f0f921"
             ]
            ],
            "type": "histogram2d"
           }
          ],
          "histogram2dcontour": [
           {
            "colorbar": {
             "outlinewidth": 0,
             "ticks": ""
            },
            "colorscale": [
             [
              0,
              "#0d0887"
             ],
             [
              0.1111111111111111,
              "#46039f"
             ],
             [
              0.2222222222222222,
              "#7201a8"
             ],
             [
              0.3333333333333333,
              "#9c179e"
             ],
             [
              0.4444444444444444,
              "#bd3786"
             ],
             [
              0.5555555555555556,
              "#d8576b"
             ],
             [
              0.6666666666666666,
              "#ed7953"
             ],
             [
              0.7777777777777778,
              "#fb9f3a"
             ],
             [
              0.8888888888888888,
              "#fdca26"
             ],
             [
              1,
              "#f0f921"
             ]
            ],
            "type": "histogram2dcontour"
           }
          ],
          "mesh3d": [
           {
            "colorbar": {
             "outlinewidth": 0,
             "ticks": ""
            },
            "type": "mesh3d"
           }
          ],
          "parcoords": [
           {
            "line": {
             "colorbar": {
              "outlinewidth": 0,
              "ticks": ""
             }
            },
            "type": "parcoords"
           }
          ],
          "pie": [
           {
            "automargin": true,
            "type": "pie"
           }
          ],
          "scatter": [
           {
            "fillpattern": {
             "fillmode": "overlay",
             "size": 10,
             "solidity": 0.2
            },
            "type": "scatter"
           }
          ],
          "scatter3d": [
           {
            "line": {
             "colorbar": {
              "outlinewidth": 0,
              "ticks": ""
             }
            },
            "marker": {
             "colorbar": {
              "outlinewidth": 0,
              "ticks": ""
             }
            },
            "type": "scatter3d"
           }
          ],
          "scattercarpet": [
           {
            "marker": {
             "colorbar": {
              "outlinewidth": 0,
              "ticks": ""
             }
            },
            "type": "scattercarpet"
           }
          ],
          "scattergeo": [
           {
            "marker": {
             "colorbar": {
              "outlinewidth": 0,
              "ticks": ""
             }
            },
            "type": "scattergeo"
           }
          ],
          "scattergl": [
           {
            "marker": {
             "colorbar": {
              "outlinewidth": 0,
              "ticks": ""
             }
            },
            "type": "scattergl"
           }
          ],
          "scattermapbox": [
           {
            "marker": {
             "colorbar": {
              "outlinewidth": 0,
              "ticks": ""
             }
            },
            "type": "scattermapbox"
           }
          ],
          "scatterpolar": [
           {
            "marker": {
             "colorbar": {
              "outlinewidth": 0,
              "ticks": ""
             }
            },
            "type": "scatterpolar"
           }
          ],
          "scatterpolargl": [
           {
            "marker": {
             "colorbar": {
              "outlinewidth": 0,
              "ticks": ""
             }
            },
            "type": "scatterpolargl"
           }
          ],
          "scatterternary": [
           {
            "marker": {
             "colorbar": {
              "outlinewidth": 0,
              "ticks": ""
             }
            },
            "type": "scatterternary"
           }
          ],
          "surface": [
           {
            "colorbar": {
             "outlinewidth": 0,
             "ticks": ""
            },
            "colorscale": [
             [
              0,
              "#0d0887"
             ],
             [
              0.1111111111111111,
              "#46039f"
             ],
             [
              0.2222222222222222,
              "#7201a8"
             ],
             [
              0.3333333333333333,
              "#9c179e"
             ],
             [
              0.4444444444444444,
              "#bd3786"
             ],
             [
              0.5555555555555556,
              "#d8576b"
             ],
             [
              0.6666666666666666,
              "#ed7953"
             ],
             [
              0.7777777777777778,
              "#fb9f3a"
             ],
             [
              0.8888888888888888,
              "#fdca26"
             ],
             [
              1,
              "#f0f921"
             ]
            ],
            "type": "surface"
           }
          ],
          "table": [
           {
            "cells": {
             "fill": {
              "color": "#EBF0F8"
             },
             "line": {
              "color": "white"
             }
            },
            "header": {
             "fill": {
              "color": "#C8D4E3"
             },
             "line": {
              "color": "white"
             }
            },
            "type": "table"
           }
          ]
         },
         "layout": {
          "annotationdefaults": {
           "arrowcolor": "#2a3f5f",
           "arrowhead": 0,
           "arrowwidth": 1
          },
          "autotypenumbers": "strict",
          "coloraxis": {
           "colorbar": {
            "outlinewidth": 0,
            "ticks": ""
           }
          },
          "colorscale": {
           "diverging": [
            [
             0,
             "#8e0152"
            ],
            [
             0.1,
             "#c51b7d"
            ],
            [
             0.2,
             "#de77ae"
            ],
            [
             0.3,
             "#f1b6da"
            ],
            [
             0.4,
             "#fde0ef"
            ],
            [
             0.5,
             "#f7f7f7"
            ],
            [
             0.6,
             "#e6f5d0"
            ],
            [
             0.7,
             "#b8e186"
            ],
            [
             0.8,
             "#7fbc41"
            ],
            [
             0.9,
             "#4d9221"
            ],
            [
             1,
             "#276419"
            ]
           ],
           "sequential": [
            [
             0,
             "#0d0887"
            ],
            [
             0.1111111111111111,
             "#46039f"
            ],
            [
             0.2222222222222222,
             "#7201a8"
            ],
            [
             0.3333333333333333,
             "#9c179e"
            ],
            [
             0.4444444444444444,
             "#bd3786"
            ],
            [
             0.5555555555555556,
             "#d8576b"
            ],
            [
             0.6666666666666666,
             "#ed7953"
            ],
            [
             0.7777777777777778,
             "#fb9f3a"
            ],
            [
             0.8888888888888888,
             "#fdca26"
            ],
            [
             1,
             "#f0f921"
            ]
           ],
           "sequentialminus": [
            [
             0,
             "#0d0887"
            ],
            [
             0.1111111111111111,
             "#46039f"
            ],
            [
             0.2222222222222222,
             "#7201a8"
            ],
            [
             0.3333333333333333,
             "#9c179e"
            ],
            [
             0.4444444444444444,
             "#bd3786"
            ],
            [
             0.5555555555555556,
             "#d8576b"
            ],
            [
             0.6666666666666666,
             "#ed7953"
            ],
            [
             0.7777777777777778,
             "#fb9f3a"
            ],
            [
             0.8888888888888888,
             "#fdca26"
            ],
            [
             1,
             "#f0f921"
            ]
           ]
          },
          "colorway": [
           "#636efa",
           "#EF553B",
           "#00cc96",
           "#ab63fa",
           "#FFA15A",
           "#19d3f3",
           "#FF6692",
           "#B6E880",
           "#FF97FF",
           "#FECB52"
          ],
          "font": {
           "color": "#2a3f5f"
          },
          "geo": {
           "bgcolor": "white",
           "lakecolor": "white",
           "landcolor": "#E5ECF6",
           "showlakes": true,
           "showland": true,
           "subunitcolor": "white"
          },
          "hoverlabel": {
           "align": "left"
          },
          "hovermode": "closest",
          "mapbox": {
           "style": "light"
          },
          "paper_bgcolor": "white",
          "plot_bgcolor": "#E5ECF6",
          "polar": {
           "angularaxis": {
            "gridcolor": "white",
            "linecolor": "white",
            "ticks": ""
           },
           "bgcolor": "#E5ECF6",
           "radialaxis": {
            "gridcolor": "white",
            "linecolor": "white",
            "ticks": ""
           }
          },
          "scene": {
           "xaxis": {
            "backgroundcolor": "#E5ECF6",
            "gridcolor": "white",
            "gridwidth": 2,
            "linecolor": "white",
            "showbackground": true,
            "ticks": "",
            "zerolinecolor": "white"
           },
           "yaxis": {
            "backgroundcolor": "#E5ECF6",
            "gridcolor": "white",
            "gridwidth": 2,
            "linecolor": "white",
            "showbackground": true,
            "ticks": "",
            "zerolinecolor": "white"
           },
           "zaxis": {
            "backgroundcolor": "#E5ECF6",
            "gridcolor": "white",
            "gridwidth": 2,
            "linecolor": "white",
            "showbackground": true,
            "ticks": "",
            "zerolinecolor": "white"
           }
          },
          "shapedefaults": {
           "line": {
            "color": "#2a3f5f"
           }
          },
          "ternary": {
           "aaxis": {
            "gridcolor": "white",
            "linecolor": "white",
            "ticks": ""
           },
           "baxis": {
            "gridcolor": "white",
            "linecolor": "white",
            "ticks": ""
           },
           "bgcolor": "#E5ECF6",
           "caxis": {
            "gridcolor": "white",
            "linecolor": "white",
            "ticks": ""
           }
          },
          "title": {
           "x": 0.05
          },
          "xaxis": {
           "automargin": true,
           "gridcolor": "white",
           "linecolor": "white",
           "ticks": "",
           "title": {
            "standoff": 15
           },
           "zerolinecolor": "white",
           "zerolinewidth": 2
          },
          "yaxis": {
           "automargin": true,
           "gridcolor": "white",
           "linecolor": "white",
           "ticks": "",
           "title": {
            "standoff": 15
           },
           "zerolinecolor": "white",
           "zerolinewidth": 2
          }
         }
        },
        "title": {
         "text": "NBA drafting trend by player source organization type from 1949 to 2020"
        },
        "xaxis": {
         "anchor": "y",
         "domain": [
          0,
          1
         ],
         "title": {
          "text": "year_drafted"
         }
        },
        "yaxis": {
         "anchor": "x",
         "domain": [
          0,
          1
         ],
         "title": {
          "text": "drafted_count"
         }
        }
       }
      }
     },
     "metadata": {},
     "output_type": "display_data"
    }
   ],
   "source": [
    "px.line(draft_player_org_trend.dropna(), x='year_drafted', y='drafted_count', color='organization',\n",
    "        title='NBA drafting trend by player source organization type from 1949 to 2020')"
   ]
  },
  {
   "cell_type": "markdown",
   "metadata": {},
   "source": [
    "## Game Play Data Analysis"
   ]
  },
  {
   "cell_type": "markdown",
   "metadata": {},
   "source": [
    "#### From 1949 to 2020, how did the total number of participated teams count changes and how did the total game count changes along with it overall?"
   ]
  },
  {
   "cell_type": "code",
   "execution_count": 16,
   "metadata": {},
   "outputs": [],
   "source": [
    "# make subplot for dual axes plot\n",
    "from plotly.subplots import make_subplots"
   ]
  },
  {
   "cell_type": "code",
   "execution_count": 17,
   "metadata": {},
   "outputs": [
    {
     "data": {
      "text/html": [
       "<div>\n",
       "<style scoped>\n",
       "    .dataframe tbody tr th:only-of-type {\n",
       "        vertical-align: middle;\n",
       "    }\n",
       "\n",
       "    .dataframe tbody tr th {\n",
       "        vertical-align: top;\n",
       "    }\n",
       "\n",
       "    .dataframe thead th {\n",
       "        text-align: right;\n",
       "    }\n",
       "</style>\n",
       "<table border=\"1\" class=\"dataframe\">\n",
       "  <thead>\n",
       "    <tr style=\"text-align: right;\">\n",
       "      <th></th>\n",
       "      <th>season</th>\n",
       "      <th>total_team_count</th>\n",
       "      <th>total_game_count</th>\n",
       "    </tr>\n",
       "  </thead>\n",
       "  <tbody>\n",
       "    <tr>\n",
       "      <th>0</th>\n",
       "      <td>1946</td>\n",
       "      <td>11</td>\n",
       "      <td>331</td>\n",
       "    </tr>\n",
       "    <tr>\n",
       "      <th>1</th>\n",
       "      <td>1947</td>\n",
       "      <td>8</td>\n",
       "      <td>194</td>\n",
       "    </tr>\n",
       "    <tr>\n",
       "      <th>2</th>\n",
       "      <td>1948</td>\n",
       "      <td>12</td>\n",
       "      <td>360</td>\n",
       "    </tr>\n",
       "    <tr>\n",
       "      <th>3</th>\n",
       "      <td>1949</td>\n",
       "      <td>17</td>\n",
       "      <td>563</td>\n",
       "    </tr>\n",
       "    <tr>\n",
       "      <th>4</th>\n",
       "      <td>1950</td>\n",
       "      <td>11</td>\n",
       "      <td>354</td>\n",
       "    </tr>\n",
       "    <tr>\n",
       "      <th>...</th>\n",
       "      <td>...</td>\n",
       "      <td>...</td>\n",
       "      <td>...</td>\n",
       "    </tr>\n",
       "    <tr>\n",
       "      <th>70</th>\n",
       "      <td>2016</td>\n",
       "      <td>30</td>\n",
       "      <td>1230</td>\n",
       "    </tr>\n",
       "    <tr>\n",
       "      <th>71</th>\n",
       "      <td>2017</td>\n",
       "      <td>30</td>\n",
       "      <td>1230</td>\n",
       "    </tr>\n",
       "    <tr>\n",
       "      <th>72</th>\n",
       "      <td>2018</td>\n",
       "      <td>30</td>\n",
       "      <td>1230</td>\n",
       "    </tr>\n",
       "    <tr>\n",
       "      <th>73</th>\n",
       "      <td>2019</td>\n",
       "      <td>30</td>\n",
       "      <td>1059</td>\n",
       "    </tr>\n",
       "    <tr>\n",
       "      <th>74</th>\n",
       "      <td>2020</td>\n",
       "      <td>30</td>\n",
       "      <td>1080</td>\n",
       "    </tr>\n",
       "  </tbody>\n",
       "</table>\n",
       "<p>75 rows × 3 columns</p>\n",
       "</div>"
      ],
      "text/plain": [
       "    season  total_team_count  total_game_count\n",
       "0     1946                11               331\n",
       "1     1947                 8               194\n",
       "2     1948                12               360\n",
       "3     1949                17               563\n",
       "4     1950                11               354\n",
       "..     ...               ...               ...\n",
       "70    2016                30              1230\n",
       "71    2017                30              1230\n",
       "72    2018                30              1230\n",
       "73    2019                30              1059\n",
       "74    2020                30              1080\n",
       "\n",
       "[75 rows x 3 columns]"
      ]
     },
     "execution_count": 17,
     "metadata": {},
     "output_type": "execute_result"
    }
   ],
   "source": [
    "query = \"\"\"\n",
    "        SELECT\n",
    "            SEASON_ID-20000 AS season,\n",
    "            COUNT (DISTINCT TEAM_ID_HOME) AS total_team_count,\n",
    "            COUNT (DISTINCT GAME_ID) AS total_game_count\n",
    "        FROM Game\n",
    "        GROUP BY SEASON_ID\n",
    "\"\"\"\n",
    "\n",
    "team_and_game_count = pd.read_sql(query, connection)\n",
    "team_and_game_count"
   ]
  },
  {
   "cell_type": "markdown",
   "metadata": {},
   "source": [
    "#### Create visualization with two y axis for team and game total from 1946 to 2020"
   ]
  },
  {
   "cell_type": "code",
   "execution_count": 18,
   "metadata": {},
   "outputs": [
    {
     "data": {
      "application/vnd.plotly.v1+json": {
       "config": {
        "plotlyServerURL": "https://plot.ly"
       },
       "data": [
        {
         "alignmentgroup": "True",
         "hovertemplate": "season=%{x}<br>total_team_count=%{y}<extra></extra>",
         "legendgroup": "",
         "marker": {
          "color": "#636efa",
          "pattern": {
           "shape": ""
          }
         },
         "name": "team totals",
         "offsetgroup": "",
         "opacity": 0.6,
         "orientation": "v",
         "showlegend": true,
         "textposition": "auto",
         "type": "bar",
         "x": [
          1946,
          1947,
          1948,
          1949,
          1950,
          1951,
          1952,
          1953,
          1954,
          1955,
          1956,
          1957,
          1958,
          1959,
          1960,
          1961,
          1962,
          1963,
          1964,
          1965,
          1966,
          1967,
          1968,
          1969,
          1970,
          1971,
          1972,
          1973,
          1974,
          1975,
          1976,
          1977,
          1978,
          1979,
          1980,
          1981,
          1982,
          1983,
          1984,
          1985,
          1986,
          1987,
          1988,
          1989,
          1990,
          1991,
          1992,
          1993,
          1994,
          1995,
          1996,
          1997,
          1998,
          1999,
          2000,
          2001,
          2002,
          2003,
          2004,
          2005,
          2006,
          2007,
          2008,
          2009,
          2010,
          2011,
          2012,
          2013,
          2014,
          2015,
          2016,
          2017,
          2018,
          2019,
          2020
         ],
         "xaxis": "x",
         "y": [
          11,
          8,
          12,
          17,
          11,
          10,
          10,
          9,
          8,
          8,
          8,
          8,
          8,
          8,
          8,
          9,
          9,
          9,
          9,
          9,
          10,
          12,
          14,
          14,
          17,
          17,
          17,
          17,
          18,
          18,
          22,
          22,
          22,
          22,
          23,
          23,
          23,
          23,
          23,
          23,
          23,
          23,
          25,
          27,
          27,
          27,
          27,
          27,
          27,
          29,
          29,
          29,
          29,
          29,
          29,
          29,
          29,
          29,
          30,
          30,
          30,
          30,
          30,
          30,
          30,
          30,
          30,
          30,
          30,
          30,
          30,
          30,
          30,
          30,
          30
         ],
         "yaxis": "y"
        },
        {
         "hovertemplate": "season=%{x}<br>total_game_count=%{y}<extra></extra>",
         "legendgroup": "",
         "line": {
          "color": "red",
          "dash": "solid"
         },
         "marker": {
          "symbol": "circle"
         },
         "mode": "lines",
         "name": "game totals",
         "orientation": "v",
         "showlegend": true,
         "type": "scatter",
         "x": [
          1946,
          1947,
          1948,
          1949,
          1950,
          1951,
          1952,
          1953,
          1954,
          1955,
          1956,
          1957,
          1958,
          1959,
          1960,
          1961,
          1962,
          1963,
          1964,
          1965,
          1966,
          1967,
          1968,
          1969,
          1970,
          1971,
          1972,
          1973,
          1974,
          1975,
          1976,
          1977,
          1978,
          1979,
          1980,
          1981,
          1982,
          1983,
          1984,
          1985,
          1986,
          1987,
          1988,
          1989,
          1990,
          1991,
          1992,
          1993,
          1994,
          1995,
          1996,
          1997,
          1998,
          1999,
          2000,
          2001,
          2002,
          2003,
          2004,
          2005,
          2006,
          2007,
          2008,
          2009,
          2010,
          2011,
          2012,
          2013,
          2014,
          2015,
          2016,
          2017,
          2018,
          2019,
          2020
         ],
         "xaxis": "x",
         "y": [
          331,
          194,
          360,
          563,
          354,
          330,
          351,
          323,
          288,
          290,
          290,
          288,
          288,
          300,
          316,
          360,
          360,
          360,
          360,
          360,
          405,
          492,
          574,
          574,
          697,
          697,
          697,
          697,
          738,
          738,
          902,
          902,
          902,
          902,
          943,
          943,
          943,
          943,
          943,
          943,
          943,
          943,
          1025,
          1107,
          1107,
          1107,
          1107,
          1107,
          1107,
          1189,
          1189,
          1189,
          725,
          1189,
          1189,
          1189,
          1189,
          1189,
          1230,
          1230,
          1230,
          1230,
          1230,
          1230,
          1230,
          990,
          1229,
          1230,
          1230,
          1230,
          1230,
          1230,
          1230,
          1059,
          1080
         ],
         "yaxis": "y2"
        }
       ],
       "layout": {
        "template": {
         "data": {
          "bar": [
           {
            "error_x": {
             "color": "#2a3f5f"
            },
            "error_y": {
             "color": "#2a3f5f"
            },
            "marker": {
             "line": {
              "color": "#E5ECF6",
              "width": 0.5
             },
             "pattern": {
              "fillmode": "overlay",
              "size": 10,
              "solidity": 0.2
             }
            },
            "type": "bar"
           }
          ],
          "barpolar": [
           {
            "marker": {
             "line": {
              "color": "#E5ECF6",
              "width": 0.5
             },
             "pattern": {
              "fillmode": "overlay",
              "size": 10,
              "solidity": 0.2
             }
            },
            "type": "barpolar"
           }
          ],
          "carpet": [
           {
            "aaxis": {
             "endlinecolor": "#2a3f5f",
             "gridcolor": "white",
             "linecolor": "white",
             "minorgridcolor": "white",
             "startlinecolor": "#2a3f5f"
            },
            "baxis": {
             "endlinecolor": "#2a3f5f",
             "gridcolor": "white",
             "linecolor": "white",
             "minorgridcolor": "white",
             "startlinecolor": "#2a3f5f"
            },
            "type": "carpet"
           }
          ],
          "choropleth": [
           {
            "colorbar": {
             "outlinewidth": 0,
             "ticks": ""
            },
            "type": "choropleth"
           }
          ],
          "contour": [
           {
            "colorbar": {
             "outlinewidth": 0,
             "ticks": ""
            },
            "colorscale": [
             [
              0,
              "#0d0887"
             ],
             [
              0.1111111111111111,
              "#46039f"
             ],
             [
              0.2222222222222222,
              "#7201a8"
             ],
             [
              0.3333333333333333,
              "#9c179e"
             ],
             [
              0.4444444444444444,
              "#bd3786"
             ],
             [
              0.5555555555555556,
              "#d8576b"
             ],
             [
              0.6666666666666666,
              "#ed7953"
             ],
             [
              0.7777777777777778,
              "#fb9f3a"
             ],
             [
              0.8888888888888888,
              "#fdca26"
             ],
             [
              1,
              "#f0f921"
             ]
            ],
            "type": "contour"
           }
          ],
          "contourcarpet": [
           {
            "colorbar": {
             "outlinewidth": 0,
             "ticks": ""
            },
            "type": "contourcarpet"
           }
          ],
          "heatmap": [
           {
            "colorbar": {
             "outlinewidth": 0,
             "ticks": ""
            },
            "colorscale": [
             [
              0,
              "#0d0887"
             ],
             [
              0.1111111111111111,
              "#46039f"
             ],
             [
              0.2222222222222222,
              "#7201a8"
             ],
             [
              0.3333333333333333,
              "#9c179e"
             ],
             [
              0.4444444444444444,
              "#bd3786"
             ],
             [
              0.5555555555555556,
              "#d8576b"
             ],
             [
              0.6666666666666666,
              "#ed7953"
             ],
             [
              0.7777777777777778,
              "#fb9f3a"
             ],
             [
              0.8888888888888888,
              "#fdca26"
             ],
             [
              1,
              "#f0f921"
             ]
            ],
            "type": "heatmap"
           }
          ],
          "heatmapgl": [
           {
            "colorbar": {
             "outlinewidth": 0,
             "ticks": ""
            },
            "colorscale": [
             [
              0,
              "#0d0887"
             ],
             [
              0.1111111111111111,
              "#46039f"
             ],
             [
              0.2222222222222222,
              "#7201a8"
             ],
             [
              0.3333333333333333,
              "#9c179e"
             ],
             [
              0.4444444444444444,
              "#bd3786"
             ],
             [
              0.5555555555555556,
              "#d8576b"
             ],
             [
              0.6666666666666666,
              "#ed7953"
             ],
             [
              0.7777777777777778,
              "#fb9f3a"
             ],
             [
              0.8888888888888888,
              "#fdca26"
             ],
             [
              1,
              "#f0f921"
             ]
            ],
            "type": "heatmapgl"
           }
          ],
          "histogram": [
           {
            "marker": {
             "pattern": {
              "fillmode": "overlay",
              "size": 10,
              "solidity": 0.2
             }
            },
            "type": "histogram"
           }
          ],
          "histogram2d": [
           {
            "colorbar": {
             "outlinewidth": 0,
             "ticks": ""
            },
            "colorscale": [
             [
              0,
              "#0d0887"
             ],
             [
              0.1111111111111111,
              "#46039f"
             ],
             [
              0.2222222222222222,
              "#7201a8"
             ],
             [
              0.3333333333333333,
              "#9c179e"
             ],
             [
              0.4444444444444444,
              "#bd3786"
             ],
             [
              0.5555555555555556,
              "#d8576b"
             ],
             [
              0.6666666666666666,
              "#ed7953"
             ],
             [
              0.7777777777777778,
              "#fb9f3a"
             ],
             [
              0.8888888888888888,
              "#fdca26"
             ],
             [
              1,
              "#f0f921"
             ]
            ],
            "type": "histogram2d"
           }
          ],
          "histogram2dcontour": [
           {
            "colorbar": {
             "outlinewidth": 0,
             "ticks": ""
            },
            "colorscale": [
             [
              0,
              "#0d0887"
             ],
             [
              0.1111111111111111,
              "#46039f"
             ],
             [
              0.2222222222222222,
              "#7201a8"
             ],
             [
              0.3333333333333333,
              "#9c179e"
             ],
             [
              0.4444444444444444,
              "#bd3786"
             ],
             [
              0.5555555555555556,
              "#d8576b"
             ],
             [
              0.6666666666666666,
              "#ed7953"
             ],
             [
              0.7777777777777778,
              "#fb9f3a"
             ],
             [
              0.8888888888888888,
              "#fdca26"
             ],
             [
              1,
              "#f0f921"
             ]
            ],
            "type": "histogram2dcontour"
           }
          ],
          "mesh3d": [
           {
            "colorbar": {
             "outlinewidth": 0,
             "ticks": ""
            },
            "type": "mesh3d"
           }
          ],
          "parcoords": [
           {
            "line": {
             "colorbar": {
              "outlinewidth": 0,
              "ticks": ""
             }
            },
            "type": "parcoords"
           }
          ],
          "pie": [
           {
            "automargin": true,
            "type": "pie"
           }
          ],
          "scatter": [
           {
            "fillpattern": {
             "fillmode": "overlay",
             "size": 10,
             "solidity": 0.2
            },
            "type": "scatter"
           }
          ],
          "scatter3d": [
           {
            "line": {
             "colorbar": {
              "outlinewidth": 0,
              "ticks": ""
             }
            },
            "marker": {
             "colorbar": {
              "outlinewidth": 0,
              "ticks": ""
             }
            },
            "type": "scatter3d"
           }
          ],
          "scattercarpet": [
           {
            "marker": {
             "colorbar": {
              "outlinewidth": 0,
              "ticks": ""
             }
            },
            "type": "scattercarpet"
           }
          ],
          "scattergeo": [
           {
            "marker": {
             "colorbar": {
              "outlinewidth": 0,
              "ticks": ""
             }
            },
            "type": "scattergeo"
           }
          ],
          "scattergl": [
           {
            "marker": {
             "colorbar": {
              "outlinewidth": 0,
              "ticks": ""
             }
            },
            "type": "scattergl"
           }
          ],
          "scattermapbox": [
           {
            "marker": {
             "colorbar": {
              "outlinewidth": 0,
              "ticks": ""
             }
            },
            "type": "scattermapbox"
           }
          ],
          "scatterpolar": [
           {
            "marker": {
             "colorbar": {
              "outlinewidth": 0,
              "ticks": ""
             }
            },
            "type": "scatterpolar"
           }
          ],
          "scatterpolargl": [
           {
            "marker": {
             "colorbar": {
              "outlinewidth": 0,
              "ticks": ""
             }
            },
            "type": "scatterpolargl"
           }
          ],
          "scatterternary": [
           {
            "marker": {
             "colorbar": {
              "outlinewidth": 0,
              "ticks": ""
             }
            },
            "type": "scatterternary"
           }
          ],
          "surface": [
           {
            "colorbar": {
             "outlinewidth": 0,
             "ticks": ""
            },
            "colorscale": [
             [
              0,
              "#0d0887"
             ],
             [
              0.1111111111111111,
              "#46039f"
             ],
             [
              0.2222222222222222,
              "#7201a8"
             ],
             [
              0.3333333333333333,
              "#9c179e"
             ],
             [
              0.4444444444444444,
              "#bd3786"
             ],
             [
              0.5555555555555556,
              "#d8576b"
             ],
             [
              0.6666666666666666,
              "#ed7953"
             ],
             [
              0.7777777777777778,
              "#fb9f3a"
             ],
             [
              0.8888888888888888,
              "#fdca26"
             ],
             [
              1,
              "#f0f921"
             ]
            ],
            "type": "surface"
           }
          ],
          "table": [
           {
            "cells": {
             "fill": {
              "color": "#EBF0F8"
             },
             "line": {
              "color": "white"
             }
            },
            "header": {
             "fill": {
              "color": "#C8D4E3"
             },
             "line": {
              "color": "white"
             }
            },
            "type": "table"
           }
          ]
         },
         "layout": {
          "annotationdefaults": {
           "arrowcolor": "#2a3f5f",
           "arrowhead": 0,
           "arrowwidth": 1
          },
          "autotypenumbers": "strict",
          "coloraxis": {
           "colorbar": {
            "outlinewidth": 0,
            "ticks": ""
           }
          },
          "colorscale": {
           "diverging": [
            [
             0,
             "#8e0152"
            ],
            [
             0.1,
             "#c51b7d"
            ],
            [
             0.2,
             "#de77ae"
            ],
            [
             0.3,
             "#f1b6da"
            ],
            [
             0.4,
             "#fde0ef"
            ],
            [
             0.5,
             "#f7f7f7"
            ],
            [
             0.6,
             "#e6f5d0"
            ],
            [
             0.7,
             "#b8e186"
            ],
            [
             0.8,
             "#7fbc41"
            ],
            [
             0.9,
             "#4d9221"
            ],
            [
             1,
             "#276419"
            ]
           ],
           "sequential": [
            [
             0,
             "#0d0887"
            ],
            [
             0.1111111111111111,
             "#46039f"
            ],
            [
             0.2222222222222222,
             "#7201a8"
            ],
            [
             0.3333333333333333,
             "#9c179e"
            ],
            [
             0.4444444444444444,
             "#bd3786"
            ],
            [
             0.5555555555555556,
             "#d8576b"
            ],
            [
             0.6666666666666666,
             "#ed7953"
            ],
            [
             0.7777777777777778,
             "#fb9f3a"
            ],
            [
             0.8888888888888888,
             "#fdca26"
            ],
            [
             1,
             "#f0f921"
            ]
           ],
           "sequentialminus": [
            [
             0,
             "#0d0887"
            ],
            [
             0.1111111111111111,
             "#46039f"
            ],
            [
             0.2222222222222222,
             "#7201a8"
            ],
            [
             0.3333333333333333,
             "#9c179e"
            ],
            [
             0.4444444444444444,
             "#bd3786"
            ],
            [
             0.5555555555555556,
             "#d8576b"
            ],
            [
             0.6666666666666666,
             "#ed7953"
            ],
            [
             0.7777777777777778,
             "#fb9f3a"
            ],
            [
             0.8888888888888888,
             "#fdca26"
            ],
            [
             1,
             "#f0f921"
            ]
           ]
          },
          "colorway": [
           "#636efa",
           "#EF553B",
           "#00cc96",
           "#ab63fa",
           "#FFA15A",
           "#19d3f3",
           "#FF6692",
           "#B6E880",
           "#FF97FF",
           "#FECB52"
          ],
          "font": {
           "color": "#2a3f5f"
          },
          "geo": {
           "bgcolor": "white",
           "lakecolor": "white",
           "landcolor": "#E5ECF6",
           "showlakes": true,
           "showland": true,
           "subunitcolor": "white"
          },
          "hoverlabel": {
           "align": "left"
          },
          "hovermode": "closest",
          "mapbox": {
           "style": "light"
          },
          "paper_bgcolor": "white",
          "plot_bgcolor": "#E5ECF6",
          "polar": {
           "angularaxis": {
            "gridcolor": "white",
            "linecolor": "white",
            "ticks": ""
           },
           "bgcolor": "#E5ECF6",
           "radialaxis": {
            "gridcolor": "white",
            "linecolor": "white",
            "ticks": ""
           }
          },
          "scene": {
           "xaxis": {
            "backgroundcolor": "#E5ECF6",
            "gridcolor": "white",
            "gridwidth": 2,
            "linecolor": "white",
            "showbackground": true,
            "ticks": "",
            "zerolinecolor": "white"
           },
           "yaxis": {
            "backgroundcolor": "#E5ECF6",
            "gridcolor": "white",
            "gridwidth": 2,
            "linecolor": "white",
            "showbackground": true,
            "ticks": "",
            "zerolinecolor": "white"
           },
           "zaxis": {
            "backgroundcolor": "#E5ECF6",
            "gridcolor": "white",
            "gridwidth": 2,
            "linecolor": "white",
            "showbackground": true,
            "ticks": "",
            "zerolinecolor": "white"
           }
          },
          "shapedefaults": {
           "line": {
            "color": "#2a3f5f"
           }
          },
          "ternary": {
           "aaxis": {
            "gridcolor": "white",
            "linecolor": "white",
            "ticks": ""
           },
           "baxis": {
            "gridcolor": "white",
            "linecolor": "white",
            "ticks": ""
           },
           "bgcolor": "#E5ECF6",
           "caxis": {
            "gridcolor": "white",
            "linecolor": "white",
            "ticks": ""
           }
          },
          "title": {
           "x": 0.05
          },
          "xaxis": {
           "automargin": true,
           "gridcolor": "white",
           "linecolor": "white",
           "ticks": "",
           "title": {
            "standoff": 15
           },
           "zerolinecolor": "white",
           "zerolinewidth": 2
          },
          "yaxis": {
           "automargin": true,
           "gridcolor": "white",
           "linecolor": "white",
           "ticks": "",
           "title": {
            "standoff": 15
           },
           "zerolinecolor": "white",
           "zerolinewidth": 2
          }
         }
        },
        "title": {
         "text": "1946 to 2020: NBA total team and total game play trend"
        },
        "xaxis": {
         "anchor": "y",
         "domain": [
          0,
          0.94
         ]
        },
        "yaxis": {
         "anchor": "x",
         "domain": [
          0,
          1
         ],
         "title": {
          "text": "team totals"
         }
        },
        "yaxis2": {
         "anchor": "x",
         "overlaying": "y",
         "side": "right",
         "title": {
          "text": "game totals"
         }
        }
       }
      }
     },
     "metadata": {},
     "output_type": "display_data"
    }
   ],
   "source": [
    "two_y_axis_plot = make_subplots(specs=[[{\"secondary_y\": True}]])\n",
    "team_count_trace = px.bar(team_and_game_count, x=\"season\", y=\"total_team_count\")\n",
    "game_count_trace = px.line(team_and_game_count, x=\"season\", y=\"total_game_count\")\n",
    "team_count_trace.update_traces(name=\"team totals\", showlegend = True, opacity=0.6)\n",
    "game_count_trace.update_traces(name=\"game totals\", showlegend = True, line_color=\"red\")\n",
    "two_y_axis_plot.add_trace(team_count_trace.data[0], secondary_y=False)\n",
    "two_y_axis_plot.add_trace(game_count_trace.data[0], secondary_y=True)\n",
    "two_y_axis_plot.update_yaxes(title_text=\"team totals\", secondary_y=False)\n",
    "two_y_axis_plot.update_yaxes(title_text=\"game totals\", secondary_y=True)\n",
    "two_y_axis_plot.update_layout(title_text=\"1946 to 2020: NBA total team and total game play trend\")"
   ]
  },
  {
   "cell_type": "markdown",
   "metadata": {},
   "source": [
    "#### Verifying Game Table"
   ]
  },
  {
   "cell_type": "code",
   "execution_count": 19,
   "metadata": {},
   "outputs": [
    {
     "data": {
      "text/html": [
       "<div>\n",
       "<style scoped>\n",
       "    .dataframe tbody tr th:only-of-type {\n",
       "        vertical-align: middle;\n",
       "    }\n",
       "\n",
       "    .dataframe tbody tr th {\n",
       "        vertical-align: top;\n",
       "    }\n",
       "\n",
       "    .dataframe thead th {\n",
       "        text-align: right;\n",
       "    }\n",
       "</style>\n",
       "<table border=\"1\" class=\"dataframe\">\n",
       "  <thead>\n",
       "    <tr style=\"text-align: right;\">\n",
       "      <th></th>\n",
       "      <th>GAME_ID</th>\n",
       "      <th>SEASON_ID</th>\n",
       "      <th>TEAM_ID_HOME</th>\n",
       "      <th>TEAM_ABBREVIATION_HOME</th>\n",
       "      <th>TEAM_NAME_HOME</th>\n",
       "      <th>GAME_DATE</th>\n",
       "      <th>MATCHUP_HOME</th>\n",
       "      <th>WL_HOME</th>\n",
       "      <th>MIN_HOME</th>\n",
       "      <th>FGM_HOME</th>\n",
       "      <th>...</th>\n",
       "      <th>LAST_GAME_VISITOR_TEAM_CITY1</th>\n",
       "      <th>LAST_GAME_VISITOR_TEAM_POINTS</th>\n",
       "      <th>HOME_TEAM_WINS</th>\n",
       "      <th>HOME_TEAM_LOSSES</th>\n",
       "      <th>SERIES_LEADER</th>\n",
       "      <th>VIDEO_AVAILABLE_FLAG</th>\n",
       "      <th>PT_AVAILABLE</th>\n",
       "      <th>PT_XYZ_AVAILABLE</th>\n",
       "      <th>HUSTLE_STATUS</th>\n",
       "      <th>HISTORICAL_STATUS</th>\n",
       "    </tr>\n",
       "  </thead>\n",
       "  <tbody>\n",
       "    <tr>\n",
       "      <th>0</th>\n",
       "      <td>0024600001</td>\n",
       "      <td>21946</td>\n",
       "      <td>1610610035</td>\n",
       "      <td>HUS</td>\n",
       "      <td>Toronto Huskies</td>\n",
       "      <td>1946-11-01</td>\n",
       "      <td>HUS vs. NYK</td>\n",
       "      <td>L</td>\n",
       "      <td>0</td>\n",
       "      <td>25.0</td>\n",
       "      <td>...</td>\n",
       "      <td>None</td>\n",
       "      <td>None</td>\n",
       "      <td>3.0</td>\n",
       "      <td>3.0</td>\n",
       "      <td>Tied</td>\n",
       "      <td>0.0</td>\n",
       "      <td>0.0</td>\n",
       "      <td>0.0</td>\n",
       "      <td>0.0</td>\n",
       "      <td>1.0</td>\n",
       "    </tr>\n",
       "    <tr>\n",
       "      <th>1</th>\n",
       "      <td>0024600003</td>\n",
       "      <td>21946</td>\n",
       "      <td>1610610034</td>\n",
       "      <td>BOM</td>\n",
       "      <td>St. Louis Bombers</td>\n",
       "      <td>1946-11-02</td>\n",
       "      <td>BOM vs. PIT</td>\n",
       "      <td>W</td>\n",
       "      <td>0</td>\n",
       "      <td>20.0</td>\n",
       "      <td>...</td>\n",
       "      <td>None</td>\n",
       "      <td>None</td>\n",
       "      <td>5.0</td>\n",
       "      <td>1.0</td>\n",
       "      <td>St. Louis</td>\n",
       "      <td>0.0</td>\n",
       "      <td>0.0</td>\n",
       "      <td>0.0</td>\n",
       "      <td>0.0</td>\n",
       "      <td>1.0</td>\n",
       "    </tr>\n",
       "    <tr>\n",
       "      <th>2</th>\n",
       "      <td>0024600004</td>\n",
       "      <td>21946</td>\n",
       "      <td>1610610025</td>\n",
       "      <td>CHS</td>\n",
       "      <td>Chicago Stags</td>\n",
       "      <td>1946-11-02</td>\n",
       "      <td>CHS vs. NYK</td>\n",
       "      <td>W</td>\n",
       "      <td>0</td>\n",
       "      <td>21.0</td>\n",
       "      <td>...</td>\n",
       "      <td>None</td>\n",
       "      <td>None</td>\n",
       "      <td>3.0</td>\n",
       "      <td>3.0</td>\n",
       "      <td>Tied</td>\n",
       "      <td>0.0</td>\n",
       "      <td>0.0</td>\n",
       "      <td>0.0</td>\n",
       "      <td>0.0</td>\n",
       "      <td>1.0</td>\n",
       "    </tr>\n",
       "    <tr>\n",
       "      <th>3</th>\n",
       "      <td>0024600002</td>\n",
       "      <td>21946</td>\n",
       "      <td>1610610032</td>\n",
       "      <td>PRO</td>\n",
       "      <td>Providence Steamrollers</td>\n",
       "      <td>1946-11-02</td>\n",
       "      <td>PRO vs. BOS</td>\n",
       "      <td>W</td>\n",
       "      <td>0</td>\n",
       "      <td>21.0</td>\n",
       "      <td>...</td>\n",
       "      <td>None</td>\n",
       "      <td>None</td>\n",
       "      <td>5.0</td>\n",
       "      <td>1.0</td>\n",
       "      <td>Providence</td>\n",
       "      <td>0.0</td>\n",
       "      <td>0.0</td>\n",
       "      <td>0.0</td>\n",
       "      <td>0.0</td>\n",
       "      <td>1.0</td>\n",
       "    </tr>\n",
       "    <tr>\n",
       "      <th>4</th>\n",
       "      <td>0024600005</td>\n",
       "      <td>21946</td>\n",
       "      <td>1610610028</td>\n",
       "      <td>DEF</td>\n",
       "      <td>Detroit Falcons</td>\n",
       "      <td>1946-11-02</td>\n",
       "      <td>DEF vs. WAS</td>\n",
       "      <td>L</td>\n",
       "      <td>0</td>\n",
       "      <td>10.0</td>\n",
       "      <td>...</td>\n",
       "      <td>None</td>\n",
       "      <td>None</td>\n",
       "      <td>1.0</td>\n",
       "      <td>5.0</td>\n",
       "      <td>Washington</td>\n",
       "      <td>0.0</td>\n",
       "      <td>0.0</td>\n",
       "      <td>0.0</td>\n",
       "      <td>0.0</td>\n",
       "      <td>1.0</td>\n",
       "    </tr>\n",
       "    <tr>\n",
       "      <th>...</th>\n",
       "      <td>...</td>\n",
       "      <td>...</td>\n",
       "      <td>...</td>\n",
       "      <td>...</td>\n",
       "      <td>...</td>\n",
       "      <td>...</td>\n",
       "      <td>...</td>\n",
       "      <td>...</td>\n",
       "      <td>...</td>\n",
       "      <td>...</td>\n",
       "      <td>...</td>\n",
       "      <td>...</td>\n",
       "      <td>...</td>\n",
       "      <td>...</td>\n",
       "      <td>...</td>\n",
       "      <td>...</td>\n",
       "      <td>...</td>\n",
       "      <td>...</td>\n",
       "      <td>...</td>\n",
       "      <td>...</td>\n",
       "      <td>...</td>\n",
       "    </tr>\n",
       "    <tr>\n",
       "      <th>62443</th>\n",
       "      <td>0022001076</td>\n",
       "      <td>22020</td>\n",
       "      <td>1610612757</td>\n",
       "      <td>POR</td>\n",
       "      <td>Portland Trail Blazers</td>\n",
       "      <td>2021-05-16</td>\n",
       "      <td>POR vs. DEN</td>\n",
       "      <td>W</td>\n",
       "      <td>240</td>\n",
       "      <td>46.0</td>\n",
       "      <td>...</td>\n",
       "      <td>DEN</td>\n",
       "      <td>106</td>\n",
       "      <td>1.0</td>\n",
       "      <td>2.0</td>\n",
       "      <td>Denver</td>\n",
       "      <td>1.0</td>\n",
       "      <td>0.0</td>\n",
       "      <td>0.0</td>\n",
       "      <td>1.0</td>\n",
       "      <td>0.0</td>\n",
       "    </tr>\n",
       "    <tr>\n",
       "      <th>62444</th>\n",
       "      <td>0022001071</td>\n",
       "      <td>22020</td>\n",
       "      <td>1610612750</td>\n",
       "      <td>MIN</td>\n",
       "      <td>Minnesota Timberwolves</td>\n",
       "      <td>2021-05-16</td>\n",
       "      <td>MIN vs. DAL</td>\n",
       "      <td>W</td>\n",
       "      <td>240</td>\n",
       "      <td>49.0</td>\n",
       "      <td>...</td>\n",
       "      <td>DAL</td>\n",
       "      <td>128</td>\n",
       "      <td>1.0</td>\n",
       "      <td>2.0</td>\n",
       "      <td>Dallas</td>\n",
       "      <td>1.0</td>\n",
       "      <td>0.0</td>\n",
       "      <td>0.0</td>\n",
       "      <td>0.0</td>\n",
       "      <td>0.0</td>\n",
       "    </tr>\n",
       "    <tr>\n",
       "      <th>62445</th>\n",
       "      <td>0022001068</td>\n",
       "      <td>22020</td>\n",
       "      <td>1610612741</td>\n",
       "      <td>CHI</td>\n",
       "      <td>Chicago Bulls</td>\n",
       "      <td>2021-05-16</td>\n",
       "      <td>CHI vs. MIL</td>\n",
       "      <td>W</td>\n",
       "      <td>240</td>\n",
       "      <td>45.0</td>\n",
       "      <td>...</td>\n",
       "      <td>MIL</td>\n",
       "      <td>108</td>\n",
       "      <td>1.0</td>\n",
       "      <td>2.0</td>\n",
       "      <td>Milwaukee</td>\n",
       "      <td>1.0</td>\n",
       "      <td>0.0</td>\n",
       "      <td>0.0</td>\n",
       "      <td>1.0</td>\n",
       "      <td>0.0</td>\n",
       "    </tr>\n",
       "    <tr>\n",
       "      <th>62446</th>\n",
       "      <td>0022001072</td>\n",
       "      <td>22020</td>\n",
       "      <td>1610612740</td>\n",
       "      <td>NOP</td>\n",
       "      <td>New Orleans Pelicans</td>\n",
       "      <td>2021-05-16</td>\n",
       "      <td>NOP vs. LAL</td>\n",
       "      <td>L</td>\n",
       "      <td>240</td>\n",
       "      <td>37.0</td>\n",
       "      <td>...</td>\n",
       "      <td>LAL</td>\n",
       "      <td>111</td>\n",
       "      <td>1.0</td>\n",
       "      <td>2.0</td>\n",
       "      <td>L.A. Lakers</td>\n",
       "      <td>1.0</td>\n",
       "      <td>0.0</td>\n",
       "      <td>0.0</td>\n",
       "      <td>0.0</td>\n",
       "      <td>0.0</td>\n",
       "    </tr>\n",
       "    <tr>\n",
       "      <th>62447</th>\n",
       "      <td>0022001077</td>\n",
       "      <td>22020</td>\n",
       "      <td>1610612758</td>\n",
       "      <td>SAC</td>\n",
       "      <td>Sacramento Kings</td>\n",
       "      <td>2021-05-16</td>\n",
       "      <td>SAC vs. UTA</td>\n",
       "      <td>L</td>\n",
       "      <td>240</td>\n",
       "      <td>42.0</td>\n",
       "      <td>...</td>\n",
       "      <td>UTA</td>\n",
       "      <td>154</td>\n",
       "      <td>0.0</td>\n",
       "      <td>3.0</td>\n",
       "      <td>Utah</td>\n",
       "      <td>1.0</td>\n",
       "      <td>0.0</td>\n",
       "      <td>0.0</td>\n",
       "      <td>0.0</td>\n",
       "      <td>0.0</td>\n",
       "    </tr>\n",
       "  </tbody>\n",
       "</table>\n",
       "<p>62448 rows × 149 columns</p>\n",
       "</div>"
      ],
      "text/plain": [
       "          GAME_ID SEASON_ID TEAM_ID_HOME TEAM_ABBREVIATION_HOME  \\\n",
       "0      0024600001     21946   1610610035                    HUS   \n",
       "1      0024600003     21946   1610610034                    BOM   \n",
       "2      0024600004     21946   1610610025                    CHS   \n",
       "3      0024600002     21946   1610610032                    PRO   \n",
       "4      0024600005     21946   1610610028                    DEF   \n",
       "...           ...       ...          ...                    ...   \n",
       "62443  0022001076     22020   1610612757                    POR   \n",
       "62444  0022001071     22020   1610612750                    MIN   \n",
       "62445  0022001068     22020   1610612741                    CHI   \n",
       "62446  0022001072     22020   1610612740                    NOP   \n",
       "62447  0022001077     22020   1610612758                    SAC   \n",
       "\n",
       "                TEAM_NAME_HOME   GAME_DATE MATCHUP_HOME WL_HOME  MIN_HOME  \\\n",
       "0              Toronto Huskies  1946-11-01  HUS vs. NYK       L         0   \n",
       "1            St. Louis Bombers  1946-11-02  BOM vs. PIT       W         0   \n",
       "2                Chicago Stags  1946-11-02  CHS vs. NYK       W         0   \n",
       "3      Providence Steamrollers  1946-11-02  PRO vs. BOS       W         0   \n",
       "4              Detroit Falcons  1946-11-02  DEF vs. WAS       L         0   \n",
       "...                        ...         ...          ...     ...       ...   \n",
       "62443   Portland Trail Blazers  2021-05-16  POR vs. DEN       W       240   \n",
       "62444   Minnesota Timberwolves  2021-05-16  MIN vs. DAL       W       240   \n",
       "62445            Chicago Bulls  2021-05-16  CHI vs. MIL       W       240   \n",
       "62446     New Orleans Pelicans  2021-05-16  NOP vs. LAL       L       240   \n",
       "62447         Sacramento Kings  2021-05-16  SAC vs. UTA       L       240   \n",
       "\n",
       "       FGM_HOME  ... LAST_GAME_VISITOR_TEAM_CITY1  \\\n",
       "0          25.0  ...                         None   \n",
       "1          20.0  ...                         None   \n",
       "2          21.0  ...                         None   \n",
       "3          21.0  ...                         None   \n",
       "4          10.0  ...                         None   \n",
       "...         ...  ...                          ...   \n",
       "62443      46.0  ...                          DEN   \n",
       "62444      49.0  ...                          DAL   \n",
       "62445      45.0  ...                          MIL   \n",
       "62446      37.0  ...                          LAL   \n",
       "62447      42.0  ...                          UTA   \n",
       "\n",
       "       LAST_GAME_VISITOR_TEAM_POINTS HOME_TEAM_WINS HOME_TEAM_LOSSES  \\\n",
       "0                               None            3.0              3.0   \n",
       "1                               None            5.0              1.0   \n",
       "2                               None            3.0              3.0   \n",
       "3                               None            5.0              1.0   \n",
       "4                               None            1.0              5.0   \n",
       "...                              ...            ...              ...   \n",
       "62443                            106            1.0              2.0   \n",
       "62444                            128            1.0              2.0   \n",
       "62445                            108            1.0              2.0   \n",
       "62446                            111            1.0              2.0   \n",
       "62447                            154            0.0              3.0   \n",
       "\n",
       "       SERIES_LEADER  VIDEO_AVAILABLE_FLAG  PT_AVAILABLE  PT_XYZ_AVAILABLE  \\\n",
       "0               Tied                   0.0           0.0               0.0   \n",
       "1          St. Louis                   0.0           0.0               0.0   \n",
       "2               Tied                   0.0           0.0               0.0   \n",
       "3         Providence                   0.0           0.0               0.0   \n",
       "4         Washington                   0.0           0.0               0.0   \n",
       "...              ...                   ...           ...               ...   \n",
       "62443         Denver                   1.0           0.0               0.0   \n",
       "62444         Dallas                   1.0           0.0               0.0   \n",
       "62445      Milwaukee                   1.0           0.0               0.0   \n",
       "62446    L.A. Lakers                   1.0           0.0               0.0   \n",
       "62447           Utah                   1.0           0.0               0.0   \n",
       "\n",
       "      HUSTLE_STATUS HISTORICAL_STATUS  \n",
       "0               0.0               1.0  \n",
       "1               0.0               1.0  \n",
       "2               0.0               1.0  \n",
       "3               0.0               1.0  \n",
       "4               0.0               1.0  \n",
       "...             ...               ...  \n",
       "62443           1.0               0.0  \n",
       "62444           0.0               0.0  \n",
       "62445           1.0               0.0  \n",
       "62446           0.0               0.0  \n",
       "62447           0.0               0.0  \n",
       "\n",
       "[62448 rows x 149 columns]"
      ]
     },
     "execution_count": 19,
     "metadata": {},
     "output_type": "execute_result"
    }
   ],
   "source": [
    "df_Game = pd.read_sql_query(\"SELECT * FROM Game\", connection)\n",
    "df_Game"
   ]
  },
  {
   "cell_type": "markdown",
   "metadata": {},
   "source": [
    "#### From 1949 to 2020, how did home game won percentage among all the games change over time?"
   ]
  },
  {
   "cell_type": "code",
   "execution_count": 20,
   "metadata": {},
   "outputs": [
    {
     "data": {
      "text/html": [
       "<div>\n",
       "<style scoped>\n",
       "    .dataframe tbody tr th:only-of-type {\n",
       "        vertical-align: middle;\n",
       "    }\n",
       "\n",
       "    .dataframe tbody tr th {\n",
       "        vertical-align: top;\n",
       "    }\n",
       "\n",
       "    .dataframe thead th {\n",
       "        text-align: right;\n",
       "    }\n",
       "</style>\n",
       "<table border=\"1\" class=\"dataframe\">\n",
       "  <thead>\n",
       "    <tr style=\"text-align: right;\">\n",
       "      <th></th>\n",
       "      <th>season</th>\n",
       "      <th>home_win_count</th>\n",
       "    </tr>\n",
       "  </thead>\n",
       "  <tbody>\n",
       "    <tr>\n",
       "      <th>0</th>\n",
       "      <td>1946</td>\n",
       "      <td>204</td>\n",
       "    </tr>\n",
       "    <tr>\n",
       "      <th>1</th>\n",
       "      <td>1947</td>\n",
       "      <td>111</td>\n",
       "    </tr>\n",
       "    <tr>\n",
       "      <th>2</th>\n",
       "      <td>1948</td>\n",
       "      <td>228</td>\n",
       "    </tr>\n",
       "    <tr>\n",
       "      <th>3</th>\n",
       "      <td>1949</td>\n",
       "      <td>392</td>\n",
       "    </tr>\n",
       "    <tr>\n",
       "      <th>4</th>\n",
       "      <td>1950</td>\n",
       "      <td>265</td>\n",
       "    </tr>\n",
       "    <tr>\n",
       "      <th>...</th>\n",
       "      <td>...</td>\n",
       "      <td>...</td>\n",
       "    </tr>\n",
       "    <tr>\n",
       "      <th>70</th>\n",
       "      <td>2016</td>\n",
       "      <td>719</td>\n",
       "    </tr>\n",
       "    <tr>\n",
       "      <th>71</th>\n",
       "      <td>2017</td>\n",
       "      <td>715</td>\n",
       "    </tr>\n",
       "    <tr>\n",
       "      <th>72</th>\n",
       "      <td>2018</td>\n",
       "      <td>729</td>\n",
       "    </tr>\n",
       "    <tr>\n",
       "      <th>73</th>\n",
       "      <td>2019</td>\n",
       "      <td>584</td>\n",
       "    </tr>\n",
       "    <tr>\n",
       "      <th>74</th>\n",
       "      <td>2020</td>\n",
       "      <td>558</td>\n",
       "    </tr>\n",
       "  </tbody>\n",
       "</table>\n",
       "<p>75 rows × 2 columns</p>\n",
       "</div>"
      ],
      "text/plain": [
       "    season  home_win_count\n",
       "0     1946             204\n",
       "1     1947             111\n",
       "2     1948             228\n",
       "3     1949             392\n",
       "4     1950             265\n",
       "..     ...             ...\n",
       "70    2016             719\n",
       "71    2017             715\n",
       "72    2018             729\n",
       "73    2019             584\n",
       "74    2020             558\n",
       "\n",
       "[75 rows x 2 columns]"
      ]
     },
     "execution_count": 20,
     "metadata": {},
     "output_type": "execute_result"
    }
   ],
   "source": [
    "query = \"\"\"\n",
    "        SELECT\n",
    "            SEASON_ID-20000 AS season,\n",
    "            SUM (CASE WL_HOME\n",
    "                    WHEN 'W' THEN 1\n",
    "                    ELSE 0\n",
    "                END) AS home_win_count\n",
    "        FROM Game\n",
    "        GROUP BY SEASON_ID\n",
    "\"\"\"\n",
    "\n",
    "home_game_stats = pd.read_sql(query, connection)\n",
    "home_game_stats"
   ]
  },
  {
   "cell_type": "markdown",
   "metadata": {},
   "source": [
    "#### Calculate game won percentage for each season"
   ]
  },
  {
   "cell_type": "code",
   "execution_count": 21,
   "metadata": {},
   "outputs": [],
   "source": [
    "# Add a new column to the DataFrame\n",
    "\n",
    "home_game_stats[\"home_won_percentage\"] = round(100*home_game_stats[\"home_win_count\"]/team_and_game_count[\"total_game_count\"], 2)\n"
   ]
  },
  {
   "cell_type": "code",
   "execution_count": 22,
   "metadata": {},
   "outputs": [
    {
     "data": {
      "application/vnd.plotly.v1+json": {
       "config": {
        "plotlyServerURL": "https://plot.ly"
       },
       "data": [
        {
         "hovertemplate": "season=%{x}<br>home_won_percentage=%{y}<extra></extra>",
         "legendgroup": "",
         "line": {
          "color": "#636efa",
          "dash": "solid"
         },
         "marker": {
          "symbol": "circle"
         },
         "mode": "lines",
         "name": "",
         "orientation": "v",
         "showlegend": false,
         "type": "scatter",
         "x": [
          1946,
          1947,
          1948,
          1949,
          1950,
          1951,
          1952,
          1953,
          1954,
          1955,
          1956,
          1957,
          1958,
          1959,
          1960,
          1961,
          1962,
          1963,
          1964,
          1965,
          1966,
          1967,
          1968,
          1969,
          1970,
          1971,
          1972,
          1973,
          1974,
          1975,
          1976,
          1977,
          1978,
          1979,
          1980,
          1981,
          1982,
          1983,
          1984,
          1985,
          1986,
          1987,
          1988,
          1989,
          1990,
          1991,
          1992,
          1993,
          1994,
          1995,
          1996,
          1997,
          1998,
          1999,
          2000,
          2001,
          2002,
          2003,
          2004,
          2005,
          2006,
          2007,
          2008,
          2009,
          2010,
          2011,
          2012,
          2013,
          2014,
          2015,
          2016,
          2017,
          2018,
          2019,
          2020
         ],
         "xaxis": "x",
         "y": [
          61.63,
          57.22,
          63.33,
          69.63,
          74.86,
          75.45,
          75.21,
          73.37,
          75.35,
          70,
          77.59,
          70.83,
          70.83,
          69,
          71.52,
          68.06,
          68.33,
          63.33,
          63.33,
          74.17,
          64.94,
          60.98,
          61.85,
          63.24,
          61.12,
          58.25,
          58.82,
          62.12,
          64.09,
          65.31,
          68.51,
          67.63,
          66.52,
          65.3,
          62.14,
          59.92,
          62.04,
          67.87,
          63.73,
          65.43,
          66.49,
          67.87,
          67.71,
          64.41,
          65.94,
          63.14,
          61.07,
          61.16,
          59.71,
          60.39,
          57.53,
          59.55,
          62.34,
          61.06,
          59.8,
          59.13,
          62.91,
          61.4,
          60.49,
          60.33,
          59.11,
          60.16,
          60.81,
          59.43,
          60.41,
          58.59,
          61.19,
          60.24,
          57.48,
          58.86,
          58.46,
          58.13,
          59.27,
          55.15,
          51.67
         ],
         "yaxis": "y"
        }
       ],
       "layout": {
        "legend": {
         "tracegroupgap": 0
        },
        "template": {
         "data": {
          "bar": [
           {
            "error_x": {
             "color": "#2a3f5f"
            },
            "error_y": {
             "color": "#2a3f5f"
            },
            "marker": {
             "line": {
              "color": "#E5ECF6",
              "width": 0.5
             },
             "pattern": {
              "fillmode": "overlay",
              "size": 10,
              "solidity": 0.2
             }
            },
            "type": "bar"
           }
          ],
          "barpolar": [
           {
            "marker": {
             "line": {
              "color": "#E5ECF6",
              "width": 0.5
             },
             "pattern": {
              "fillmode": "overlay",
              "size": 10,
              "solidity": 0.2
             }
            },
            "type": "barpolar"
           }
          ],
          "carpet": [
           {
            "aaxis": {
             "endlinecolor": "#2a3f5f",
             "gridcolor": "white",
             "linecolor": "white",
             "minorgridcolor": "white",
             "startlinecolor": "#2a3f5f"
            },
            "baxis": {
             "endlinecolor": "#2a3f5f",
             "gridcolor": "white",
             "linecolor": "white",
             "minorgridcolor": "white",
             "startlinecolor": "#2a3f5f"
            },
            "type": "carpet"
           }
          ],
          "choropleth": [
           {
            "colorbar": {
             "outlinewidth": 0,
             "ticks": ""
            },
            "type": "choropleth"
           }
          ],
          "contour": [
           {
            "colorbar": {
             "outlinewidth": 0,
             "ticks": ""
            },
            "colorscale": [
             [
              0,
              "#0d0887"
             ],
             [
              0.1111111111111111,
              "#46039f"
             ],
             [
              0.2222222222222222,
              "#7201a8"
             ],
             [
              0.3333333333333333,
              "#9c179e"
             ],
             [
              0.4444444444444444,
              "#bd3786"
             ],
             [
              0.5555555555555556,
              "#d8576b"
             ],
             [
              0.6666666666666666,
              "#ed7953"
             ],
             [
              0.7777777777777778,
              "#fb9f3a"
             ],
             [
              0.8888888888888888,
              "#fdca26"
             ],
             [
              1,
              "#f0f921"
             ]
            ],
            "type": "contour"
           }
          ],
          "contourcarpet": [
           {
            "colorbar": {
             "outlinewidth": 0,
             "ticks": ""
            },
            "type": "contourcarpet"
           }
          ],
          "heatmap": [
           {
            "colorbar": {
             "outlinewidth": 0,
             "ticks": ""
            },
            "colorscale": [
             [
              0,
              "#0d0887"
             ],
             [
              0.1111111111111111,
              "#46039f"
             ],
             [
              0.2222222222222222,
              "#7201a8"
             ],
             [
              0.3333333333333333,
              "#9c179e"
             ],
             [
              0.4444444444444444,
              "#bd3786"
             ],
             [
              0.5555555555555556,
              "#d8576b"
             ],
             [
              0.6666666666666666,
              "#ed7953"
             ],
             [
              0.7777777777777778,
              "#fb9f3a"
             ],
             [
              0.8888888888888888,
              "#fdca26"
             ],
             [
              1,
              "#f0f921"
             ]
            ],
            "type": "heatmap"
           }
          ],
          "heatmapgl": [
           {
            "colorbar": {
             "outlinewidth": 0,
             "ticks": ""
            },
            "colorscale": [
             [
              0,
              "#0d0887"
             ],
             [
              0.1111111111111111,
              "#46039f"
             ],
             [
              0.2222222222222222,
              "#7201a8"
             ],
             [
              0.3333333333333333,
              "#9c179e"
             ],
             [
              0.4444444444444444,
              "#bd3786"
             ],
             [
              0.5555555555555556,
              "#d8576b"
             ],
             [
              0.6666666666666666,
              "#ed7953"
             ],
             [
              0.7777777777777778,
              "#fb9f3a"
             ],
             [
              0.8888888888888888,
              "#fdca26"
             ],
             [
              1,
              "#f0f921"
             ]
            ],
            "type": "heatmapgl"
           }
          ],
          "histogram": [
           {
            "marker": {
             "pattern": {
              "fillmode": "overlay",
              "size": 10,
              "solidity": 0.2
             }
            },
            "type": "histogram"
           }
          ],
          "histogram2d": [
           {
            "colorbar": {
             "outlinewidth": 0,
             "ticks": ""
            },
            "colorscale": [
             [
              0,
              "#0d0887"
             ],
             [
              0.1111111111111111,
              "#46039f"
             ],
             [
              0.2222222222222222,
              "#7201a8"
             ],
             [
              0.3333333333333333,
              "#9c179e"
             ],
             [
              0.4444444444444444,
              "#bd3786"
             ],
             [
              0.5555555555555556,
              "#d8576b"
             ],
             [
              0.6666666666666666,
              "#ed7953"
             ],
             [
              0.7777777777777778,
              "#fb9f3a"
             ],
             [
              0.8888888888888888,
              "#fdca26"
             ],
             [
              1,
              "#f0f921"
             ]
            ],
            "type": "histogram2d"
           }
          ],
          "histogram2dcontour": [
           {
            "colorbar": {
             "outlinewidth": 0,
             "ticks": ""
            },
            "colorscale": [
             [
              0,
              "#0d0887"
             ],
             [
              0.1111111111111111,
              "#46039f"
             ],
             [
              0.2222222222222222,
              "#7201a8"
             ],
             [
              0.3333333333333333,
              "#9c179e"
             ],
             [
              0.4444444444444444,
              "#bd3786"
             ],
             [
              0.5555555555555556,
              "#d8576b"
             ],
             [
              0.6666666666666666,
              "#ed7953"
             ],
             [
              0.7777777777777778,
              "#fb9f3a"
             ],
             [
              0.8888888888888888,
              "#fdca26"
             ],
             [
              1,
              "#f0f921"
             ]
            ],
            "type": "histogram2dcontour"
           }
          ],
          "mesh3d": [
           {
            "colorbar": {
             "outlinewidth": 0,
             "ticks": ""
            },
            "type": "mesh3d"
           }
          ],
          "parcoords": [
           {
            "line": {
             "colorbar": {
              "outlinewidth": 0,
              "ticks": ""
             }
            },
            "type": "parcoords"
           }
          ],
          "pie": [
           {
            "automargin": true,
            "type": "pie"
           }
          ],
          "scatter": [
           {
            "fillpattern": {
             "fillmode": "overlay",
             "size": 10,
             "solidity": 0.2
            },
            "type": "scatter"
           }
          ],
          "scatter3d": [
           {
            "line": {
             "colorbar": {
              "outlinewidth": 0,
              "ticks": ""
             }
            },
            "marker": {
             "colorbar": {
              "outlinewidth": 0,
              "ticks": ""
             }
            },
            "type": "scatter3d"
           }
          ],
          "scattercarpet": [
           {
            "marker": {
             "colorbar": {
              "outlinewidth": 0,
              "ticks": ""
             }
            },
            "type": "scattercarpet"
           }
          ],
          "scattergeo": [
           {
            "marker": {
             "colorbar": {
              "outlinewidth": 0,
              "ticks": ""
             }
            },
            "type": "scattergeo"
           }
          ],
          "scattergl": [
           {
            "marker": {
             "colorbar": {
              "outlinewidth": 0,
              "ticks": ""
             }
            },
            "type": "scattergl"
           }
          ],
          "scattermapbox": [
           {
            "marker": {
             "colorbar": {
              "outlinewidth": 0,
              "ticks": ""
             }
            },
            "type": "scattermapbox"
           }
          ],
          "scatterpolar": [
           {
            "marker": {
             "colorbar": {
              "outlinewidth": 0,
              "ticks": ""
             }
            },
            "type": "scatterpolar"
           }
          ],
          "scatterpolargl": [
           {
            "marker": {
             "colorbar": {
              "outlinewidth": 0,
              "ticks": ""
             }
            },
            "type": "scatterpolargl"
           }
          ],
          "scatterternary": [
           {
            "marker": {
             "colorbar": {
              "outlinewidth": 0,
              "ticks": ""
             }
            },
            "type": "scatterternary"
           }
          ],
          "surface": [
           {
            "colorbar": {
             "outlinewidth": 0,
             "ticks": ""
            },
            "colorscale": [
             [
              0,
              "#0d0887"
             ],
             [
              0.1111111111111111,
              "#46039f"
             ],
             [
              0.2222222222222222,
              "#7201a8"
             ],
             [
              0.3333333333333333,
              "#9c179e"
             ],
             [
              0.4444444444444444,
              "#bd3786"
             ],
             [
              0.5555555555555556,
              "#d8576b"
             ],
             [
              0.6666666666666666,
              "#ed7953"
             ],
             [
              0.7777777777777778,
              "#fb9f3a"
             ],
             [
              0.8888888888888888,
              "#fdca26"
             ],
             [
              1,
              "#f0f921"
             ]
            ],
            "type": "surface"
           }
          ],
          "table": [
           {
            "cells": {
             "fill": {
              "color": "#EBF0F8"
             },
             "line": {
              "color": "white"
             }
            },
            "header": {
             "fill": {
              "color": "#C8D4E3"
             },
             "line": {
              "color": "white"
             }
            },
            "type": "table"
           }
          ]
         },
         "layout": {
          "annotationdefaults": {
           "arrowcolor": "#2a3f5f",
           "arrowhead": 0,
           "arrowwidth": 1
          },
          "autotypenumbers": "strict",
          "coloraxis": {
           "colorbar": {
            "outlinewidth": 0,
            "ticks": ""
           }
          },
          "colorscale": {
           "diverging": [
            [
             0,
             "#8e0152"
            ],
            [
             0.1,
             "#c51b7d"
            ],
            [
             0.2,
             "#de77ae"
            ],
            [
             0.3,
             "#f1b6da"
            ],
            [
             0.4,
             "#fde0ef"
            ],
            [
             0.5,
             "#f7f7f7"
            ],
            [
             0.6,
             "#e6f5d0"
            ],
            [
             0.7,
             "#b8e186"
            ],
            [
             0.8,
             "#7fbc41"
            ],
            [
             0.9,
             "#4d9221"
            ],
            [
             1,
             "#276419"
            ]
           ],
           "sequential": [
            [
             0,
             "#0d0887"
            ],
            [
             0.1111111111111111,
             "#46039f"
            ],
            [
             0.2222222222222222,
             "#7201a8"
            ],
            [
             0.3333333333333333,
             "#9c179e"
            ],
            [
             0.4444444444444444,
             "#bd3786"
            ],
            [
             0.5555555555555556,
             "#d8576b"
            ],
            [
             0.6666666666666666,
             "#ed7953"
            ],
            [
             0.7777777777777778,
             "#fb9f3a"
            ],
            [
             0.8888888888888888,
             "#fdca26"
            ],
            [
             1,
             "#f0f921"
            ]
           ],
           "sequentialminus": [
            [
             0,
             "#0d0887"
            ],
            [
             0.1111111111111111,
             "#46039f"
            ],
            [
             0.2222222222222222,
             "#7201a8"
            ],
            [
             0.3333333333333333,
             "#9c179e"
            ],
            [
             0.4444444444444444,
             "#bd3786"
            ],
            [
             0.5555555555555556,
             "#d8576b"
            ],
            [
             0.6666666666666666,
             "#ed7953"
            ],
            [
             0.7777777777777778,
             "#fb9f3a"
            ],
            [
             0.8888888888888888,
             "#fdca26"
            ],
            [
             1,
             "#f0f921"
            ]
           ]
          },
          "colorway": [
           "#636efa",
           "#EF553B",
           "#00cc96",
           "#ab63fa",
           "#FFA15A",
           "#19d3f3",
           "#FF6692",
           "#B6E880",
           "#FF97FF",
           "#FECB52"
          ],
          "font": {
           "color": "#2a3f5f"
          },
          "geo": {
           "bgcolor": "white",
           "lakecolor": "white",
           "landcolor": "#E5ECF6",
           "showlakes": true,
           "showland": true,
           "subunitcolor": "white"
          },
          "hoverlabel": {
           "align": "left"
          },
          "hovermode": "closest",
          "mapbox": {
           "style": "light"
          },
          "paper_bgcolor": "white",
          "plot_bgcolor": "#E5ECF6",
          "polar": {
           "angularaxis": {
            "gridcolor": "white",
            "linecolor": "white",
            "ticks": ""
           },
           "bgcolor": "#E5ECF6",
           "radialaxis": {
            "gridcolor": "white",
            "linecolor": "white",
            "ticks": ""
           }
          },
          "scene": {
           "xaxis": {
            "backgroundcolor": "#E5ECF6",
            "gridcolor": "white",
            "gridwidth": 2,
            "linecolor": "white",
            "showbackground": true,
            "ticks": "",
            "zerolinecolor": "white"
           },
           "yaxis": {
            "backgroundcolor": "#E5ECF6",
            "gridcolor": "white",
            "gridwidth": 2,
            "linecolor": "white",
            "showbackground": true,
            "ticks": "",
            "zerolinecolor": "white"
           },
           "zaxis": {
            "backgroundcolor": "#E5ECF6",
            "gridcolor": "white",
            "gridwidth": 2,
            "linecolor": "white",
            "showbackground": true,
            "ticks": "",
            "zerolinecolor": "white"
           }
          },
          "shapedefaults": {
           "line": {
            "color": "#2a3f5f"
           }
          },
          "ternary": {
           "aaxis": {
            "gridcolor": "white",
            "linecolor": "white",
            "ticks": ""
           },
           "baxis": {
            "gridcolor": "white",
            "linecolor": "white",
            "ticks": ""
           },
           "bgcolor": "#E5ECF6",
           "caxis": {
            "gridcolor": "white",
            "linecolor": "white",
            "ticks": ""
           }
          },
          "title": {
           "x": 0.05
          },
          "xaxis": {
           "automargin": true,
           "gridcolor": "white",
           "linecolor": "white",
           "ticks": "",
           "title": {
            "standoff": 15
           },
           "zerolinecolor": "white",
           "zerolinewidth": 2
          },
          "yaxis": {
           "automargin": true,
           "gridcolor": "white",
           "linecolor": "white",
           "ticks": "",
           "title": {
            "standoff": 15
           },
           "zerolinecolor": "white",
           "zerolinewidth": 2
          }
         }
        },
        "title": {
         "text": "1946-2020: Overall home game won percentage"
        },
        "xaxis": {
         "anchor": "y",
         "domain": [
          0,
          1
         ],
         "title": {
          "text": "season"
         }
        },
        "yaxis": {
         "anchor": "x",
         "domain": [
          0,
          1
         ],
         "title": {
          "text": "home_won_percentage"
         }
        }
       }
      }
     },
     "metadata": {},
     "output_type": "display_data"
    }
   ],
   "source": [
    "px.line(home_game_stats, y='home_won_percentage', x='season',\n",
    "        title='1946-2020: Overall home game won percentage')"
   ]
  },
  {
   "cell_type": "markdown",
   "metadata": {},
   "source": [
    "#### Home game win count"
   ]
  },
  {
   "cell_type": "code",
   "execution_count": 23,
   "metadata": {},
   "outputs": [
    {
     "data": {
      "text/html": [
       "<div>\n",
       "<style scoped>\n",
       "    .dataframe tbody tr th:only-of-type {\n",
       "        vertical-align: middle;\n",
       "    }\n",
       "\n",
       "    .dataframe tbody tr th {\n",
       "        vertical-align: top;\n",
       "    }\n",
       "\n",
       "    .dataframe thead th {\n",
       "        text-align: right;\n",
       "    }\n",
       "</style>\n",
       "<table border=\"1\" class=\"dataframe\">\n",
       "  <thead>\n",
       "    <tr style=\"text-align: right;\">\n",
       "      <th></th>\n",
       "      <th>season</th>\n",
       "      <th>team_id</th>\n",
       "      <th>team_name</th>\n",
       "      <th>win_count</th>\n",
       "      <th>team_game_count</th>\n",
       "      <th>game_location</th>\n",
       "    </tr>\n",
       "  </thead>\n",
       "  <tbody>\n",
       "    <tr>\n",
       "      <th>0</th>\n",
       "      <td>1946</td>\n",
       "      <td>1610610025</td>\n",
       "      <td>Chicago Stags</td>\n",
       "      <td>17</td>\n",
       "      <td>30</td>\n",
       "      <td>away</td>\n",
       "    </tr>\n",
       "    <tr>\n",
       "      <th>1</th>\n",
       "      <td>1946</td>\n",
       "      <td>1610610025</td>\n",
       "      <td>Chicago Stags</td>\n",
       "      <td>22</td>\n",
       "      <td>31</td>\n",
       "      <td>home</td>\n",
       "    </tr>\n",
       "    <tr>\n",
       "      <th>2</th>\n",
       "      <td>1946</td>\n",
       "      <td>1610610026</td>\n",
       "      <td>Cleveland Rebels</td>\n",
       "      <td>13</td>\n",
       "      <td>30</td>\n",
       "      <td>away</td>\n",
       "    </tr>\n",
       "    <tr>\n",
       "      <th>3</th>\n",
       "      <td>1946</td>\n",
       "      <td>1610610026</td>\n",
       "      <td>Cleveland Rebels</td>\n",
       "      <td>17</td>\n",
       "      <td>30</td>\n",
       "      <td>home</td>\n",
       "    </tr>\n",
       "    <tr>\n",
       "      <th>4</th>\n",
       "      <td>1946</td>\n",
       "      <td>1610610028</td>\n",
       "      <td>Detroit Falcons</td>\n",
       "      <td>8</td>\n",
       "      <td>30</td>\n",
       "      <td>away</td>\n",
       "    </tr>\n",
       "    <tr>\n",
       "      <th>...</th>\n",
       "      <td>...</td>\n",
       "      <td>...</td>\n",
       "      <td>...</td>\n",
       "      <td>...</td>\n",
       "      <td>...</td>\n",
       "      <td>...</td>\n",
       "    </tr>\n",
       "    <tr>\n",
       "      <th>3141</th>\n",
       "      <td>2020</td>\n",
       "      <td>1610612764</td>\n",
       "      <td>Washington Wizards</td>\n",
       "      <td>19</td>\n",
       "      <td>36</td>\n",
       "      <td>home</td>\n",
       "    </tr>\n",
       "    <tr>\n",
       "      <th>3142</th>\n",
       "      <td>2020</td>\n",
       "      <td>1610612765</td>\n",
       "      <td>Detroit Pistons</td>\n",
       "      <td>7</td>\n",
       "      <td>37</td>\n",
       "      <td>away</td>\n",
       "    </tr>\n",
       "    <tr>\n",
       "      <th>3143</th>\n",
       "      <td>2020</td>\n",
       "      <td>1610612765</td>\n",
       "      <td>Detroit Pistons</td>\n",
       "      <td>13</td>\n",
       "      <td>36</td>\n",
       "      <td>home</td>\n",
       "    </tr>\n",
       "    <tr>\n",
       "      <th>3144</th>\n",
       "      <td>2020</td>\n",
       "      <td>1610612766</td>\n",
       "      <td>Charlotte Hornets</td>\n",
       "      <td>15</td>\n",
       "      <td>36</td>\n",
       "      <td>away</td>\n",
       "    </tr>\n",
       "    <tr>\n",
       "      <th>3145</th>\n",
       "      <td>2020</td>\n",
       "      <td>1610612766</td>\n",
       "      <td>Charlotte Hornets</td>\n",
       "      <td>18</td>\n",
       "      <td>36</td>\n",
       "      <td>home</td>\n",
       "    </tr>\n",
       "  </tbody>\n",
       "</table>\n",
       "<p>3146 rows × 6 columns</p>\n",
       "</div>"
      ],
      "text/plain": [
       "      season     team_id           team_name  win_count  team_game_count  \\\n",
       "0       1946  1610610025       Chicago Stags         17               30   \n",
       "1       1946  1610610025       Chicago Stags         22               31   \n",
       "2       1946  1610610026    Cleveland Rebels         13               30   \n",
       "3       1946  1610610026    Cleveland Rebels         17               30   \n",
       "4       1946  1610610028     Detroit Falcons          8               30   \n",
       "...      ...         ...                 ...        ...              ...   \n",
       "3141    2020  1610612764  Washington Wizards         19               36   \n",
       "3142    2020  1610612765     Detroit Pistons          7               37   \n",
       "3143    2020  1610612765     Detroit Pistons         13               36   \n",
       "3144    2020  1610612766   Charlotte Hornets         15               36   \n",
       "3145    2020  1610612766   Charlotte Hornets         18               36   \n",
       "\n",
       "     game_location  \n",
       "0             away  \n",
       "1             home  \n",
       "2             away  \n",
       "3             home  \n",
       "4             away  \n",
       "...            ...  \n",
       "3141          home  \n",
       "3142          away  \n",
       "3143          home  \n",
       "3144          away  \n",
       "3145          home  \n",
       "\n",
       "[3146 rows x 6 columns]"
      ]
     },
     "execution_count": 23,
     "metadata": {},
     "output_type": "execute_result"
    }
   ],
   "source": [
    "# Each row of data representes one game for both home and away team\n",
    "# Applied union to the data\n",
    "# Union the HOME and AWAY Data\n",
    "\n",
    "query = \"\"\"\n",
    "    SELECT\n",
    "        SEASON_ID-20000 AS season,\n",
    "        TEAM_ID_HOME as team_id,\n",
    "        TEAM_NAME_HOME AS team_name,\n",
    "        SUM(CASE WL_HOME\n",
    "                WHEN 'W' THEN 1\n",
    "                ELSE 0\n",
    "            END) AS win_count,\n",
    "        COUNT(TEAM_ID_HOME) AS team_game_count,\n",
    "        \"home\" AS game_location\n",
    "    FROM Game\n",
    "    GROUP BY SEASON_ID, TEAM_ID_HOME\n",
    "\n",
    "    UNION\n",
    "\n",
    "    SELECT\n",
    "        SEASON_ID-20000 AS season,\n",
    "        TEAM_ID_AWAY AS team_id,\n",
    "        TEAM_NAME_AWAY AS team_name,\n",
    "        SUM(CASE WL_AWAY\n",
    "                WHEN 'W' THEN 1\n",
    "                ELSE 0\n",
    "            END) AS win_count,\n",
    "        COUNT(TEAM_ID_AWAY) AS team_game_count,\n",
    "        \"away\" AS game_location\n",
    "    FROM Game\n",
    "    GROUP BY SEASON_ID, TEAM_ID_AWAY\n",
    "\"\"\"\n",
    "\n",
    "team_level_home_game_stats = pd.read_sql(query, connection)\n",
    "team_level_home_game_stats"
   ]
  },
  {
   "cell_type": "markdown",
   "metadata": {},
   "source": [
    "#### Adding a new column that calculates the \"win_percentage\""
   ]
  },
  {
   "cell_type": "code",
   "execution_count": 24,
   "metadata": {},
   "outputs": [
    {
     "data": {
      "text/html": [
       "<div>\n",
       "<style scoped>\n",
       "    .dataframe tbody tr th:only-of-type {\n",
       "        vertical-align: middle;\n",
       "    }\n",
       "\n",
       "    .dataframe tbody tr th {\n",
       "        vertical-align: top;\n",
       "    }\n",
       "\n",
       "    .dataframe thead th {\n",
       "        text-align: right;\n",
       "    }\n",
       "</style>\n",
       "<table border=\"1\" class=\"dataframe\">\n",
       "  <thead>\n",
       "    <tr style=\"text-align: right;\">\n",
       "      <th></th>\n",
       "      <th>season</th>\n",
       "      <th>team_id</th>\n",
       "      <th>team_name</th>\n",
       "      <th>win_count</th>\n",
       "      <th>team_game_count</th>\n",
       "      <th>game_location</th>\n",
       "      <th>win_percentage</th>\n",
       "    </tr>\n",
       "  </thead>\n",
       "  <tbody>\n",
       "    <tr>\n",
       "      <th>0</th>\n",
       "      <td>1946</td>\n",
       "      <td>1610610025</td>\n",
       "      <td>Chicago Stags</td>\n",
       "      <td>17</td>\n",
       "      <td>30</td>\n",
       "      <td>away</td>\n",
       "      <td>56.67</td>\n",
       "    </tr>\n",
       "    <tr>\n",
       "      <th>1</th>\n",
       "      <td>1946</td>\n",
       "      <td>1610610025</td>\n",
       "      <td>Chicago Stags</td>\n",
       "      <td>22</td>\n",
       "      <td>31</td>\n",
       "      <td>home</td>\n",
       "      <td>70.97</td>\n",
       "    </tr>\n",
       "    <tr>\n",
       "      <th>2</th>\n",
       "      <td>1946</td>\n",
       "      <td>1610610026</td>\n",
       "      <td>Cleveland Rebels</td>\n",
       "      <td>13</td>\n",
       "      <td>30</td>\n",
       "      <td>away</td>\n",
       "      <td>43.33</td>\n",
       "    </tr>\n",
       "    <tr>\n",
       "      <th>3</th>\n",
       "      <td>1946</td>\n",
       "      <td>1610610026</td>\n",
       "      <td>Cleveland Rebels</td>\n",
       "      <td>17</td>\n",
       "      <td>30</td>\n",
       "      <td>home</td>\n",
       "      <td>56.67</td>\n",
       "    </tr>\n",
       "    <tr>\n",
       "      <th>4</th>\n",
       "      <td>1946</td>\n",
       "      <td>1610610028</td>\n",
       "      <td>Detroit Falcons</td>\n",
       "      <td>8</td>\n",
       "      <td>30</td>\n",
       "      <td>away</td>\n",
       "      <td>26.67</td>\n",
       "    </tr>\n",
       "    <tr>\n",
       "      <th>...</th>\n",
       "      <td>...</td>\n",
       "      <td>...</td>\n",
       "      <td>...</td>\n",
       "      <td>...</td>\n",
       "      <td>...</td>\n",
       "      <td>...</td>\n",
       "      <td>...</td>\n",
       "    </tr>\n",
       "    <tr>\n",
       "      <th>3141</th>\n",
       "      <td>2020</td>\n",
       "      <td>1610612764</td>\n",
       "      <td>Washington Wizards</td>\n",
       "      <td>19</td>\n",
       "      <td>36</td>\n",
       "      <td>home</td>\n",
       "      <td>52.78</td>\n",
       "    </tr>\n",
       "    <tr>\n",
       "      <th>3142</th>\n",
       "      <td>2020</td>\n",
       "      <td>1610612765</td>\n",
       "      <td>Detroit Pistons</td>\n",
       "      <td>7</td>\n",
       "      <td>37</td>\n",
       "      <td>away</td>\n",
       "      <td>18.92</td>\n",
       "    </tr>\n",
       "    <tr>\n",
       "      <th>3143</th>\n",
       "      <td>2020</td>\n",
       "      <td>1610612765</td>\n",
       "      <td>Detroit Pistons</td>\n",
       "      <td>13</td>\n",
       "      <td>36</td>\n",
       "      <td>home</td>\n",
       "      <td>36.11</td>\n",
       "    </tr>\n",
       "    <tr>\n",
       "      <th>3144</th>\n",
       "      <td>2020</td>\n",
       "      <td>1610612766</td>\n",
       "      <td>Charlotte Hornets</td>\n",
       "      <td>15</td>\n",
       "      <td>36</td>\n",
       "      <td>away</td>\n",
       "      <td>41.67</td>\n",
       "    </tr>\n",
       "    <tr>\n",
       "      <th>3145</th>\n",
       "      <td>2020</td>\n",
       "      <td>1610612766</td>\n",
       "      <td>Charlotte Hornets</td>\n",
       "      <td>18</td>\n",
       "      <td>36</td>\n",
       "      <td>home</td>\n",
       "      <td>50.00</td>\n",
       "    </tr>\n",
       "  </tbody>\n",
       "</table>\n",
       "<p>3146 rows × 7 columns</p>\n",
       "</div>"
      ],
      "text/plain": [
       "      season     team_id           team_name  win_count  team_game_count  \\\n",
       "0       1946  1610610025       Chicago Stags         17               30   \n",
       "1       1946  1610610025       Chicago Stags         22               31   \n",
       "2       1946  1610610026    Cleveland Rebels         13               30   \n",
       "3       1946  1610610026    Cleveland Rebels         17               30   \n",
       "4       1946  1610610028     Detroit Falcons          8               30   \n",
       "...      ...         ...                 ...        ...              ...   \n",
       "3141    2020  1610612764  Washington Wizards         19               36   \n",
       "3142    2020  1610612765     Detroit Pistons          7               37   \n",
       "3143    2020  1610612765     Detroit Pistons         13               36   \n",
       "3144    2020  1610612766   Charlotte Hornets         15               36   \n",
       "3145    2020  1610612766   Charlotte Hornets         18               36   \n",
       "\n",
       "     game_location  win_percentage  \n",
       "0             away           56.67  \n",
       "1             home           70.97  \n",
       "2             away           43.33  \n",
       "3             home           56.67  \n",
       "4             away           26.67  \n",
       "...            ...             ...  \n",
       "3141          home           52.78  \n",
       "3142          away           18.92  \n",
       "3143          home           36.11  \n",
       "3144          away           41.67  \n",
       "3145          home           50.00  \n",
       "\n",
       "[3146 rows x 7 columns]"
      ]
     },
     "execution_count": 24,
     "metadata": {},
     "output_type": "execute_result"
    }
   ],
   "source": [
    "team_level_home_game_stats['win_percentage'] = round(100 * team_level_home_game_stats['win_count'] / \n",
    "                                                     team_level_home_game_stats['team_game_count'], 2)\n",
    "\n",
    "team_level_home_game_stats\n"
   ]
  },
  {
   "cell_type": "markdown",
   "metadata": {},
   "source": [
    "#### Compare the home game won percentage and away game won percentage for each year by team"
   ]
  },
  {
   "cell_type": "code",
   "execution_count": 25,
   "metadata": {},
   "outputs": [
    {
     "data": {
      "application/vnd.plotly.v1+json": {
       "config": {
        "plotlyServerURL": "https://plot.ly"
       },
       "data": [
        {
         "hovertemplate": "game_location=away<br>season=%{x}<br>win_percentage=%{y}<extra></extra>",
         "legendgroup": "away",
         "marker": {
          "color": "#636efa",
          "symbol": "circle"
         },
         "mode": "markers",
         "name": "away",
         "showlegend": true,
         "type": "scattergl",
         "x": [
          1946,
          1946,
          1946,
          1946,
          1946,
          1946,
          1946,
          1946,
          1946,
          1946,
          1946,
          1947,
          1947,
          1947,
          1947,
          1947,
          1947,
          1947,
          1947,
          1948,
          1948,
          1948,
          1948,
          1948,
          1948,
          1948,
          1948,
          1948,
          1948,
          1948,
          1948,
          1949,
          1949,
          1949,
          1949,
          1949,
          1949,
          1949,
          1949,
          1949,
          1949,
          1949,
          1949,
          1949,
          1949,
          1949,
          1949,
          1949,
          1950,
          1950,
          1950,
          1950,
          1950,
          1950,
          1950,
          1950,
          1950,
          1950,
          1950,
          1951,
          1951,
          1951,
          1951,
          1951,
          1951,
          1951,
          1951,
          1951,
          1951,
          1952,
          1952,
          1952,
          1952,
          1952,
          1952,
          1952,
          1952,
          1952,
          1952,
          1953,
          1953,
          1953,
          1953,
          1953,
          1953,
          1953,
          1953,
          1953,
          1954,
          1954,
          1954,
          1954,
          1954,
          1954,
          1954,
          1954,
          1955,
          1955,
          1955,
          1955,
          1955,
          1955,
          1955,
          1955,
          1956,
          1956,
          1956,
          1956,
          1956,
          1956,
          1956,
          1956,
          1957,
          1957,
          1957,
          1957,
          1957,
          1957,
          1957,
          1957,
          1958,
          1958,
          1958,
          1958,
          1958,
          1958,
          1958,
          1958,
          1959,
          1959,
          1959,
          1959,
          1959,
          1959,
          1959,
          1959,
          1960,
          1960,
          1960,
          1960,
          1960,
          1960,
          1960,
          1960,
          1961,
          1961,
          1961,
          1961,
          1961,
          1961,
          1961,
          1961,
          1961,
          1962,
          1962,
          1962,
          1962,
          1962,
          1962,
          1962,
          1962,
          1962,
          1963,
          1963,
          1963,
          1963,
          1963,
          1963,
          1963,
          1963,
          1963,
          1964,
          1964,
          1964,
          1964,
          1964,
          1964,
          1964,
          1964,
          1964,
          1965,
          1965,
          1965,
          1965,
          1965,
          1965,
          1965,
          1965,
          1965,
          1966,
          1966,
          1966,
          1966,
          1966,
          1966,
          1966,
          1966,
          1966,
          1966,
          1967,
          1967,
          1967,
          1967,
          1967,
          1967,
          1967,
          1967,
          1967,
          1967,
          1967,
          1967,
          1968,
          1968,
          1968,
          1968,
          1968,
          1968,
          1968,
          1968,
          1968,
          1968,
          1968,
          1968,
          1968,
          1968,
          1969,
          1969,
          1969,
          1969,
          1969,
          1969,
          1969,
          1969,
          1969,
          1969,
          1969,
          1969,
          1969,
          1969,
          1970,
          1970,
          1970,
          1970,
          1970,
          1970,
          1970,
          1970,
          1970,
          1970,
          1970,
          1970,
          1970,
          1970,
          1970,
          1970,
          1970,
          1971,
          1971,
          1971,
          1971,
          1971,
          1971,
          1971,
          1971,
          1971,
          1971,
          1971,
          1971,
          1971,
          1971,
          1971,
          1971,
          1971,
          1972,
          1972,
          1972,
          1972,
          1972,
          1972,
          1972,
          1972,
          1972,
          1972,
          1972,
          1972,
          1972,
          1972,
          1972,
          1972,
          1972,
          1973,
          1973,
          1973,
          1973,
          1973,
          1973,
          1973,
          1973,
          1973,
          1973,
          1973,
          1973,
          1973,
          1973,
          1973,
          1973,
          1973,
          1974,
          1974,
          1974,
          1974,
          1974,
          1974,
          1974,
          1974,
          1974,
          1974,
          1974,
          1974,
          1974,
          1974,
          1974,
          1974,
          1974,
          1974,
          1975,
          1975,
          1975,
          1975,
          1975,
          1975,
          1975,
          1975,
          1975,
          1975,
          1975,
          1975,
          1975,
          1975,
          1975,
          1975,
          1975,
          1975,
          1976,
          1976,
          1976,
          1976,
          1976,
          1976,
          1976,
          1976,
          1976,
          1976,
          1976,
          1976,
          1976,
          1976,
          1976,
          1976,
          1976,
          1976,
          1976,
          1976,
          1976,
          1976,
          1977,
          1977,
          1977,
          1977,
          1977,
          1977,
          1977,
          1977,
          1977,
          1977,
          1977,
          1977,
          1977,
          1977,
          1977,
          1977,
          1977,
          1977,
          1977,
          1977,
          1977,
          1977,
          1978,
          1978,
          1978,
          1978,
          1978,
          1978,
          1978,
          1978,
          1978,
          1978,
          1978,
          1978,
          1978,
          1978,
          1978,
          1978,
          1978,
          1978,
          1978,
          1978,
          1978,
          1978,
          1979,
          1979,
          1979,
          1979,
          1979,
          1979,
          1979,
          1979,
          1979,
          1979,
          1979,
          1979,
          1979,
          1979,
          1979,
          1979,
          1979,
          1979,
          1979,
          1979,
          1979,
          1979,
          1980,
          1980,
          1980,
          1980,
          1980,
          1980,
          1980,
          1980,
          1980,
          1980,
          1980,
          1980,
          1980,
          1980,
          1980,
          1980,
          1980,
          1980,
          1980,
          1980,
          1980,
          1980,
          1980,
          1981,
          1981,
          1981,
          1981,
          1981,
          1981,
          1981,
          1981,
          1981,
          1981,
          1981,
          1981,
          1981,
          1981,
          1981,
          1981,
          1981,
          1981,
          1981,
          1981,
          1981,
          1981,
          1981,
          1982,
          1982,
          1982,
          1982,
          1982,
          1982,
          1982,
          1982,
          1982,
          1982,
          1982,
          1982,
          1982,
          1982,
          1982,
          1982,
          1982,
          1982,
          1982,
          1982,
          1982,
          1982,
          1982,
          1983,
          1983,
          1983,
          1983,
          1983,
          1983,
          1983,
          1983,
          1983,
          1983,
          1983,
          1983,
          1983,
          1983,
          1983,
          1983,
          1983,
          1983,
          1983,
          1983,
          1983,
          1983,
          1983,
          1984,
          1984,
          1984,
          1984,
          1984,
          1984,
          1984,
          1984,
          1984,
          1984,
          1984,
          1984,
          1984,
          1984,
          1984,
          1984,
          1984,
          1984,
          1984,
          1984,
          1984,
          1984,
          1984,
          1985,
          1985,
          1985,
          1985,
          1985,
          1985,
          1985,
          1985,
          1985,
          1985,
          1985,
          1985,
          1985,
          1985,
          1985,
          1985,
          1985,
          1985,
          1985,
          1985,
          1985,
          1985,
          1985,
          1986,
          1986,
          1986,
          1986,
          1986,
          1986,
          1986,
          1986,
          1986,
          1986,
          1986,
          1986,
          1986,
          1986,
          1986,
          1986,
          1986,
          1986,
          1986,
          1986,
          1986,
          1986,
          1986,
          1987,
          1987,
          1987,
          1987,
          1987,
          1987,
          1987,
          1987,
          1987,
          1987,
          1987,
          1987,
          1987,
          1987,
          1987,
          1987,
          1987,
          1987,
          1987,
          1987,
          1987,
          1987,
          1987,
          1988,
          1988,
          1988,
          1988,
          1988,
          1988,
          1988,
          1988,
          1988,
          1988,
          1988,
          1988,
          1988,
          1988,
          1988,
          1988,
          1988,
          1988,
          1988,
          1988,
          1988,
          1988,
          1988,
          1988,
          1988,
          1989,
          1989,
          1989,
          1989,
          1989,
          1989,
          1989,
          1989,
          1989,
          1989,
          1989,
          1989,
          1989,
          1989,
          1989,
          1989,
          1989,
          1989,
          1989,
          1989,
          1989,
          1989,
          1989,
          1989,
          1989,
          1989,
          1989,
          1990,
          1990,
          1990,
          1990,
          1990,
          1990,
          1990,
          1990,
          1990,
          1990,
          1990,
          1990,
          1990,
          1990,
          1990,
          1990,
          1990,
          1990,
          1990,
          1990,
          1990,
          1990,
          1990,
          1990,
          1990,
          1990,
          1990,
          1991,
          1991,
          1991,
          1991,
          1991,
          1991,
          1991,
          1991,
          1991,
          1991,
          1991,
          1991,
          1991,
          1991,
          1991,
          1991,
          1991,
          1991,
          1991,
          1991,
          1991,
          1991,
          1991,
          1991,
          1991,
          1991,
          1991,
          1992,
          1992,
          1992,
          1992,
          1992,
          1992,
          1992,
          1992,
          1992,
          1992,
          1992,
          1992,
          1992,
          1992,
          1992,
          1992,
          1992,
          1992,
          1992,
          1992,
          1992,
          1992,
          1992,
          1992,
          1992,
          1992,
          1992,
          1993,
          1993,
          1993,
          1993,
          1993,
          1993,
          1993,
          1993,
          1993,
          1993,
          1993,
          1993,
          1993,
          1993,
          1993,
          1993,
          1993,
          1993,
          1993,
          1993,
          1993,
          1993,
          1993,
          1993,
          1993,
          1993,
          1993,
          1994,
          1994,
          1994,
          1994,
          1994,
          1994,
          1994,
          1994,
          1994,
          1994,
          1994,
          1994,
          1994,
          1994,
          1994,
          1994,
          1994,
          1994,
          1994,
          1994,
          1994,
          1994,
          1994,
          1994,
          1994,
          1994,
          1994,
          1995,
          1995,
          1995,
          1995,
          1995,
          1995,
          1995,
          1995,
          1995,
          1995,
          1995,
          1995,
          1995,
          1995,
          1995,
          1995,
          1995,
          1995,
          1995,
          1995,
          1995,
          1995,
          1995,
          1995,
          1995,
          1995,
          1995,
          1995,
          1995,
          1996,
          1996,
          1996,
          1996,
          1996,
          1996,
          1996,
          1996,
          1996,
          1996,
          1996,
          1996,
          1996,
          1996,
          1996,
          1996,
          1996,
          1996,
          1996,
          1996,
          1996,
          1996,
          1996,
          1996,
          1996,
          1996,
          1996,
          1996,
          1996,
          1997,
          1997,
          1997,
          1997,
          1997,
          1997,
          1997,
          1997,
          1997,
          1997,
          1997,
          1997,
          1997,
          1997,
          1997,
          1997,
          1997,
          1997,
          1997,
          1997,
          1997,
          1997,
          1997,
          1997,
          1997,
          1997,
          1997,
          1997,
          1997,
          1998,
          1998,
          1998,
          1998,
          1998,
          1998,
          1998,
          1998,
          1998,
          1998,
          1998,
          1998,
          1998,
          1998,
          1998,
          1998,
          1998,
          1998,
          1998,
          1998,
          1998,
          1998,
          1998,
          1998,
          1998,
          1998,
          1998,
          1998,
          1998,
          1999,
          1999,
          1999,
          1999,
          1999,
          1999,
          1999,
          1999,
          1999,
          1999,
          1999,
          1999,
          1999,
          1999,
          1999,
          1999,
          1999,
          1999,
          1999,
          1999,
          1999,
          1999,
          1999,
          1999,
          1999,
          1999,
          1999,
          1999,
          1999,
          2000,
          2000,
          2000,
          2000,
          2000,
          2000,
          2000,
          2000,
          2000,
          2000,
          2000,
          2000,
          2000,
          2000,
          2000,
          2000,
          2000,
          2000,
          2000,
          2000,
          2000,
          2000,
          2000,
          2000,
          2000,
          2000,
          2000,
          2000,
          2000,
          2001,
          2001,
          2001,
          2001,
          2001,
          2001,
          2001,
          2001,
          2001,
          2001,
          2001,
          2001,
          2001,
          2001,
          2001,
          2001,
          2001,
          2001,
          2001,
          2001,
          2001,
          2001,
          2001,
          2001,
          2001,
          2001,
          2001,
          2001,
          2001,
          2002,
          2002,
          2002,
          2002,
          2002,
          2002,
          2002,
          2002,
          2002,
          2002,
          2002,
          2002,
          2002,
          2002,
          2002,
          2002,
          2002,
          2002,
          2002,
          2002,
          2002,
          2002,
          2002,
          2002,
          2002,
          2002,
          2002,
          2002,
          2002,
          2003,
          2003,
          2003,
          2003,
          2003,
          2003,
          2003,
          2003,
          2003,
          2003,
          2003,
          2003,
          2003,
          2003,
          2003,
          2003,
          2003,
          2003,
          2003,
          2003,
          2003,
          2003,
          2003,
          2003,
          2003,
          2003,
          2003,
          2003,
          2003,
          2004,
          2004,
          2004,
          2004,
          2004,
          2004,
          2004,
          2004,
          2004,
          2004,
          2004,
          2004,
          2004,
          2004,
          2004,
          2004,
          2004,
          2004,
          2004,
          2004,
          2004,
          2004,
          2004,
          2004,
          2004,
          2004,
          2004,
          2004,
          2004,
          2004,
          2005,
          2005,
          2005,
          2005,
          2005,
          2005,
          2005,
          2005,
          2005,
          2005,
          2005,
          2005,
          2005,
          2005,
          2005,
          2005,
          2005,
          2005,
          2005,
          2005,
          2005,
          2005,
          2005,
          2005,
          2005,
          2005,
          2005,
          2005,
          2005,
          2005,
          2006,
          2006,
          2006,
          2006,
          2006,
          2006,
          2006,
          2006,
          2006,
          2006,
          2006,
          2006,
          2006,
          2006,
          2006,
          2006,
          2006,
          2006,
          2006,
          2006,
          2006,
          2006,
          2006,
          2006,
          2006,
          2006,
          2006,
          2006,
          2006,
          2006,
          2007,
          2007,
          2007,
          2007,
          2007,
          2007,
          2007,
          2007,
          2007,
          2007,
          2007,
          2007,
          2007,
          2007,
          2007,
          2007,
          2007,
          2007,
          2007,
          2007,
          2007,
          2007,
          2007,
          2007,
          2007,
          2007,
          2007,
          2007,
          2007,
          2007,
          2008,
          2008,
          2008,
          2008,
          2008,
          2008,
          2008,
          2008,
          2008,
          2008,
          2008,
          2008,
          2008,
          2008,
          2008,
          2008,
          2008,
          2008,
          2008,
          2008,
          2008,
          2008,
          2008,
          2008,
          2008,
          2008,
          2008,
          2008,
          2008,
          2008,
          2009,
          2009,
          2009,
          2009,
          2009,
          2009,
          2009,
          2009,
          2009,
          2009,
          2009,
          2009,
          2009,
          2009,
          2009,
          2009,
          2009,
          2009,
          2009,
          2009,
          2009,
          2009,
          2009,
          2009,
          2009,
          2009,
          2009,
          2009,
          2009,
          2009,
          2010,
          2010,
          2010,
          2010,
          2010,
          2010,
          2010,
          2010,
          2010,
          2010,
          2010,
          2010,
          2010,
          2010,
          2010,
          2010,
          2010,
          2010,
          2010,
          2010,
          2010,
          2010,
          2010,
          2010,
          2010,
          2010,
          2010,
          2010,
          2010,
          2010,
          2011,
          2011,
          2011,
          2011,
          2011,
          2011,
          2011,
          2011,
          2011,
          2011,
          2011,
          2011,
          2011,
          2011,
          2011,
          2011,
          2011,
          2011,
          2011,
          2011,
          2011,
          2011,
          2011,
          2011,
          2011,
          2011,
          2011,
          2011,
          2011,
          2011,
          2012,
          2012,
          2012,
          2012,
          2012,
          2012,
          2012,
          2012,
          2012,
          2012,
          2012,
          2012,
          2012,
          2012,
          2012,
          2012,
          2012,
          2012,
          2012,
          2012,
          2012,
          2012,
          2012,
          2012,
          2012,
          2012,
          2012,
          2012,
          2012,
          2012,
          2013,
          2013,
          2013,
          2013,
          2013,
          2013,
          2013,
          2013,
          2013,
          2013,
          2013,
          2013,
          2013,
          2013,
          2013,
          2013,
          2013,
          2013,
          2013,
          2013,
          2013,
          2013,
          2013,
          2013,
          2013,
          2013,
          2013,
          2013,
          2013,
          2013,
          2014,
          2014,
          2014,
          2014,
          2014,
          2014,
          2014,
          2014,
          2014,
          2014,
          2014,
          2014,
          2014,
          2014,
          2014,
          2014,
          2014,
          2014,
          2014,
          2014,
          2014,
          2014,
          2014,
          2014,
          2014,
          2014,
          2014,
          2014,
          2014,
          2014,
          2015,
          2015,
          2015,
          2015,
          2015,
          2015,
          2015,
          2015,
          2015,
          2015,
          2015,
          2015,
          2015,
          2015,
          2015,
          2015,
          2015,
          2015,
          2015,
          2015,
          2015,
          2015,
          2015,
          2015,
          2015,
          2015,
          2015,
          2015,
          2015,
          2015,
          2016,
          2016,
          2016,
          2016,
          2016,
          2016,
          2016,
          2016,
          2016,
          2016,
          2016,
          2016,
          2016,
          2016,
          2016,
          2016,
          2016,
          2016,
          2016,
          2016,
          2016,
          2016,
          2016,
          2016,
          2016,
          2016,
          2016,
          2016,
          2016,
          2016,
          2017,
          2017,
          2017,
          2017,
          2017,
          2017,
          2017,
          2017,
          2017,
          2017,
          2017,
          2017,
          2017,
          2017,
          2017,
          2017,
          2017,
          2017,
          2017,
          2017,
          2017,
          2017,
          2017,
          2017,
          2017,
          2017,
          2017,
          2017,
          2017,
          2017,
          2018,
          2018,
          2018,
          2018,
          2018,
          2018,
          2018,
          2018,
          2018,
          2018,
          2018,
          2018,
          2018,
          2018,
          2018,
          2018,
          2018,
          2018,
          2018,
          2018,
          2018,
          2018,
          2018,
          2018,
          2018,
          2018,
          2018,
          2018,
          2018,
          2018,
          2019,
          2019,
          2019,
          2019,
          2019,
          2019,
          2019,
          2019,
          2019,
          2019,
          2019,
          2019,
          2019,
          2019,
          2019,
          2019,
          2019,
          2019,
          2019,
          2019,
          2019,
          2019,
          2019,
          2019,
          2019,
          2019,
          2019,
          2019,
          2019,
          2019,
          2020,
          2020,
          2020,
          2020,
          2020,
          2020,
          2020,
          2020,
          2020,
          2020,
          2020,
          2020,
          2020,
          2020,
          2020,
          2020,
          2020,
          2020,
          2020,
          2020,
          2020,
          2020,
          2020,
          2020,
          2020,
          2020,
          2020,
          2020,
          2020,
          2020
         ],
         "xaxis": "x",
         "y": [
          56.67,
          43.33,
          26.67,
          13.33,
          30,
          51.61,
          23.33,
          66.67,
          25.81,
          35.71,
          48.39,
          46.15,
          58.33,
          14.29,
          50,
          33.33,
          30,
          54.17,
          58.33,
          36.67,
          54.84,
          12.9,
          16.13,
          34.48,
          50,
          23.33,
          29.03,
          55.17,
          44.83,
          66.67,
          17.24,
          40,
          22.22,
          37.84,
          2.78,
          40,
          16.13,
          20,
          30.3,
          6.67,
          21.43,
          13.51,
          22.86,
          54.29,
          50,
          55.56,
          51.52,
          35.29,
          11.76,
          28.57,
          18.75,
          6.25,
          28.57,
          34.38,
          36.36,
          30.56,
          27.27,
          35.29,
          14.71,
          6.06,
          13.33,
          7.69,
          35.48,
          18.75,
          39.39,
          32.43,
          38.71,
          37.5,
          18.75,
          8.11,
          15.15,
          10.26,
          36.36,
          2.17,
          45.71,
          44.12,
          31.25,
          43.33,
          25,
          2.63,
          11.9,
          31.43,
          17.07,
          38.24,
          42.86,
          33.33,
          40,
          31.43,
          22.22,
          16.67,
          17.5,
          32.43,
          24.24,
          38.71,
          12.5,
          35.29,
          30,
          33.33,
          41.18,
          20.59,
          42.11,
          25,
          18.75,
          27.03,
          26.32,
          35.14,
          16.67,
          16.67,
          26.47,
          27.27,
          18.92,
          12.82,
          28.12,
          48.65,
          31.43,
          10,
          30.56,
          24.24,
          27.03,
          34.21,
          41.18,
          48.39,
          20.51,
          21.95,
          41.67,
          34.29,
          8.11,
          22.86,
          35.14,
          64.1,
          37.5,
          21.43,
          26.32,
          34.29,
          10.53,
          20.51,
          39.47,
          61.54,
          33.33,
          20.51,
          16.67,
          21.05,
          25.58,
          10.53,
          18.6,
          63.41,
          51.22,
          46.15,
          7.69,
          31.58,
          38.46,
          7.14,
          23.68,
          35.9,
          55.26,
          27.5,
          50,
          12.2,
          36.84,
          35.71,
          9.52,
          25,
          43.59,
          57.5,
          55,
          37.5,
          21.43,
          27.91,
          51.35,
          21.62,
          16.67,
          41.67,
          64.29,
          15,
          53.85,
          26.32,
          28.21,
          41.46,
          31.71,
          27.27,
          17.07,
          47.5,
          24.32,
          35.14,
          14.29,
          47.62,
          28.21,
          10.81,
          8.89,
          28.57,
          60.47,
          25.64,
          34.21,
          33.33,
          30.23,
          73.68,
          34.21,
          7.32,
          25,
          53.66,
          52.5,
          31.11,
          39.02,
          10.53,
          50,
          48.84,
          69.23,
          32.5,
          17.07,
          34.15,
          31.11,
          46.34,
          50,
          30,
          46.34,
          23.68,
          56.1,
          19.51,
          47.5,
          56.82,
          9.76,
          46.15,
          19.05,
          60.98,
          19.51,
          46.15,
          32.5,
          23.26,
          30.43,
          9.52,
          45,
          64.1,
          71.79,
          40,
          30,
          31.82,
          23.81,
          48.72,
          24.39,
          36.59,
          42.86,
          9.76,
          50,
          46.34,
          36.59,
          15,
          42.5,
          68.29,
          48.78,
          51.22,
          50,
          22.5,
          26.67,
          26.19,
          39.02,
          50,
          34.15,
          57.5,
          24.39,
          68.29,
          51.22,
          37.5,
          19.51,
          80.49,
          70.73,
          51.22,
          34.15,
          46.34,
          9.52,
          19.05,
          43.9,
          39.02,
          24.39,
          43.9,
          80.49,
          29.27,
          53.66,
          48.78,
          29.27,
          17.07,
          73.17,
          60.98,
          53.66,
          7.32,
          39.02,
          19.51,
          29.27,
          24.39,
          56.1,
          34.15,
          29.27,
          52.38,
          26.83,
          52.5,
          51.22,
          32.5,
          38.64,
          41.46,
          60,
          51.22,
          21.95,
          14.63,
          12.2,
          31.71,
          34.15,
          37.5,
          56.1,
          21.95,
          78.05,
          26.83,
          43.9,
          41.46,
          29.27,
          46.34,
          21.95,
          31.71,
          41.46,
          34.15,
          24.39,
          22.5,
          36.59,
          45.24,
          7.32,
          58.54,
          34.15,
          21.95,
          56.1,
          48.78,
          21.95,
          56.1,
          30.95,
          45,
          22.5,
          39.02,
          34.15,
          29.27,
          36.59,
          28.57,
          14.63,
          29.27,
          39.02,
          41.46,
          29.27,
          29.27,
          39.02,
          34.15,
          31.71,
          34.15,
          41.46,
          36.59,
          17.07,
          39.02,
          14.63,
          29.27,
          34.15,
          26.83,
          43.9,
          19.51,
          34.15,
          29.27,
          31.71,
          31.71,
          21.95,
          39.02,
          34.15,
          29.27,
          19.51,
          39.02,
          26.83,
          36.59,
          31.71,
          17.07,
          17.07,
          39.02,
          39.02,
          14.63,
          34.15,
          24.39,
          43.9,
          36.59,
          53.66,
          21.95,
          48.78,
          39.02,
          29.27,
          36.59,
          34.15,
          29.27,
          19.51,
          24.39,
          29.27,
          43.9,
          36.59,
          41.46,
          34.15,
          39.02,
          24.39,
          29.27,
          19.51,
          31.71,
          39.02,
          43.9,
          29.27,
          39.02,
          46.34,
          51.22,
          9.76,
          56.1,
          19.51,
          43.9,
          63.41,
          21.95,
          21.95,
          14.63,
          21.95,
          29.27,
          26.83,
          56.1,
          50,
          29.27,
          34.15,
          26.83,
          56.1,
          45,
          29.27,
          41.46,
          34.15,
          56.1,
          17.07,
          36.59,
          7.32,
          26.83,
          65.85,
          19.51,
          46.34,
          9.76,
          34.15,
          31.71,
          36.59,
          34.15,
          58.54,
          63.41,
          19.51,
          53.66,
          41.46,
          60.98,
          51.22,
          36.59,
          39.02,
          43.9,
          29.27,
          19.51,
          31.71,
          17.07,
          43.9,
          68.29,
          14.63,
          29.27,
          29.27,
          41.46,
          41.46,
          51.22,
          14.63,
          65.85,
          58.54,
          46.34,
          34.15,
          24.39,
          63.41,
          36.59,
          36.59,
          17.07,
          46.34,
          51.22,
          17.07,
          51.22,
          39.02,
          41.46,
          56.1,
          19.51,
          24.39,
          36.59,
          39.02,
          21.95,
          12.2,
          17.07,
          60.98,
          48.78,
          46.34,
          43.9,
          14.63,
          73.17,
          51.22,
          36.59,
          36.59,
          53.66,
          46.34,
          21.95,
          36.59,
          34.15,
          21.95,
          70.73,
          12.2,
          21.95,
          29.27,
          26.83,
          24.39,
          19.51,
          12.2,
          63.41,
          48.78,
          39.02,
          43.9,
          14.63,
          48.78,
          24.39,
          36.59,
          29.27,
          21.95,
          24.39,
          34.15,
          24.39,
          46.34,
          36.59,
          68.29,
          39.02,
          29.27,
          48.78,
          43.9,
          12.2,
          46.34,
          26.83,
          63.41,
          56.1,
          36.59,
          12.2,
          14.63,
          58.54,
          24.39,
          29.27,
          19.51,
          26.83,
          26.83,
          36.59,
          29.27,
          48.78,
          39.02,
          65.85,
          31.71,
          19.51,
          43.9,
          31.71,
          14.63,
          36.59,
          24.39,
          65.85,
          58.54,
          31.71,
          19.51,
          17.07,
          56.1,
          21.95,
          31.71,
          29.27,
          34.15,
          17.07,
          36.59,
          31.71,
          36.59,
          53.66,
          48.78,
          14.63,
          26.83,
          48.78,
          24.39,
          41.46,
          41.46,
          7.32,
          68.29,
          43.9,
          12.2,
          14.63,
          31.71,
          41.46,
          24.39,
          36.59,
          21.95,
          17.07,
          34.15,
          31.71,
          36.59,
          48.78,
          48.78,
          51.22,
          26.83,
          48.78,
          48.78,
          46.34,
          9.76,
          36.59,
          7.32,
          63.41,
          29.27,
          7.32,
          21.95,
          31.71,
          21.95,
          14.63,
          48.78,
          12.2,
          19.51,
          29.27,
          34.15,
          31.71,
          48.78,
          46.34,
          24.39,
          48.78,
          41.46,
          34.15,
          21.95,
          34.15,
          34.15,
          9.76,
          53.66,
          7.32,
          43.9,
          21.95,
          41.46,
          19.51,
          39.02,
          48.78,
          26.83,
          14.63,
          7.32,
          39.02,
          41.46,
          24.39,
          63.41,
          19.51,
          39.02,
          53.66,
          36.59,
          46.34,
          41.46,
          36.59,
          24.39,
          24.39,
          24.39,
          63.41,
          17.07,
          41.46,
          12.2,
          9.76,
          39.02,
          14.63,
          34.15,
          46.34,
          53.66,
          58.54,
          17.07,
          53.66,
          26.83,
          46.34,
          26.83,
          58.54,
          14.63,
          34.15,
          51.22,
          24.39,
          63.41,
          19.51,
          7.32,
          34.15,
          51.22,
          19.51,
          60.98,
          14.63,
          36.59,
          19.51,
          14.63,
          43.9,
          17.07,
          29.27,
          36.59,
          56.1,
          65.85,
          2.44,
          53.66,
          31.71,
          43.9,
          21.95,
          43.9,
          21.95,
          36.59,
          41.46,
          53.66,
          75.61,
          17.07,
          14.63,
          58.54,
          34.15,
          39.02,
          46.34,
          24.39,
          14.63,
          14.63,
          36.59,
          51.22,
          19.51,
          34.15,
          29.27,
          41.46,
          58.54,
          19.51,
          39.02,
          46.34,
          43.9,
          26.83,
          56.1,
          21.95,
          43.9,
          48.78,
          46.34,
          63.41,
          9.76,
          19.51,
          36.59,
          58.54,
          34.15,
          46.34,
          24.39,
          24.39,
          19.51,
          41.46,
          56.1,
          34.15,
          34.15,
          26.83,
          65.85,
          51.22,
          21.95,
          43.9,
          53.66,
          46.34,
          17.07,
          29.27,
          53.66,
          51.22,
          34.15,
          39.02,
          58.54,
          17.07,
          34.15,
          51.22,
          56.1,
          24.39,
          29.27,
          48.78,
          21.95,
          17.07,
          39.02,
          60.98,
          46.34,
          43.9,
          24.39,
          48.78,
          41.46,
          19.51,
          56.1,
          63.41,
          48.78,
          17.07,
          24.39,
          31.71,
          43.9,
          36.59,
          41.46,
          46.34,
          41.46,
          43.9,
          26.83,
          53.66,
          9.76,
          46.34,
          24.39,
          29.27,
          19.51,
          24.39,
          63.41,
          43.9,
          46.34,
          24.39,
          65.85,
          43.9,
          29.27,
          70.73,
          60.98,
          65.85,
          19.51,
          14.63,
          51.22,
          48.78,
          36.59,
          51.22,
          80.49,
          24.39,
          26.83,
          31.71,
          51.22,
          24.39,
          56.1,
          39.02,
          26.83,
          21.95,
          24.39,
          51.22,
          56.1,
          48.78,
          17.07,
          39.02,
          43.9,
          31.71,
          63.41,
          63.41,
          14.63,
          51.22,
          12.2,
          34.15,
          39.02,
          39.02,
          48.78,
          9.76,
          41.46,
          73.17,
          24.39,
          21.95,
          29.27,
          65.85,
          36.59,
          60.98,
          78.05,
          31.71,
          36.59,
          24.39,
          63.41,
          46.34,
          43.9,
          26.83,
          36.59,
          48.78,
          29.27,
          19.51,
          63.41,
          29.27,
          63.41,
          14.63,
          46.34,
          58.54,
          58.54,
          51.22,
          29.27,
          48.78,
          60.98,
          17.07,
          4.88,
          17.07,
          41.46,
          14.63,
          68.29,
          60.98,
          36.59,
          46.34,
          41.46,
          36.59,
          41.46,
          63.41,
          29.27,
          63.41,
          48.78,
          14.63,
          60.98,
          63.41,
          17.07,
          63.41,
          12.2,
          43.9,
          29.27,
          46.34,
          60,
          36,
          28,
          20,
          16,
          8,
          32,
          48,
          12,
          52,
          60,
          44,
          28,
          16,
          32,
          48,
          60,
          44,
          48,
          52,
          44,
          64,
          32,
          36,
          60,
          4,
          20,
          48,
          40,
          17.07,
          21.95,
          24.39,
          12.2,
          43.9,
          24.39,
          17.07,
          29.27,
          12.2,
          75.61,
          46.34,
          46.34,
          58.54,
          21.95,
          41.46,
          36.59,
          48.78,
          48.78,
          51.22,
          70.73,
          34.15,
          53.66,
          51.22,
          46.34,
          58.54,
          24.39,
          29.27,
          36.59,
          46.34,
          17.07,
          39.02,
          24.39,
          12.2,
          60.98,
          26.83,
          14.63,
          51.22,
          21.95,
          60.98,
          51.22,
          51.22,
          41.46,
          19.51,
          43.9,
          41.46,
          36.59,
          65.85,
          48.78,
          53.66,
          53.66,
          60.98,
          43.9,
          48.78,
          60.98,
          19.51,
          17.07,
          34.15,
          43.9,
          24.39,
          53.66,
          21.95,
          17.07,
          65.85,
          17.07,
          17.07,
          24.39,
          34.15,
          58.54,
          43.9,
          39.02,
          51.22,
          46.34,
          26.83,
          41.46,
          41.46,
          51.22,
          31.71,
          46.34,
          60.98,
          63.41,
          46.34,
          43.9,
          46.34,
          19.51,
          36.59,
          58.54,
          56.1,
          21.95,
          46.34,
          7.32,
          43.9,
          7.32,
          65.85,
          9.76,
          34.15,
          36.59,
          26.83,
          46.34,
          21.95,
          40.48,
          43.9,
          39.02,
          31.71,
          39.02,
          39.02,
          56.1,
          34.15,
          56.1,
          58.54,
          66.67,
          36.59,
          21.95,
          43.9,
          19.51,
          34.15,
          48.78,
          24.39,
          41.46,
          29.27,
          39.02,
          21.95,
          39.02,
          34.15,
          24.39,
          43.9,
          24.39,
          53.66,
          31.71,
          34.15,
          65.85,
          46.34,
          39.02,
          24.39,
          65.85,
          29.27,
          26.83,
          39.02,
          51.22,
          58.54,
          39.02,
          36.59,
          34.15,
          46.34,
          19.51,
          56.1,
          9.76,
          43.9,
          31.71,
          17.07,
          48.78,
          70.73,
          43.9,
          34.15,
          60.98,
          24.39,
          29.27,
          58.54,
          17.07,
          48.78,
          43.9,
          26.83,
          29.27,
          46.34,
          43.9,
          75.61,
          21.95,
          48.78,
          51.22,
          63.41,
          26.83,
          19.51,
          46.34,
          39.02,
          53.66,
          9.76,
          19.51,
          29.27,
          46.34,
          34.15,
          48.78,
          63.41,
          43.9,
          31.71,
          46.34,
          48.78,
          43.9,
          51.22,
          36.59,
          21.95,
          48.78,
          19.51,
          24.39,
          34.15,
          36.59,
          56.1,
          14.63,
          41.46,
          70.73,
          31.71,
          29.27,
          46.34,
          46.34,
          36.59,
          65.85,
          21.95,
          29.27,
          29.27,
          48.78,
          36.59,
          43.9,
          75.61,
          53.66,
          29.27,
          58.54,
          36.59,
          41.46,
          41.46,
          24.39,
          29.27,
          41.46,
          34.15,
          36.59,
          31.71,
          34.15,
          68.29,
          34.15,
          31.71,
          65.85,
          26.83,
          41.46,
          48.78,
          19.51,
          36.59,
          65.85,
          31.71,
          29.27,
          75.61,
          43.9,
          63.41,
          31.71,
          41.46,
          41.46,
          51.22,
          58.54,
          24.39,
          65.85,
          14.63,
          17.07,
          17.07,
          31.71,
          19.51,
          65.85,
          36.59,
          43.9,
          60.98,
          31.71,
          29.27,
          52.38,
          17.07,
          39.02,
          41.46,
          19.51,
          43.9,
          60.98,
          26.83,
          39.02,
          65.85,
          65.85,
          51.22,
          31.71,
          43.9,
          51.22,
          19.51,
          48.78,
          19.51,
          70.73,
          36.59,
          29.27,
          31.71,
          36.59,
          29.27,
          65.85,
          26.83,
          41.46,
          43.9,
          48.78,
          14.63,
          63.41,
          19.51,
          36.59,
          36.59,
          19.51,
          14.63,
          43.9,
          29.27,
          46.34,
          63.41,
          63.41,
          31.71,
          41.46,
          65.85,
          46.34,
          19.51,
          46.34,
          19.51,
          56.1,
          56.1,
          43.9,
          12.2,
          9.76,
          26.83,
          60.98,
          21.95,
          36.59,
          53.66,
          58.54,
          17.07,
          51.22,
          56.1,
          36.59,
          51.22,
          41.46,
          26.83,
          24.39,
          31.71,
          48.78,
          56.1,
          17.07,
          43.9,
          63.41,
          68.29,
          41.46,
          24.39,
          43.9,
          21.95,
          65.85,
          68.29,
          31.71,
          12.2,
          12.2,
          46.34,
          56.1,
          31.71,
          36.59,
          41.46,
          43.9,
          31.71,
          60.98,
          60.98,
          14.63,
          43.9,
          39.02,
          7.32,
          21.95,
          31.71,
          51.52,
          45.45,
          30.3,
          30.3,
          72.73,
          39.39,
          54.55,
          33.33,
          36.36,
          48.48,
          45.45,
          54.55,
          42.42,
          39.39,
          39.39,
          42.42,
          48.48,
          57.58,
          48.48,
          42.42,
          24.24,
          18.18,
          66.67,
          63.64,
          30.3,
          33.33,
          45.45,
          27.27,
          21.21,
          9.09,
          46.34,
          34.15,
          24.39,
          26.83,
          51.22,
          41.46,
          46.34,
          46.34,
          39.02,
          58.54,
          39.02,
          70.73,
          41.46,
          26.83,
          56.1,
          56.1,
          19.51,
          47.5,
          26.83,
          19.51,
          26.83,
          19.51,
          56.1,
          63.41,
          31.71,
          31.71,
          58.54,
          17.07,
          26.83,
          14.63,
          32.56,
          23.26,
          34.88,
          29.27,
          52.38,
          57.14,
          34.15,
          59.52,
          52.38,
          57.14,
          31.71,
          52.38,
          11.63,
          39.02,
          36.73,
          45.24,
          9.3,
          48.84,
          21.43,
          54.76,
          54.76,
          26.19,
          73.17,
          59.52,
          55.56,
          21.95,
          56.1,
          59.65,
          30.23,
          46.51,
          60.98,
          46.34,
          53.66,
          41.46,
          56.1,
          56.1,
          26.83,
          68.29,
          63.41,
          63.41,
          21.95,
          41.46,
          43.9,
          17.07,
          46.34,
          17.07,
          29.27,
          36.59,
          14.63,
          41.46,
          46.34,
          26.83,
          53.66,
          39.02,
          53.66,
          41.46,
          58.54,
          41.46,
          34.15,
          34.15,
          51.22,
          48.78,
          58.54,
          21.95,
          39.02,
          46.34,
          36.59,
          82.93,
          43.9,
          58.54,
          12.2,
          48.78,
          24.39,
          36.59,
          17.07,
          34.15,
          29.27,
          46.34,
          7.32,
          21.95,
          39.02,
          36.59,
          65.85,
          56.1,
          58.54,
          39.02,
          39.02,
          46.34,
          43.9,
          43.9,
          48.78,
          56.1,
          48.78,
          31.71,
          39.02,
          29.27,
          43.9,
          75.61,
          60.98,
          53.66,
          21.95,
          43.9,
          46.34,
          26.83,
          17.07,
          29.27,
          31.71,
          31.71,
          26.83,
          21.95,
          39.02,
          36.59,
          73.17,
          45.24,
          56.1,
          53.66,
          46.34,
          46.34,
          31.71,
          34.15,
          19.51,
          68.29,
          51.22,
          58.54,
          23.81,
          21.95,
          36.59,
          70.73,
          75.61,
          48.78,
          36.59,
          43.9,
          46.34,
          40.48,
          31.71,
          24.39,
          19.51,
          51.22,
          53.66,
          26.83,
          51.16,
          31.71,
          34.15,
          51.22,
          60.98,
          48.78,
          14.63,
          48.78,
          34.15,
          36.59,
          29.27,
          51.22,
          14.63,
          34.15,
          31.71,
          21.95,
          48.78,
          65.85,
          53.66,
          53.66,
          36.59,
          48.78,
          65.85,
          26.83,
          46.34,
          19.51,
          41.46,
          46.34,
          48.78,
          17.07,
          51.22,
          36.59,
          39.02,
          53.66,
          63.41,
          51.22,
          29.27,
          24.39,
          36.59,
          34.15,
          18.18,
          61.11,
          27.59,
          41.67,
          25.81,
          62.16,
          55.56,
          22.58,
          55.56,
          61.11,
          75,
          40.54,
          68.42,
          34.38,
          41.67,
          30.3,
          39.47,
          54.05,
          31.58,
          50,
          36.84,
          40.54,
          35.14,
          60,
          75,
          56.76,
          38.89,
          25,
          27.27,
          38.24,
          44.44,
          43.24,
          25,
          36.11,
          44.44,
          55.56,
          55.56,
          38.89,
          22.22,
          59.46,
          58.33,
          52.78,
          56.76,
          25,
          54.05,
          44.44,
          27.78,
          58.33,
          55.56,
          66.67,
          58.33,
          38.89,
          50,
          33.33,
          27.78,
          55.56,
          55.56,
          41.67,
          18.92,
          41.67
         ],
         "yaxis": "y"
        },
        {
         "hovertemplate": "game_location=home<br>season=%{x}<br>win_percentage=%{y}<extra></extra>",
         "legendgroup": "home",
         "marker": {
          "color": "#EF553B",
          "symbol": "circle"
         },
         "mode": "markers",
         "name": "home",
         "showlegend": true,
         "type": "scattergl",
         "x": [
          1946,
          1946,
          1946,
          1946,
          1946,
          1946,
          1946,
          1946,
          1946,
          1946,
          1946,
          1947,
          1947,
          1947,
          1947,
          1947,
          1947,
          1947,
          1947,
          1948,
          1948,
          1948,
          1948,
          1948,
          1948,
          1948,
          1948,
          1948,
          1948,
          1948,
          1948,
          1949,
          1949,
          1949,
          1949,
          1949,
          1949,
          1949,
          1949,
          1949,
          1949,
          1949,
          1949,
          1949,
          1949,
          1949,
          1949,
          1949,
          1950,
          1950,
          1950,
          1950,
          1950,
          1950,
          1950,
          1950,
          1950,
          1950,
          1950,
          1951,
          1951,
          1951,
          1951,
          1951,
          1951,
          1951,
          1951,
          1951,
          1951,
          1952,
          1952,
          1952,
          1952,
          1952,
          1952,
          1952,
          1952,
          1952,
          1952,
          1953,
          1953,
          1953,
          1953,
          1953,
          1953,
          1953,
          1953,
          1953,
          1954,
          1954,
          1954,
          1954,
          1954,
          1954,
          1954,
          1954,
          1955,
          1955,
          1955,
          1955,
          1955,
          1955,
          1955,
          1955,
          1956,
          1956,
          1956,
          1956,
          1956,
          1956,
          1956,
          1956,
          1957,
          1957,
          1957,
          1957,
          1957,
          1957,
          1957,
          1957,
          1958,
          1958,
          1958,
          1958,
          1958,
          1958,
          1958,
          1958,
          1959,
          1959,
          1959,
          1959,
          1959,
          1959,
          1959,
          1959,
          1960,
          1960,
          1960,
          1960,
          1960,
          1960,
          1960,
          1960,
          1961,
          1961,
          1961,
          1961,
          1961,
          1961,
          1961,
          1961,
          1961,
          1962,
          1962,
          1962,
          1962,
          1962,
          1962,
          1962,
          1962,
          1962,
          1963,
          1963,
          1963,
          1963,
          1963,
          1963,
          1963,
          1963,
          1963,
          1964,
          1964,
          1964,
          1964,
          1964,
          1964,
          1964,
          1964,
          1964,
          1965,
          1965,
          1965,
          1965,
          1965,
          1965,
          1965,
          1965,
          1965,
          1966,
          1966,
          1966,
          1966,
          1966,
          1966,
          1966,
          1966,
          1966,
          1966,
          1967,
          1967,
          1967,
          1967,
          1967,
          1967,
          1967,
          1967,
          1967,
          1967,
          1967,
          1967,
          1968,
          1968,
          1968,
          1968,
          1968,
          1968,
          1968,
          1968,
          1968,
          1968,
          1968,
          1968,
          1968,
          1968,
          1969,
          1969,
          1969,
          1969,
          1969,
          1969,
          1969,
          1969,
          1969,
          1969,
          1969,
          1969,
          1969,
          1969,
          1970,
          1970,
          1970,
          1970,
          1970,
          1970,
          1970,
          1970,
          1970,
          1970,
          1970,
          1970,
          1970,
          1970,
          1970,
          1970,
          1970,
          1971,
          1971,
          1971,
          1971,
          1971,
          1971,
          1971,
          1971,
          1971,
          1971,
          1971,
          1971,
          1971,
          1971,
          1971,
          1971,
          1971,
          1972,
          1972,
          1972,
          1972,
          1972,
          1972,
          1972,
          1972,
          1972,
          1972,
          1972,
          1972,
          1972,
          1972,
          1972,
          1972,
          1972,
          1973,
          1973,
          1973,
          1973,
          1973,
          1973,
          1973,
          1973,
          1973,
          1973,
          1973,
          1973,
          1973,
          1973,
          1973,
          1973,
          1973,
          1974,
          1974,
          1974,
          1974,
          1974,
          1974,
          1974,
          1974,
          1974,
          1974,
          1974,
          1974,
          1974,
          1974,
          1974,
          1974,
          1974,
          1974,
          1975,
          1975,
          1975,
          1975,
          1975,
          1975,
          1975,
          1975,
          1975,
          1975,
          1975,
          1975,
          1975,
          1975,
          1975,
          1975,
          1975,
          1975,
          1976,
          1976,
          1976,
          1976,
          1976,
          1976,
          1976,
          1976,
          1976,
          1976,
          1976,
          1976,
          1976,
          1976,
          1976,
          1976,
          1976,
          1976,
          1976,
          1976,
          1976,
          1976,
          1977,
          1977,
          1977,
          1977,
          1977,
          1977,
          1977,
          1977,
          1977,
          1977,
          1977,
          1977,
          1977,
          1977,
          1977,
          1977,
          1977,
          1977,
          1977,
          1977,
          1977,
          1977,
          1978,
          1978,
          1978,
          1978,
          1978,
          1978,
          1978,
          1978,
          1978,
          1978,
          1978,
          1978,
          1978,
          1978,
          1978,
          1978,
          1978,
          1978,
          1978,
          1978,
          1978,
          1978,
          1979,
          1979,
          1979,
          1979,
          1979,
          1979,
          1979,
          1979,
          1979,
          1979,
          1979,
          1979,
          1979,
          1979,
          1979,
          1979,
          1979,
          1979,
          1979,
          1979,
          1979,
          1979,
          1980,
          1980,
          1980,
          1980,
          1980,
          1980,
          1980,
          1980,
          1980,
          1980,
          1980,
          1980,
          1980,
          1980,
          1980,
          1980,
          1980,
          1980,
          1980,
          1980,
          1980,
          1980,
          1980,
          1981,
          1981,
          1981,
          1981,
          1981,
          1981,
          1981,
          1981,
          1981,
          1981,
          1981,
          1981,
          1981,
          1981,
          1981,
          1981,
          1981,
          1981,
          1981,
          1981,
          1981,
          1981,
          1981,
          1982,
          1982,
          1982,
          1982,
          1982,
          1982,
          1982,
          1982,
          1982,
          1982,
          1982,
          1982,
          1982,
          1982,
          1982,
          1982,
          1982,
          1982,
          1982,
          1982,
          1982,
          1982,
          1982,
          1983,
          1983,
          1983,
          1983,
          1983,
          1983,
          1983,
          1983,
          1983,
          1983,
          1983,
          1983,
          1983,
          1983,
          1983,
          1983,
          1983,
          1983,
          1983,
          1983,
          1983,
          1983,
          1983,
          1984,
          1984,
          1984,
          1984,
          1984,
          1984,
          1984,
          1984,
          1984,
          1984,
          1984,
          1984,
          1984,
          1984,
          1984,
          1984,
          1984,
          1984,
          1984,
          1984,
          1984,
          1984,
          1984,
          1985,
          1985,
          1985,
          1985,
          1985,
          1985,
          1985,
          1985,
          1985,
          1985,
          1985,
          1985,
          1985,
          1985,
          1985,
          1985,
          1985,
          1985,
          1985,
          1985,
          1985,
          1985,
          1985,
          1986,
          1986,
          1986,
          1986,
          1986,
          1986,
          1986,
          1986,
          1986,
          1986,
          1986,
          1986,
          1986,
          1986,
          1986,
          1986,
          1986,
          1986,
          1986,
          1986,
          1986,
          1986,
          1986,
          1987,
          1987,
          1987,
          1987,
          1987,
          1987,
          1987,
          1987,
          1987,
          1987,
          1987,
          1987,
          1987,
          1987,
          1987,
          1987,
          1987,
          1987,
          1987,
          1987,
          1987,
          1987,
          1987,
          1988,
          1988,
          1988,
          1988,
          1988,
          1988,
          1988,
          1988,
          1988,
          1988,
          1988,
          1988,
          1988,
          1988,
          1988,
          1988,
          1988,
          1988,
          1988,
          1988,
          1988,
          1988,
          1988,
          1988,
          1988,
          1989,
          1989,
          1989,
          1989,
          1989,
          1989,
          1989,
          1989,
          1989,
          1989,
          1989,
          1989,
          1989,
          1989,
          1989,
          1989,
          1989,
          1989,
          1989,
          1989,
          1989,
          1989,
          1989,
          1989,
          1989,
          1989,
          1989,
          1990,
          1990,
          1990,
          1990,
          1990,
          1990,
          1990,
          1990,
          1990,
          1990,
          1990,
          1990,
          1990,
          1990,
          1990,
          1990,
          1990,
          1990,
          1990,
          1990,
          1990,
          1990,
          1990,
          1990,
          1990,
          1990,
          1990,
          1991,
          1991,
          1991,
          1991,
          1991,
          1991,
          1991,
          1991,
          1991,
          1991,
          1991,
          1991,
          1991,
          1991,
          1991,
          1991,
          1991,
          1991,
          1991,
          1991,
          1991,
          1991,
          1991,
          1991,
          1991,
          1991,
          1991,
          1992,
          1992,
          1992,
          1992,
          1992,
          1992,
          1992,
          1992,
          1992,
          1992,
          1992,
          1992,
          1992,
          1992,
          1992,
          1992,
          1992,
          1992,
          1992,
          1992,
          1992,
          1992,
          1992,
          1992,
          1992,
          1992,
          1992,
          1993,
          1993,
          1993,
          1993,
          1993,
          1993,
          1993,
          1993,
          1993,
          1993,
          1993,
          1993,
          1993,
          1993,
          1993,
          1993,
          1993,
          1993,
          1993,
          1993,
          1993,
          1993,
          1993,
          1993,
          1993,
          1993,
          1993,
          1994,
          1994,
          1994,
          1994,
          1994,
          1994,
          1994,
          1994,
          1994,
          1994,
          1994,
          1994,
          1994,
          1994,
          1994,
          1994,
          1994,
          1994,
          1994,
          1994,
          1994,
          1994,
          1994,
          1994,
          1994,
          1994,
          1994,
          1995,
          1995,
          1995,
          1995,
          1995,
          1995,
          1995,
          1995,
          1995,
          1995,
          1995,
          1995,
          1995,
          1995,
          1995,
          1995,
          1995,
          1995,
          1995,
          1995,
          1995,
          1995,
          1995,
          1995,
          1995,
          1995,
          1995,
          1995,
          1995,
          1996,
          1996,
          1996,
          1996,
          1996,
          1996,
          1996,
          1996,
          1996,
          1996,
          1996,
          1996,
          1996,
          1996,
          1996,
          1996,
          1996,
          1996,
          1996,
          1996,
          1996,
          1996,
          1996,
          1996,
          1996,
          1996,
          1996,
          1996,
          1996,
          1997,
          1997,
          1997,
          1997,
          1997,
          1997,
          1997,
          1997,
          1997,
          1997,
          1997,
          1997,
          1997,
          1997,
          1997,
          1997,
          1997,
          1997,
          1997,
          1997,
          1997,
          1997,
          1997,
          1997,
          1997,
          1997,
          1997,
          1997,
          1997,
          1998,
          1998,
          1998,
          1998,
          1998,
          1998,
          1998,
          1998,
          1998,
          1998,
          1998,
          1998,
          1998,
          1998,
          1998,
          1998,
          1998,
          1998,
          1998,
          1998,
          1998,
          1998,
          1998,
          1998,
          1998,
          1998,
          1998,
          1998,
          1998,
          1999,
          1999,
          1999,
          1999,
          1999,
          1999,
          1999,
          1999,
          1999,
          1999,
          1999,
          1999,
          1999,
          1999,
          1999,
          1999,
          1999,
          1999,
          1999,
          1999,
          1999,
          1999,
          1999,
          1999,
          1999,
          1999,
          1999,
          1999,
          1999,
          2000,
          2000,
          2000,
          2000,
          2000,
          2000,
          2000,
          2000,
          2000,
          2000,
          2000,
          2000,
          2000,
          2000,
          2000,
          2000,
          2000,
          2000,
          2000,
          2000,
          2000,
          2000,
          2000,
          2000,
          2000,
          2000,
          2000,
          2000,
          2000,
          2001,
          2001,
          2001,
          2001,
          2001,
          2001,
          2001,
          2001,
          2001,
          2001,
          2001,
          2001,
          2001,
          2001,
          2001,
          2001,
          2001,
          2001,
          2001,
          2001,
          2001,
          2001,
          2001,
          2001,
          2001,
          2001,
          2001,
          2001,
          2001,
          2002,
          2002,
          2002,
          2002,
          2002,
          2002,
          2002,
          2002,
          2002,
          2002,
          2002,
          2002,
          2002,
          2002,
          2002,
          2002,
          2002,
          2002,
          2002,
          2002,
          2002,
          2002,
          2002,
          2002,
          2002,
          2002,
          2002,
          2002,
          2002,
          2003,
          2003,
          2003,
          2003,
          2003,
          2003,
          2003,
          2003,
          2003,
          2003,
          2003,
          2003,
          2003,
          2003,
          2003,
          2003,
          2003,
          2003,
          2003,
          2003,
          2003,
          2003,
          2003,
          2003,
          2003,
          2003,
          2003,
          2003,
          2003,
          2004,
          2004,
          2004,
          2004,
          2004,
          2004,
          2004,
          2004,
          2004,
          2004,
          2004,
          2004,
          2004,
          2004,
          2004,
          2004,
          2004,
          2004,
          2004,
          2004,
          2004,
          2004,
          2004,
          2004,
          2004,
          2004,
          2004,
          2004,
          2004,
          2004,
          2005,
          2005,
          2005,
          2005,
          2005,
          2005,
          2005,
          2005,
          2005,
          2005,
          2005,
          2005,
          2005,
          2005,
          2005,
          2005,
          2005,
          2005,
          2005,
          2005,
          2005,
          2005,
          2005,
          2005,
          2005,
          2005,
          2005,
          2005,
          2005,
          2005,
          2006,
          2006,
          2006,
          2006,
          2006,
          2006,
          2006,
          2006,
          2006,
          2006,
          2006,
          2006,
          2006,
          2006,
          2006,
          2006,
          2006,
          2006,
          2006,
          2006,
          2006,
          2006,
          2006,
          2006,
          2006,
          2006,
          2006,
          2006,
          2006,
          2006,
          2007,
          2007,
          2007,
          2007,
          2007,
          2007,
          2007,
          2007,
          2007,
          2007,
          2007,
          2007,
          2007,
          2007,
          2007,
          2007,
          2007,
          2007,
          2007,
          2007,
          2007,
          2007,
          2007,
          2007,
          2007,
          2007,
          2007,
          2007,
          2007,
          2007,
          2008,
          2008,
          2008,
          2008,
          2008,
          2008,
          2008,
          2008,
          2008,
          2008,
          2008,
          2008,
          2008,
          2008,
          2008,
          2008,
          2008,
          2008,
          2008,
          2008,
          2008,
          2008,
          2008,
          2008,
          2008,
          2008,
          2008,
          2008,
          2008,
          2008,
          2009,
          2009,
          2009,
          2009,
          2009,
          2009,
          2009,
          2009,
          2009,
          2009,
          2009,
          2009,
          2009,
          2009,
          2009,
          2009,
          2009,
          2009,
          2009,
          2009,
          2009,
          2009,
          2009,
          2009,
          2009,
          2009,
          2009,
          2009,
          2009,
          2009,
          2010,
          2010,
          2010,
          2010,
          2010,
          2010,
          2010,
          2010,
          2010,
          2010,
          2010,
          2010,
          2010,
          2010,
          2010,
          2010,
          2010,
          2010,
          2010,
          2010,
          2010,
          2010,
          2010,
          2010,
          2010,
          2010,
          2010,
          2010,
          2010,
          2010,
          2011,
          2011,
          2011,
          2011,
          2011,
          2011,
          2011,
          2011,
          2011,
          2011,
          2011,
          2011,
          2011,
          2011,
          2011,
          2011,
          2011,
          2011,
          2011,
          2011,
          2011,
          2011,
          2011,
          2011,
          2011,
          2011,
          2011,
          2011,
          2011,
          2011,
          2012,
          2012,
          2012,
          2012,
          2012,
          2012,
          2012,
          2012,
          2012,
          2012,
          2012,
          2012,
          2012,
          2012,
          2012,
          2012,
          2012,
          2012,
          2012,
          2012,
          2012,
          2012,
          2012,
          2012,
          2012,
          2012,
          2012,
          2012,
          2012,
          2012,
          2013,
          2013,
          2013,
          2013,
          2013,
          2013,
          2013,
          2013,
          2013,
          2013,
          2013,
          2013,
          2013,
          2013,
          2013,
          2013,
          2013,
          2013,
          2013,
          2013,
          2013,
          2013,
          2013,
          2013,
          2013,
          2013,
          2013,
          2013,
          2013,
          2013,
          2014,
          2014,
          2014,
          2014,
          2014,
          2014,
          2014,
          2014,
          2014,
          2014,
          2014,
          2014,
          2014,
          2014,
          2014,
          2014,
          2014,
          2014,
          2014,
          2014,
          2014,
          2014,
          2014,
          2014,
          2014,
          2014,
          2014,
          2014,
          2014,
          2014,
          2015,
          2015,
          2015,
          2015,
          2015,
          2015,
          2015,
          2015,
          2015,
          2015,
          2015,
          2015,
          2015,
          2015,
          2015,
          2015,
          2015,
          2015,
          2015,
          2015,
          2015,
          2015,
          2015,
          2015,
          2015,
          2015,
          2015,
          2015,
          2015,
          2015,
          2016,
          2016,
          2016,
          2016,
          2016,
          2016,
          2016,
          2016,
          2016,
          2016,
          2016,
          2016,
          2016,
          2016,
          2016,
          2016,
          2016,
          2016,
          2016,
          2016,
          2016,
          2016,
          2016,
          2016,
          2016,
          2016,
          2016,
          2016,
          2016,
          2016,
          2017,
          2017,
          2017,
          2017,
          2017,
          2017,
          2017,
          2017,
          2017,
          2017,
          2017,
          2017,
          2017,
          2017,
          2017,
          2017,
          2017,
          2017,
          2017,
          2017,
          2017,
          2017,
          2017,
          2017,
          2017,
          2017,
          2017,
          2017,
          2017,
          2017,
          2018,
          2018,
          2018,
          2018,
          2018,
          2018,
          2018,
          2018,
          2018,
          2018,
          2018,
          2018,
          2018,
          2018,
          2018,
          2018,
          2018,
          2018,
          2018,
          2018,
          2018,
          2018,
          2018,
          2018,
          2018,
          2018,
          2018,
          2018,
          2018,
          2018,
          2019,
          2019,
          2019,
          2019,
          2019,
          2019,
          2019,
          2019,
          2019,
          2019,
          2019,
          2019,
          2019,
          2019,
          2019,
          2019,
          2019,
          2019,
          2019,
          2019,
          2019,
          2019,
          2019,
          2019,
          2019,
          2019,
          2019,
          2019,
          2019,
          2019,
          2020,
          2020,
          2020,
          2020,
          2020,
          2020,
          2020,
          2020,
          2020,
          2020,
          2020,
          2020,
          2020,
          2020,
          2020,
          2020,
          2020,
          2020,
          2020,
          2020,
          2020,
          2020,
          2020,
          2020,
          2020,
          2020,
          2020,
          2020,
          2020,
          2020
         ],
         "xaxis": "x",
         "y": [
          70.97,
          56.67,
          40,
          36.67,
          63.33,
          73.33,
          50,
          96.67,
          48.28,
          78.12,
          62.07,
          69.57,
          61.54,
          10,
          70.83,
          80,
          50,
          58.33,
          50,
          60,
          72.41,
          48.28,
          24.14,
          61.29,
          76.67,
          60,
          65.52,
          90.32,
          61.29,
          83.33,
          54.84,
          73.53,
          53.12,
          81.25,
          38.46,
          79.41,
          54.84,
          57.58,
          62.86,
          53.12,
          63.89,
          54.84,
          54.55,
          97.06,
          68.75,
          97.3,
          94.44,
          82.86,
          62.5,
          63.64,
          36.84,
          63.89,
          85.29,
          85.29,
          91.43,
          83.33,
          69.7,
          85.29,
          79.41,
          54.55,
          83.33,
          51.85,
          80,
          79.41,
          81.82,
          86.21,
          80,
          85.29,
          67.65,
          39.39,
          60.53,
          71.88,
          89.47,
          47.83,
          91.43,
          88.89,
          94.87,
          77.5,
          75.68,
          45.45,
          51.72,
          83.78,
          70.97,
          86.84,
          78.38,
          79.49,
          76.19,
          78.38,
          59.26,
          83.33,
          81.25,
          80,
          76.92,
          75.61,
          62.5,
          81.58,
          63.64,
          78.79,
          81.58,
          69.23,
          54.29,
          72.97,
          62.5,
          77.14,
          72.22,
          88.57,
          86.11,
          75.68,
          71.05,
          74.36,
          68.57,
          85.29,
          80,
          88.57,
          70.27,
          46.88,
          66.67,
          84.62,
          65.71,
          58.82,
          92.11,
          90.24,
          72.73,
          77.42,
          69.44,
          62.16,
          45.71,
          54.05,
          86.84,
          94.44,
          86.05,
          48.48,
          45.95,
          82.5,
          40.54,
          61.11,
          87.8,
          82.5,
          82.5,
          70,
          37.84,
          73.17,
          61.11,
          73.17,
          56.76,
          87.18,
          71.79,
          87.8,
          63.41,
          69.05,
          68.29,
          39.47,
          66.67,
          82.93,
          88.1,
          50,
          82.5,
          41.03,
          80.95,
          71.05,
          55.26,
          60,
          70.73,
          90,
          65,
          67.5,
          34.21,
          59.46,
          83.72,
          53.49,
          42.11,
          68.18,
          92.11,
          27.5,
          68.29,
          50,
          70.73,
          79.49,
          61.54,
          52.78,
          74.36,
          87.5,
          60.47,
          74.42,
          63.16,
          92.11,
          82.93,
          79.07,
          51.43,
          69.23,
          89.47,
          54.76,
          72.09,
          54.76,
          60.53,
          93.02,
          60.47,
          42.5,
          51.35,
          82.93,
          78.57,
          40.54,
          65.85,
          25,
          75,
          56.41,
          81.4,
          61.9,
          39.02,
          53.66,
          70.27,
          70.73,
          68.42,
          50,
          53.66,
          63.64,
          78.05,
          46.34,
          83.33,
          78.95,
          29.27,
          53.49,
          55,
          78.05,
          58.54,
          69.77,
          50,
          74.36,
          44.44,
          57.5,
          66.67,
          72.09,
          74.42,
          61.9,
          64.29,
          57.89,
          65,
          72.09,
          51.22,
          51.22,
          65,
          26.83,
          73.81,
          53.66,
          60.98,
          38.1,
          73.81,
          92.68,
          78.05,
          63.41,
          66.67,
          47.62,
          56.76,
          67.5,
          63.41,
          59.52,
          53.66,
          78.57,
          31.71,
          70.73,
          73.17,
          45.24,
          34.15,
          87.8,
          82.93,
          65.85,
          39.02,
          73.17,
          35,
          55,
          70.73,
          53.66,
          39.02,
          68.29,
          85.37,
          48.78,
          70.73,
          65.85,
          51.22,
          34.15,
          73.17,
          85.37,
          85.37,
          14.63,
          53.66,
          31.71,
          58.54,
          39.02,
          70.73,
          63.41,
          56.1,
          85,
          43.9,
          78.57,
          56.1,
          45.24,
          65.79,
          73.17,
          83.33,
          68.29,
          39.02,
          58.54,
          53.66,
          48.78,
          53.66,
          76.19,
          70.73,
          53.66,
          68.29,
          70.73,
          70.73,
          75.61,
          70.73,
          73.17,
          51.22,
          60.98,
          56.1,
          48.78,
          53.66,
          69.05,
          70.73,
          60,
          48.78,
          87.8,
          63.41,
          48.78,
          75.61,
          70.73,
          36.59,
          87.8,
          67.5,
          66.67,
          73.81,
          53.66,
          58.54,
          82.93,
          65.85,
          62.5,
          60.98,
          75.61,
          53.66,
          75.61,
          58.54,
          46.34,
          68.29,
          70.73,
          75.61,
          87.8,
          70.73,
          82.93,
          56.1,
          90.24,
          58.54,
          24.39,
          63.41,
          60.98,
          78.05,
          63.41,
          85.37,
          68.29,
          75.61,
          65.85,
          63.41,
          78.05,
          73.17,
          70.73,
          58.54,
          65.85,
          70.73,
          80.49,
          73.17,
          51.22,
          48.78,
          70.73,
          68.29,
          43.9,
          70.73,
          51.22,
          90.24,
          82.93,
          87.8,
          53.66,
          78.05,
          75.61,
          65.85,
          70.73,
          58.54,
          82.93,
          51.22,
          48.78,
          46.34,
          70.73,
          56.1,
          73.17,
          70.73,
          75.61,
          68.29,
          60.98,
          56.1,
          60.98,
          75.61,
          78.05,
          80.49,
          78.05,
          70.73,
          75.61,
          53.66,
          75.61,
          53.66,
          78.05,
          85.37,
          68.29,
          51.22,
          58.54,
          36.59,
          70.73,
          58.54,
          90.24,
          70,
          53.66,
          60.98,
          63.41,
          87.8,
          88.1,
          63.41,
          73.17,
          65.85,
          80.49,
          41.46,
          58.54,
          31.71,
          48.78,
          85.37,
          48.78,
          63.41,
          26.83,
          56.1,
          63.41,
          60.98,
          53.66,
          73.17,
          82.93,
          39.02,
          68.29,
          65.85,
          90.24,
          87.8,
          73.17,
          58.54,
          82.93,
          53.66,
          48.78,
          63.41,
          34.15,
          58.54,
          85.37,
          21.95,
          53.66,
          39.02,
          70.73,
          68.29,
          60.98,
          26.83,
          73.17,
          75.61,
          60.98,
          46.34,
          60.98,
          78.05,
          75.61,
          65.85,
          56.1,
          70.73,
          75.61,
          43.9,
          53.66,
          56.1,
          63.41,
          80.49,
          36.59,
          43.9,
          56.1,
          70.73,
          51.22,
          21.95,
          43.9,
          80.49,
          75.61,
          73.17,
          63.41,
          34.15,
          85.37,
          78.05,
          75.61,
          73.17,
          75.61,
          70.73,
          51.22,
          65.85,
          56.1,
          75.61,
          80.49,
          56.1,
          43.9,
          75.61,
          65.85,
          65.85,
          51.22,
          60.98,
          68.29,
          73.17,
          70.73,
          70.73,
          48.78,
          78.05,
          75.61,
          80.49,
          63.41,
          68.29,
          78.05,
          75.61,
          60.98,
          73.17,
          46.34,
          85.37,
          48.78,
          63.41,
          58.54,
          82.93,
          41.46,
          70.73,
          48.78,
          87.8,
          87.8,
          65.85,
          46.34,
          39.02,
          82.93,
          63.41,
          73.17,
          56.1,
          73.17,
          48.78,
          63.41,
          68.29,
          63.41,
          82.93,
          97.56,
          39.02,
          53.66,
          63.41,
          82.93,
          58.54,
          87.8,
          53.66,
          85.37,
          80.49,
          63.41,
          36.59,
          46.34,
          75.61,
          56.1,
          65.85,
          60.98,
          51.22,
          58.54,
          65.85,
          63.41,
          75.61,
          85.37,
          95.12,
          60.98,
          70.73,
          85.37,
          65.85,
          60.98,
          60.98,
          21.95,
          90.24,
          78.05,
          46.34,
          43.9,
          68.29,
          68.29,
          63.41,
          82.93,
          48.78,
          51.22,
          60.98,
          75.61,
          65.85,
          78.05,
          73.17,
          87.8,
          75.61,
          73.17,
          80.49,
          85.37,
          39.02,
          75.61,
          34.15,
          87.8,
          73.17,
          39.02,
          70.73,
          60.98,
          65.85,
          53.66,
          80.49,
          46.34,
          56.1,
          78.05,
          80.49,
          60.98,
          82.93,
          80.49,
          78.05,
          90.24,
          73.17,
          58.54,
          85.37,
          70.73,
          75.61,
          41.46,
          85.37,
          29.27,
          75.61,
          41.46,
          85.37,
          48.78,
          73.17,
          85.37,
          68.29,
          51.22,
          43.9,
          75.61,
          82.93,
          73.17,
          90.24,
          29.27,
          60.98,
          73.17,
          65.85,
          87.8,
          73.17,
          68.29,
          65.85,
          75.61,
          48.78,
          90.24,
          26.83,
          65.85,
          41.46,
          31.71,
          70.73,
          29.27,
          68.29,
          82.93,
          78.05,
          85.37,
          39.02,
          82.93,
          73.17,
          87.8,
          48.78,
          85.37,
          31.71,
          70.73,
          85.37,
          56.1,
          85.37,
          48.78,
          41.46,
          73.17,
          75.61,
          56.1,
          80.49,
          43.9,
          80.49,
          51.22,
          48.78,
          51.22,
          58.54,
          70.73,
          70.73,
          78.05,
          87.8,
          58.54,
          80.49,
          68.29,
          87.8,
          51.22,
          78.05,
          41.46,
          56.1,
          82.93,
          85.37,
          87.8,
          36.59,
          43.9,
          75.61,
          68.29,
          70.73,
          58.54,
          68.29,
          60.98,
          21.95,
          60.98,
          73.17,
          31.71,
          63.41,
          56.1,
          87.8,
          80.49,
          51.22,
          75.61,
          68.29,
          90.24,
          34.15,
          60.98,
          53.66,
          60.98,
          68.29,
          85.37,
          75.61,
          17.07,
          68.29,
          46.34,
          75.61,
          65.85,
          48.78,
          63.41,
          43.9,
          26.83,
          63.41,
          90.24,
          65.85,
          65.85,
          36.59,
          85.37,
          73.17,
          39.02,
          75.61,
          80.49,
          68.29,
          36.59,
          68.29,
          53.66,
          87.8,
          43.9,
          75.61,
          75.61,
          14.63,
          68.29,
          70.73,
          85.37,
          41.46,
          51.22,
          53.66,
          26.83,
          31.71,
          70.73,
          78.05,
          75.61,
          70.73,
          36.59,
          87.8,
          73.17,
          48.78,
          78.05,
          90.24,
          80.49,
          41.46,
          24.39,
          68.29,
          58.54,
          48.78,
          63.41,
          68.29,
          46.34,
          56.1,
          36.59,
          60.98,
          31.71,
          70.73,
          53.66,
          53.66,
          31.71,
          48.78,
          70.73,
          95.12,
          80.49,
          34.15,
          78.05,
          63.41,
          65.85,
          80.49,
          78.05,
          80.49,
          31.71,
          53.66,
          70.73,
          63.41,
          43.9,
          63.41,
          95.12,
          39.02,
          58.54,
          56.1,
          65.85,
          46.34,
          73.17,
          63.41,
          34.15,
          41.46,
          48.78,
          63.41,
          90.24,
          78.05,
          26.83,
          60.98,
          63.41,
          63.41,
          80.49,
          92.68,
          36.59,
          82.93,
          24.39,
          60.98,
          73.17,
          60.98,
          87.8,
          26.83,
          60.98,
          95.12,
          34.15,
          29.27,
          43.9,
          73.17,
          51.22,
          75.61,
          70.73,
          48.78,
          60.98,
          39.02,
          75.61,
          63.41,
          51.22,
          26.83,
          60.98,
          70.73,
          53.66,
          29.27,
          75.61,
          43.9,
          92.68,
          19.51,
          60.98,
          73.17,
          73.17,
          70.73,
          58.54,
          65.85,
          90.24,
          31.71,
          21.95,
          29.27,
          58.54,
          26.83,
          80.49,
          73.17,
          51.22,
          63.41,
          63.41,
          68.29,
          58.54,
          78.05,
          46.34,
          73.17,
          63.41,
          51.22,
          75.61,
          85.37,
          21.95,
          87.8,
          34.15,
          58.54,
          60.98,
          78.05,
          64,
          40,
          60,
          32,
          60,
          48,
          52,
          76,
          24,
          72,
          72,
          68,
          72,
          48,
          76,
          84,
          72,
          68,
          60,
          88,
          64,
          84,
          68,
          56,
          88,
          28,
          52,
          68,
          64,
          51.22,
          63.41,
          53.66,
          29.27,
          53.66,
          60.98,
          29.27,
          53.66,
          24.39,
          87.8,
          80.49,
          56.1,
          63.41,
          53.66,
          80.49,
          63.41,
          87.8,
          70.73,
          78.05,
          73.17,
          73.17,
          75.61,
          58.54,
          63.41,
          75.61,
          29.27,
          41.46,
          65.85,
          73.17,
          43.9,
          48.78,
          48.78,
          24.39,
          68.29,
          70.73,
          26.83,
          58.54,
          53.66,
          75.61,
          70.73,
          75.61,
          73.17,
          43.9,
          73.17,
          63.41,
          63.41,
          70.73,
          75.61,
          68.29,
          80.49,
          80.49,
          63.41,
          65.85,
          68.29,
          36.59,
          29.27,
          43.9,
          68.29,
          56.1,
          65.85,
          48.78,
          34.15,
          73.17,
          48.78,
          34.15,
          43.9,
          60.98,
          82.93,
          43.9,
          60.98,
          70.73,
          80.49,
          46.34,
          65.85,
          60.98,
          53.66,
          56.1,
          73.17,
          87.8,
          78.05,
          63.41,
          58.54,
          60.98,
          36.59,
          53.66,
          63.41,
          51.22,
          63.41,
          60.98,
          34.15,
          70.73,
          65.85,
          80.49,
          31.71,
          58.54,
          68.29,
          39.02,
          73.81,
          39.02,
          60.98,
          80.49,
          80.49,
          58.54,
          63.41,
          78.05,
          61.9,
          73.17,
          65.85,
          85.37,
          80.49,
          60.98,
          36.59,
          70.73,
          48.78,
          56.1,
          73.17,
          43.9,
          46.34,
          56.1,
          60.98,
          34.15,
          87.8,
          70.73,
          65.85,
          65.85,
          43.9,
          82.93,
          70.73,
          65.85,
          75.61,
          68.29,
          56.1,
          26.83,
          82.93,
          51.22,
          43.9,
          60.98,
          82.93,
          80.49,
          51.22,
          43.9,
          68.29,
          75.61,
          41.46,
          75.61,
          21.95,
          65.85,
          70.73,
          26.83,
          65.85,
          70.73,
          75.61,
          48.78,
          63.41,
          65.85,
          53.66,
          85.37,
          56.1,
          58.54,
          58.54,
          53.66,
          58.54,
          60.98,
          60.98,
          75.61,
          43.9,
          73.17,
          92.68,
          63.41,
          53.66,
          43.9,
          63.41,
          70.73,
          78.05,
          34.15,
          43.9,
          51.22,
          75.61,
          58.54,
          51.22,
          82.93,
          63.41,
          51.22,
          36.59,
          65.85,
          65.85,
          75.61,
          60.98,
          58.54,
          70.73,
          36.59,
          63.41,
          65.85,
          56.1,
          75.61,
          36.59,
          65.85,
          82.93,
          53.66,
          36.59,
          53.66,
          73.17,
          65.85,
          90.24,
          41.46,
          43.9,
          29.27,
          73.17,
          58.54,
          75.61,
          87.8,
          56.1,
          73.17,
          68.29,
          60.98,
          60.98,
          65.85,
          43.9,
          48.78,
          58.54,
          46.34,
          60.98,
          53.66,
          51.22,
          80.49,
          43.9,
          48.78,
          75.61,
          48.78,
          73.17,
          75.61,
          34.15,
          63.41,
          63.41,
          48.78,
          60.98,
          85.71,
          65.85,
          73.17,
          48.78,
          82.93,
          80.49,
          65.85,
          75.61,
          31.71,
          73.17,
          21.95,
          46.34,
          36.59,
          51.22,
          36.59,
          60.98,
          51.22,
          53.66,
          73.17,
          68.29,
          63.41,
          82.93,
          31.71,
          60.98,
          90.24,
          34.15,
          60.98,
          82.93,
          51.22,
          75.61,
          85.37,
          95.12,
          68.29,
          68.29,
          78.05,
          80.49,
          51.22,
          80.49,
          26.83,
          87.8,
          68.29,
          53.66,
          26.83,
          46.34,
          48.78,
          78.05,
          60.98,
          58.54,
          68.29,
          82.93,
          26.83,
          68.29,
          36.59,
          43.9,
          80.49,
          39.02,
          31.71,
          51.22,
          56.1,
          82.93,
          58.54,
          85.37,
          58.54,
          58.54,
          68.29,
          82.93,
          43.9,
          56.1,
          51.22,
          82.93,
          58.54,
          68.29,
          24.39,
          19.51,
          43.9,
          82.93,
          56.1,
          29.27,
          78.05,
          63.41,
          43.9,
          70.73,
          65.85,
          60.98,
          78.05,
          56.1,
          36.59,
          41.46,
          75.61,
          58.54,
          80.49,
          29.27,
          68.29,
          87.8,
          70.73,
          80.49,
          63.41,
          60.98,
          56.1,
          73.17,
          73.17,
          53.66,
          29.27,
          46.34,
          56.1,
          70.73,
          58.54,
          63.41,
          56.1,
          73.17,
          26.83,
          87.8,
          73.17,
          39.02,
          51.22,
          73.17,
          48.78,
          51.22,
          51.22,
          69.7,
          72.73,
          33.33,
          33.33,
          78.79,
          69.7,
          60.61,
          36.36,
          66.67,
          72.73,
          78.79,
          84.85,
          51.52,
          39.39,
          27.27,
          66.67,
          63.64,
          69.7,
          57.58,
          57.58,
          60.61,
          48.48,
          84.85,
          78.79,
          39.39,
          75.76,
          78.79,
          33.33,
          54.55,
          12.12,
          60.98,
          67.5,
          34.15,
          39.02,
          58.54,
          58.54,
          92.68,
          68.29,
          70.73,
          78.05,
          70.73,
          90.24,
          51.22,
          48.78,
          63.41,
          75.61,
          29.27,
          73.17,
          56.1,
          41.46,
          53.66,
          48.78,
          85.37,
          82.93,
          51.22,
          73.17,
          78.05,
          53.66,
          43.9,
          36.59,
          57.14,
          37.21,
          45.24,
          52.38,
          64.29,
          63.41,
          54.76,
          64.29,
          80.49,
          83.33,
          33.33,
          78.57,
          23.26,
          58.54,
          67.39,
          45.24,
          46.51,
          85.71,
          23.81,
          61.9,
          75.61,
          41.46,
          78.05,
          82.93,
          63.64,
          39.02,
          66.67,
          54.69,
          43.18,
          60.47,
          85.37,
          51.22,
          75.61,
          68.29,
          65.85,
          65.85,
          46.34,
          95.12,
          73.17,
          73.17,
          29.27,
          48.78,
          56.1,
          21.95,
          46.34,
          24.39,
          31.71,
          56.1,
          29.27,
          53.66,
          78.05,
          43.9,
          80.49,
          70.73,
          65.85,
          51.22,
          75.61,
          70.73,
          43.9,
          46.34,
          65.85,
          68.29,
          80.49,
          51.22,
          63.41,
          56.1,
          43.9,
          95.12,
          56.1,
          70.73,
          29.27,
          68.29,
          56.1,
          34.15,
          34.15,
          43.9,
          56.1,
          63.41,
          17.07,
          34.15,
          68.29,
          43.9,
          97.56,
          78.05,
          78.05,
          58.54,
          63.41,
          53.66,
          63.41,
          73.17,
          56.1,
          73.17,
          75.61,
          51.22,
          60.98,
          51.22,
          53.66,
          87.8,
          73.17,
          70.73,
          41.46,
          56.1,
          56.1,
          48.78,
          31.71,
          46.34,
          39.02,
          70.73,
          41.46,
          36.59,
          61.9,
          41.46,
          75.61,
          68.29,
          68.29,
          70.73,
          58.54,
          73.17,
          58.54,
          53.66,
          39.02,
          65.85,
          70.73,
          58.54,
          41.46,
          35.71,
          75.61,
          70.73,
          82.93,
          53.66,
          48.78,
          63.41,
          60.98,
          73.17,
          36.59,
          46.34,
          41.46,
          65.85,
          73.17,
          24.39,
          69.77,
          34.15,
          80.49,
          65.85,
          83.33,
          68.29,
          39.02,
          56.1,
          60.98,
          51.22,
          41.46,
          68.29,
          31.71,
          46.34,
          21.95,
          58.54,
          82.93,
          73.17,
          75.61,
          63.41,
          53.66,
          46.34,
          80.49,
          60.98,
          56.1,
          21.95,
          60.98,
          70.73,
          75.61,
          29.27,
          78.05,
          58.54,
          78.05,
          65.85,
          78.05,
          70.73,
          51.22,
          53.66,
          63.41,
          60.98,
          41.18,
          72.22,
          30.56,
          41.67,
          41.18,
          52.63,
          70.27,
          23.53,
          66.67,
          75,
          71.43,
          80.56,
          85.71,
          25,
          55.56,
          33.33,
          51.43,
          69.44,
          88.57,
          43.59,
          58.33,
          45.71,
          55.88,
          62.16,
          72.22,
          65.71,
          54.05,
          44.44,
          33.33,
          32.26,
          67.57,
          58.33,
          36.11,
          48.65,
          41.67,
          55.56,
          66.67,
          52.78,
          25,
          63.89,
          48.65,
          58.33,
          72.22,
          36.11,
          77.78,
          70.27,
          30.56,
          33.33,
          80.56,
          63.89,
          45.95,
          33.33,
          38.89,
          27.78,
          44.44,
          75,
          50,
          52.78,
          36.11,
          50
         ],
         "yaxis": "y"
        }
       ],
       "layout": {
        "legend": {
         "title": {
          "text": "game_location"
         },
         "tracegroupgap": 0
        },
        "template": {
         "data": {
          "bar": [
           {
            "error_x": {
             "color": "#2a3f5f"
            },
            "error_y": {
             "color": "#2a3f5f"
            },
            "marker": {
             "line": {
              "color": "#E5ECF6",
              "width": 0.5
             },
             "pattern": {
              "fillmode": "overlay",
              "size": 10,
              "solidity": 0.2
             }
            },
            "type": "bar"
           }
          ],
          "barpolar": [
           {
            "marker": {
             "line": {
              "color": "#E5ECF6",
              "width": 0.5
             },
             "pattern": {
              "fillmode": "overlay",
              "size": 10,
              "solidity": 0.2
             }
            },
            "type": "barpolar"
           }
          ],
          "carpet": [
           {
            "aaxis": {
             "endlinecolor": "#2a3f5f",
             "gridcolor": "white",
             "linecolor": "white",
             "minorgridcolor": "white",
             "startlinecolor": "#2a3f5f"
            },
            "baxis": {
             "endlinecolor": "#2a3f5f",
             "gridcolor": "white",
             "linecolor": "white",
             "minorgridcolor": "white",
             "startlinecolor": "#2a3f5f"
            },
            "type": "carpet"
           }
          ],
          "choropleth": [
           {
            "colorbar": {
             "outlinewidth": 0,
             "ticks": ""
            },
            "type": "choropleth"
           }
          ],
          "contour": [
           {
            "colorbar": {
             "outlinewidth": 0,
             "ticks": ""
            },
            "colorscale": [
             [
              0,
              "#0d0887"
             ],
             [
              0.1111111111111111,
              "#46039f"
             ],
             [
              0.2222222222222222,
              "#7201a8"
             ],
             [
              0.3333333333333333,
              "#9c179e"
             ],
             [
              0.4444444444444444,
              "#bd3786"
             ],
             [
              0.5555555555555556,
              "#d8576b"
             ],
             [
              0.6666666666666666,
              "#ed7953"
             ],
             [
              0.7777777777777778,
              "#fb9f3a"
             ],
             [
              0.8888888888888888,
              "#fdca26"
             ],
             [
              1,
              "#f0f921"
             ]
            ],
            "type": "contour"
           }
          ],
          "contourcarpet": [
           {
            "colorbar": {
             "outlinewidth": 0,
             "ticks": ""
            },
            "type": "contourcarpet"
           }
          ],
          "heatmap": [
           {
            "colorbar": {
             "outlinewidth": 0,
             "ticks": ""
            },
            "colorscale": [
             [
              0,
              "#0d0887"
             ],
             [
              0.1111111111111111,
              "#46039f"
             ],
             [
              0.2222222222222222,
              "#7201a8"
             ],
             [
              0.3333333333333333,
              "#9c179e"
             ],
             [
              0.4444444444444444,
              "#bd3786"
             ],
             [
              0.5555555555555556,
              "#d8576b"
             ],
             [
              0.6666666666666666,
              "#ed7953"
             ],
             [
              0.7777777777777778,
              "#fb9f3a"
             ],
             [
              0.8888888888888888,
              "#fdca26"
             ],
             [
              1,
              "#f0f921"
             ]
            ],
            "type": "heatmap"
           }
          ],
          "heatmapgl": [
           {
            "colorbar": {
             "outlinewidth": 0,
             "ticks": ""
            },
            "colorscale": [
             [
              0,
              "#0d0887"
             ],
             [
              0.1111111111111111,
              "#46039f"
             ],
             [
              0.2222222222222222,
              "#7201a8"
             ],
             [
              0.3333333333333333,
              "#9c179e"
             ],
             [
              0.4444444444444444,
              "#bd3786"
             ],
             [
              0.5555555555555556,
              "#d8576b"
             ],
             [
              0.6666666666666666,
              "#ed7953"
             ],
             [
              0.7777777777777778,
              "#fb9f3a"
             ],
             [
              0.8888888888888888,
              "#fdca26"
             ],
             [
              1,
              "#f0f921"
             ]
            ],
            "type": "heatmapgl"
           }
          ],
          "histogram": [
           {
            "marker": {
             "pattern": {
              "fillmode": "overlay",
              "size": 10,
              "solidity": 0.2
             }
            },
            "type": "histogram"
           }
          ],
          "histogram2d": [
           {
            "colorbar": {
             "outlinewidth": 0,
             "ticks": ""
            },
            "colorscale": [
             [
              0,
              "#0d0887"
             ],
             [
              0.1111111111111111,
              "#46039f"
             ],
             [
              0.2222222222222222,
              "#7201a8"
             ],
             [
              0.3333333333333333,
              "#9c179e"
             ],
             [
              0.4444444444444444,
              "#bd3786"
             ],
             [
              0.5555555555555556,
              "#d8576b"
             ],
             [
              0.6666666666666666,
              "#ed7953"
             ],
             [
              0.7777777777777778,
              "#fb9f3a"
             ],
             [
              0.8888888888888888,
              "#fdca26"
             ],
             [
              1,
              "#f0f921"
             ]
            ],
            "type": "histogram2d"
           }
          ],
          "histogram2dcontour": [
           {
            "colorbar": {
             "outlinewidth": 0,
             "ticks": ""
            },
            "colorscale": [
             [
              0,
              "#0d0887"
             ],
             [
              0.1111111111111111,
              "#46039f"
             ],
             [
              0.2222222222222222,
              "#7201a8"
             ],
             [
              0.3333333333333333,
              "#9c179e"
             ],
             [
              0.4444444444444444,
              "#bd3786"
             ],
             [
              0.5555555555555556,
              "#d8576b"
             ],
             [
              0.6666666666666666,
              "#ed7953"
             ],
             [
              0.7777777777777778,
              "#fb9f3a"
             ],
             [
              0.8888888888888888,
              "#fdca26"
             ],
             [
              1,
              "#f0f921"
             ]
            ],
            "type": "histogram2dcontour"
           }
          ],
          "mesh3d": [
           {
            "colorbar": {
             "outlinewidth": 0,
             "ticks": ""
            },
            "type": "mesh3d"
           }
          ],
          "parcoords": [
           {
            "line": {
             "colorbar": {
              "outlinewidth": 0,
              "ticks": ""
             }
            },
            "type": "parcoords"
           }
          ],
          "pie": [
           {
            "automargin": true,
            "type": "pie"
           }
          ],
          "scatter": [
           {
            "fillpattern": {
             "fillmode": "overlay",
             "size": 10,
             "solidity": 0.2
            },
            "type": "scatter"
           }
          ],
          "scatter3d": [
           {
            "line": {
             "colorbar": {
              "outlinewidth": 0,
              "ticks": ""
             }
            },
            "marker": {
             "colorbar": {
              "outlinewidth": 0,
              "ticks": ""
             }
            },
            "type": "scatter3d"
           }
          ],
          "scattercarpet": [
           {
            "marker": {
             "colorbar": {
              "outlinewidth": 0,
              "ticks": ""
             }
            },
            "type": "scattercarpet"
           }
          ],
          "scattergeo": [
           {
            "marker": {
             "colorbar": {
              "outlinewidth": 0,
              "ticks": ""
             }
            },
            "type": "scattergeo"
           }
          ],
          "scattergl": [
           {
            "marker": {
             "colorbar": {
              "outlinewidth": 0,
              "ticks": ""
             }
            },
            "type": "scattergl"
           }
          ],
          "scattermapbox": [
           {
            "marker": {
             "colorbar": {
              "outlinewidth": 0,
              "ticks": ""
             }
            },
            "type": "scattermapbox"
           }
          ],
          "scatterpolar": [
           {
            "marker": {
             "colorbar": {
              "outlinewidth": 0,
              "ticks": ""
             }
            },
            "type": "scatterpolar"
           }
          ],
          "scatterpolargl": [
           {
            "marker": {
             "colorbar": {
              "outlinewidth": 0,
              "ticks": ""
             }
            },
            "type": "scatterpolargl"
           }
          ],
          "scatterternary": [
           {
            "marker": {
             "colorbar": {
              "outlinewidth": 0,
              "ticks": ""
             }
            },
            "type": "scatterternary"
           }
          ],
          "surface": [
           {
            "colorbar": {
             "outlinewidth": 0,
             "ticks": ""
            },
            "colorscale": [
             [
              0,
              "#0d0887"
             ],
             [
              0.1111111111111111,
              "#46039f"
             ],
             [
              0.2222222222222222,
              "#7201a8"
             ],
             [
              0.3333333333333333,
              "#9c179e"
             ],
             [
              0.4444444444444444,
              "#bd3786"
             ],
             [
              0.5555555555555556,
              "#d8576b"
             ],
             [
              0.6666666666666666,
              "#ed7953"
             ],
             [
              0.7777777777777778,
              "#fb9f3a"
             ],
             [
              0.8888888888888888,
              "#fdca26"
             ],
             [
              1,
              "#f0f921"
             ]
            ],
            "type": "surface"
           }
          ],
          "table": [
           {
            "cells": {
             "fill": {
              "color": "#EBF0F8"
             },
             "line": {
              "color": "white"
             }
            },
            "header": {
             "fill": {
              "color": "#C8D4E3"
             },
             "line": {
              "color": "white"
             }
            },
            "type": "table"
           }
          ]
         },
         "layout": {
          "annotationdefaults": {
           "arrowcolor": "#2a3f5f",
           "arrowhead": 0,
           "arrowwidth": 1
          },
          "autotypenumbers": "strict",
          "coloraxis": {
           "colorbar": {
            "outlinewidth": 0,
            "ticks": ""
           }
          },
          "colorscale": {
           "diverging": [
            [
             0,
             "#8e0152"
            ],
            [
             0.1,
             "#c51b7d"
            ],
            [
             0.2,
             "#de77ae"
            ],
            [
             0.3,
             "#f1b6da"
            ],
            [
             0.4,
             "#fde0ef"
            ],
            [
             0.5,
             "#f7f7f7"
            ],
            [
             0.6,
             "#e6f5d0"
            ],
            [
             0.7,
             "#b8e186"
            ],
            [
             0.8,
             "#7fbc41"
            ],
            [
             0.9,
             "#4d9221"
            ],
            [
             1,
             "#276419"
            ]
           ],
           "sequential": [
            [
             0,
             "#0d0887"
            ],
            [
             0.1111111111111111,
             "#46039f"
            ],
            [
             0.2222222222222222,
             "#7201a8"
            ],
            [
             0.3333333333333333,
             "#9c179e"
            ],
            [
             0.4444444444444444,
             "#bd3786"
            ],
            [
             0.5555555555555556,
             "#d8576b"
            ],
            [
             0.6666666666666666,
             "#ed7953"
            ],
            [
             0.7777777777777778,
             "#fb9f3a"
            ],
            [
             0.8888888888888888,
             "#fdca26"
            ],
            [
             1,
             "#f0f921"
            ]
           ],
           "sequentialminus": [
            [
             0,
             "#0d0887"
            ],
            [
             0.1111111111111111,
             "#46039f"
            ],
            [
             0.2222222222222222,
             "#7201a8"
            ],
            [
             0.3333333333333333,
             "#9c179e"
            ],
            [
             0.4444444444444444,
             "#bd3786"
            ],
            [
             0.5555555555555556,
             "#d8576b"
            ],
            [
             0.6666666666666666,
             "#ed7953"
            ],
            [
             0.7777777777777778,
             "#fb9f3a"
            ],
            [
             0.8888888888888888,
             "#fdca26"
            ],
            [
             1,
             "#f0f921"
            ]
           ]
          },
          "colorway": [
           "#636efa",
           "#EF553B",
           "#00cc96",
           "#ab63fa",
           "#FFA15A",
           "#19d3f3",
           "#FF6692",
           "#B6E880",
           "#FF97FF",
           "#FECB52"
          ],
          "font": {
           "color": "#2a3f5f"
          },
          "geo": {
           "bgcolor": "white",
           "lakecolor": "white",
           "landcolor": "#E5ECF6",
           "showlakes": true,
           "showland": true,
           "subunitcolor": "white"
          },
          "hoverlabel": {
           "align": "left"
          },
          "hovermode": "closest",
          "mapbox": {
           "style": "light"
          },
          "paper_bgcolor": "white",
          "plot_bgcolor": "#E5ECF6",
          "polar": {
           "angularaxis": {
            "gridcolor": "white",
            "linecolor": "white",
            "ticks": ""
           },
           "bgcolor": "#E5ECF6",
           "radialaxis": {
            "gridcolor": "white",
            "linecolor": "white",
            "ticks": ""
           }
          },
          "scene": {
           "xaxis": {
            "backgroundcolor": "#E5ECF6",
            "gridcolor": "white",
            "gridwidth": 2,
            "linecolor": "white",
            "showbackground": true,
            "ticks": "",
            "zerolinecolor": "white"
           },
           "yaxis": {
            "backgroundcolor": "#E5ECF6",
            "gridcolor": "white",
            "gridwidth": 2,
            "linecolor": "white",
            "showbackground": true,
            "ticks": "",
            "zerolinecolor": "white"
           },
           "zaxis": {
            "backgroundcolor": "#E5ECF6",
            "gridcolor": "white",
            "gridwidth": 2,
            "linecolor": "white",
            "showbackground": true,
            "ticks": "",
            "zerolinecolor": "white"
           }
          },
          "shapedefaults": {
           "line": {
            "color": "#2a3f5f"
           }
          },
          "ternary": {
           "aaxis": {
            "gridcolor": "white",
            "linecolor": "white",
            "ticks": ""
           },
           "baxis": {
            "gridcolor": "white",
            "linecolor": "white",
            "ticks": ""
           },
           "bgcolor": "#E5ECF6",
           "caxis": {
            "gridcolor": "white",
            "linecolor": "white",
            "ticks": ""
           }
          },
          "title": {
           "x": 0.05
          },
          "xaxis": {
           "automargin": true,
           "gridcolor": "white",
           "linecolor": "white",
           "ticks": "",
           "title": {
            "standoff": 15
           },
           "zerolinecolor": "white",
           "zerolinewidth": 2
          },
          "yaxis": {
           "automargin": true,
           "gridcolor": "white",
           "linecolor": "white",
           "ticks": "",
           "title": {
            "standoff": 15
           },
           "zerolinecolor": "white",
           "zerolinewidth": 2
          }
         }
        },
        "title": {
         "text": "1946-2020: team level game won percentage by game location"
        },
        "xaxis": {
         "anchor": "y",
         "domain": [
          0,
          1
         ],
         "title": {
          "text": "season"
         }
        },
        "yaxis": {
         "anchor": "x",
         "domain": [
          0,
          1
         ],
         "title": {
          "text": "win_percentage"
         }
        }
       }
      }
     },
     "metadata": {},
     "output_type": "display_data"
    }
   ],
   "source": [
    "px.scatter(team_level_home_game_stats, x='season', y='win_percentage',\n",
    "           color='game_location', title='1946-2020: team level game won percentage by game location')\n"
   ]
  },
  {
   "cell_type": "markdown",
   "metadata": {},
   "source": [
    "#### Calculate the median home game won and median away game home percentages"
   ]
  },
  {
   "cell_type": "code",
   "execution_count": 26,
   "metadata": {},
   "outputs": [
    {
     "data": {
      "text/html": [
       "<div>\n",
       "<style scoped>\n",
       "    .dataframe tbody tr th:only-of-type {\n",
       "        vertical-align: middle;\n",
       "    }\n",
       "\n",
       "    .dataframe tbody tr th {\n",
       "        vertical-align: top;\n",
       "    }\n",
       "\n",
       "    .dataframe thead th {\n",
       "        text-align: right;\n",
       "    }\n",
       "</style>\n",
       "<table border=\"1\" class=\"dataframe\">\n",
       "  <thead>\n",
       "    <tr style=\"text-align: right;\">\n",
       "      <th></th>\n",
       "      <th>season</th>\n",
       "      <th>game_location</th>\n",
       "      <th>win_percentage</th>\n",
       "    </tr>\n",
       "  </thead>\n",
       "  <tbody>\n",
       "    <tr>\n",
       "      <th>0</th>\n",
       "      <td>1946</td>\n",
       "      <td>away</td>\n",
       "      <td>35.710</td>\n",
       "    </tr>\n",
       "    <tr>\n",
       "      <th>1</th>\n",
       "      <td>1946</td>\n",
       "      <td>home</td>\n",
       "      <td>62.070</td>\n",
       "    </tr>\n",
       "    <tr>\n",
       "      <th>2</th>\n",
       "      <td>1947</td>\n",
       "      <td>away</td>\n",
       "      <td>48.075</td>\n",
       "    </tr>\n",
       "    <tr>\n",
       "      <th>3</th>\n",
       "      <td>1947</td>\n",
       "      <td>home</td>\n",
       "      <td>59.935</td>\n",
       "    </tr>\n",
       "    <tr>\n",
       "      <th>4</th>\n",
       "      <td>1948</td>\n",
       "      <td>away</td>\n",
       "      <td>35.575</td>\n",
       "    </tr>\n",
       "    <tr>\n",
       "      <th>...</th>\n",
       "      <td>...</td>\n",
       "      <td>...</td>\n",
       "      <td>...</td>\n",
       "    </tr>\n",
       "    <tr>\n",
       "      <th>145</th>\n",
       "      <td>2018</td>\n",
       "      <td>home</td>\n",
       "      <td>60.980</td>\n",
       "    </tr>\n",
       "    <tr>\n",
       "      <th>146</th>\n",
       "      <td>2019</td>\n",
       "      <td>away</td>\n",
       "      <td>40.540</td>\n",
       "    </tr>\n",
       "    <tr>\n",
       "      <th>147</th>\n",
       "      <td>2019</td>\n",
       "      <td>home</td>\n",
       "      <td>54.805</td>\n",
       "    </tr>\n",
       "    <tr>\n",
       "      <th>148</th>\n",
       "      <td>2020</td>\n",
       "      <td>away</td>\n",
       "      <td>44.440</td>\n",
       "    </tr>\n",
       "    <tr>\n",
       "      <th>149</th>\n",
       "      <td>2020</td>\n",
       "      <td>home</td>\n",
       "      <td>50.000</td>\n",
       "    </tr>\n",
       "  </tbody>\n",
       "</table>\n",
       "<p>150 rows × 3 columns</p>\n",
       "</div>"
      ],
      "text/plain": [
       "     season game_location  win_percentage\n",
       "0      1946          away          35.710\n",
       "1      1946          home          62.070\n",
       "2      1947          away          48.075\n",
       "3      1947          home          59.935\n",
       "4      1948          away          35.575\n",
       "..      ...           ...             ...\n",
       "145    2018          home          60.980\n",
       "146    2019          away          40.540\n",
       "147    2019          home          54.805\n",
       "148    2020          away          44.440\n",
       "149    2020          home          50.000\n",
       "\n",
       "[150 rows x 3 columns]"
      ]
     },
     "execution_count": 26,
     "metadata": {},
     "output_type": "execute_result"
    }
   ],
   "source": [
    "cols_to_drop = ['team_id', 'team_name', 'win_count', 'team_game_count']\n",
    "median_win_pct_1 = team_level_home_game_stats.drop(cols_to_drop, axis=1).groupby(['season', 'game_location'])\n",
    "median_win_pct = median_win_pct_1.median().reset_index()\n",
    "median_win_pct\n"
   ]
  },
  {
   "cell_type": "code",
   "execution_count": 27,
   "metadata": {},
   "outputs": [
    {
     "data": {
      "application/vnd.plotly.v1+json": {
       "config": {
        "plotlyServerURL": "https://plot.ly"
       },
       "data": [
        {
         "hovertemplate": "game_location=away<br>season=%{x}<br>win_percentage=%{y}<extra></extra>",
         "legendgroup": "away",
         "line": {
          "color": "#636efa",
          "dash": "solid"
         },
         "marker": {
          "symbol": "circle"
         },
         "mode": "lines",
         "name": "away",
         "orientation": "v",
         "showlegend": true,
         "type": "scatter",
         "x": [
          1946,
          1947,
          1948,
          1949,
          1950,
          1951,
          1952,
          1953,
          1954,
          1955,
          1956,
          1957,
          1958,
          1959,
          1960,
          1961,
          1962,
          1963,
          1964,
          1965,
          1966,
          1967,
          1968,
          1969,
          1970,
          1971,
          1972,
          1973,
          1974,
          1975,
          1976,
          1977,
          1978,
          1979,
          1980,
          1981,
          1982,
          1983,
          1984,
          1985,
          1986,
          1987,
          1988,
          1989,
          1990,
          1991,
          1992,
          1993,
          1994,
          1995,
          1996,
          1997,
          1998,
          1999,
          2000,
          2001,
          2002,
          2003,
          2004,
          2005,
          2006,
          2007,
          2008,
          2009,
          2010,
          2011,
          2012,
          2013,
          2014,
          2015,
          2016,
          2017,
          2018,
          2019,
          2020
         ],
         "xaxis": "x",
         "y": [
          35.71,
          48.075,
          35.575,
          30.3,
          28.57,
          25.59,
          28.125,
          31.43,
          23.229999999999997,
          28.515,
          22.62,
          29.34,
          28.575,
          30.305,
          23.314999999999998,
          31.58,
          35.71,
          37.5,
          31.71,
          24.32,
          31.78,
          36.585,
          46.245000000000005,
          32.16,
          42.5,
          39.02,
          39.02,
          37.5,
          34.15,
          32.55,
          32.93,
          34.15,
          32.93,
          31.71,
          36.59,
          41.46,
          36.59,
          26.83,
          36.59,
          31.71,
          34.15,
          31.71,
          34.15,
          36.59,
          34.15,
          36.59,
          41.46,
          39.02,
          43.9,
          39.02,
          41.46,
          41.46,
          40,
          41.46,
          43.9,
          43.9,
          39.02,
          39.02,
          43.9,
          39.025000000000006,
          36.59,
          40.24,
          36.59,
          42.68,
          41.46,
          42.42,
          39.02,
          45.875,
          41.46,
          41.46,
          41.46,
          42.19,
          40.24,
          40.54,
          44.44
         ],
         "yaxis": "y"
        },
        {
         "hovertemplate": "game_location=home<br>season=%{x}<br>win_percentage=%{y}<extra></extra>",
         "legendgroup": "home",
         "line": {
          "color": "#EF553B",
          "dash": "solid"
         },
         "marker": {
          "symbol": "circle"
         },
         "mode": "lines",
         "name": "home",
         "orientation": "v",
         "showlegend": true,
         "type": "scatter",
         "x": [
          1946,
          1947,
          1948,
          1949,
          1950,
          1951,
          1952,
          1953,
          1954,
          1955,
          1956,
          1957,
          1958,
          1959,
          1960,
          1961,
          1962,
          1963,
          1964,
          1965,
          1966,
          1967,
          1968,
          1969,
          1970,
          1971,
          1972,
          1973,
          1974,
          1975,
          1976,
          1977,
          1978,
          1979,
          1980,
          1981,
          1982,
          1983,
          1984,
          1985,
          1986,
          1987,
          1988,
          1989,
          1990,
          1991,
          1992,
          1993,
          1994,
          1995,
          1996,
          1997,
          1998,
          1999,
          2000,
          2001,
          2002,
          2003,
          2004,
          2005,
          2006,
          2007,
          2008,
          2009,
          2010,
          2011,
          2012,
          2013,
          2014,
          2015,
          2016,
          2017,
          2018,
          2019,
          2020
         ],
         "xaxis": "x",
         "y": [
          62.07,
          59.935,
          61.29,
          63.89,
          79.41,
          80,
          76.59,
          78.38,
          78.46000000000001,
          71.1,
          75.02000000000001,
          68.47,
          71.08500000000001,
          71.805,
          73.17,
          68.29,
          71.05,
          65,
          68.18,
          74.42,
          60.5,
          63.875,
          61.09,
          64.64500000000001,
          63.41,
          55,
          63.41,
          58.54,
          65.85,
          66.25999999999999,
          69.51,
          70.73,
          70.73,
          64.63,
          63.41,
          60.98,
          65.85,
          70.73,
          63.41,
          63.41,
          65.85,
          73.17,
          73.17,
          68.29,
          70.73,
          63.41,
          65.85,
          70.73,
          60.98,
          63.41,
          60.98,
          63.41,
          64,
          63.41,
          65.85,
          60.98,
          63.41,
          65.85,
          62.19499999999999,
          62.19499999999999,
          59.76,
          60.98,
          64.635,
          58.54,
          59.76,
          62.125,
          59.76,
          59.504999999999995,
          56.1,
          60.974999999999994,
          57.32,
          60.98,
          60.98,
          54.805,
          50
         ],
         "yaxis": "y"
        }
       ],
       "layout": {
        "legend": {
         "title": {
          "text": "game_location"
         },
         "tracegroupgap": 0
        },
        "template": {
         "data": {
          "bar": [
           {
            "error_x": {
             "color": "#2a3f5f"
            },
            "error_y": {
             "color": "#2a3f5f"
            },
            "marker": {
             "line": {
              "color": "#E5ECF6",
              "width": 0.5
             },
             "pattern": {
              "fillmode": "overlay",
              "size": 10,
              "solidity": 0.2
             }
            },
            "type": "bar"
           }
          ],
          "barpolar": [
           {
            "marker": {
             "line": {
              "color": "#E5ECF6",
              "width": 0.5
             },
             "pattern": {
              "fillmode": "overlay",
              "size": 10,
              "solidity": 0.2
             }
            },
            "type": "barpolar"
           }
          ],
          "carpet": [
           {
            "aaxis": {
             "endlinecolor": "#2a3f5f",
             "gridcolor": "white",
             "linecolor": "white",
             "minorgridcolor": "white",
             "startlinecolor": "#2a3f5f"
            },
            "baxis": {
             "endlinecolor": "#2a3f5f",
             "gridcolor": "white",
             "linecolor": "white",
             "minorgridcolor": "white",
             "startlinecolor": "#2a3f5f"
            },
            "type": "carpet"
           }
          ],
          "choropleth": [
           {
            "colorbar": {
             "outlinewidth": 0,
             "ticks": ""
            },
            "type": "choropleth"
           }
          ],
          "contour": [
           {
            "colorbar": {
             "outlinewidth": 0,
             "ticks": ""
            },
            "colorscale": [
             [
              0,
              "#0d0887"
             ],
             [
              0.1111111111111111,
              "#46039f"
             ],
             [
              0.2222222222222222,
              "#7201a8"
             ],
             [
              0.3333333333333333,
              "#9c179e"
             ],
             [
              0.4444444444444444,
              "#bd3786"
             ],
             [
              0.5555555555555556,
              "#d8576b"
             ],
             [
              0.6666666666666666,
              "#ed7953"
             ],
             [
              0.7777777777777778,
              "#fb9f3a"
             ],
             [
              0.8888888888888888,
              "#fdca26"
             ],
             [
              1,
              "#f0f921"
             ]
            ],
            "type": "contour"
           }
          ],
          "contourcarpet": [
           {
            "colorbar": {
             "outlinewidth": 0,
             "ticks": ""
            },
            "type": "contourcarpet"
           }
          ],
          "heatmap": [
           {
            "colorbar": {
             "outlinewidth": 0,
             "ticks": ""
            },
            "colorscale": [
             [
              0,
              "#0d0887"
             ],
             [
              0.1111111111111111,
              "#46039f"
             ],
             [
              0.2222222222222222,
              "#7201a8"
             ],
             [
              0.3333333333333333,
              "#9c179e"
             ],
             [
              0.4444444444444444,
              "#bd3786"
             ],
             [
              0.5555555555555556,
              "#d8576b"
             ],
             [
              0.6666666666666666,
              "#ed7953"
             ],
             [
              0.7777777777777778,
              "#fb9f3a"
             ],
             [
              0.8888888888888888,
              "#fdca26"
             ],
             [
              1,
              "#f0f921"
             ]
            ],
            "type": "heatmap"
           }
          ],
          "heatmapgl": [
           {
            "colorbar": {
             "outlinewidth": 0,
             "ticks": ""
            },
            "colorscale": [
             [
              0,
              "#0d0887"
             ],
             [
              0.1111111111111111,
              "#46039f"
             ],
             [
              0.2222222222222222,
              "#7201a8"
             ],
             [
              0.3333333333333333,
              "#9c179e"
             ],
             [
              0.4444444444444444,
              "#bd3786"
             ],
             [
              0.5555555555555556,
              "#d8576b"
             ],
             [
              0.6666666666666666,
              "#ed7953"
             ],
             [
              0.7777777777777778,
              "#fb9f3a"
             ],
             [
              0.8888888888888888,
              "#fdca26"
             ],
             [
              1,
              "#f0f921"
             ]
            ],
            "type": "heatmapgl"
           }
          ],
          "histogram": [
           {
            "marker": {
             "pattern": {
              "fillmode": "overlay",
              "size": 10,
              "solidity": 0.2
             }
            },
            "type": "histogram"
           }
          ],
          "histogram2d": [
           {
            "colorbar": {
             "outlinewidth": 0,
             "ticks": ""
            },
            "colorscale": [
             [
              0,
              "#0d0887"
             ],
             [
              0.1111111111111111,
              "#46039f"
             ],
             [
              0.2222222222222222,
              "#7201a8"
             ],
             [
              0.3333333333333333,
              "#9c179e"
             ],
             [
              0.4444444444444444,
              "#bd3786"
             ],
             [
              0.5555555555555556,
              "#d8576b"
             ],
             [
              0.6666666666666666,
              "#ed7953"
             ],
             [
              0.7777777777777778,
              "#fb9f3a"
             ],
             [
              0.8888888888888888,
              "#fdca26"
             ],
             [
              1,
              "#f0f921"
             ]
            ],
            "type": "histogram2d"
           }
          ],
          "histogram2dcontour": [
           {
            "colorbar": {
             "outlinewidth": 0,
             "ticks": ""
            },
            "colorscale": [
             [
              0,
              "#0d0887"
             ],
             [
              0.1111111111111111,
              "#46039f"
             ],
             [
              0.2222222222222222,
              "#7201a8"
             ],
             [
              0.3333333333333333,
              "#9c179e"
             ],
             [
              0.4444444444444444,
              "#bd3786"
             ],
             [
              0.5555555555555556,
              "#d8576b"
             ],
             [
              0.6666666666666666,
              "#ed7953"
             ],
             [
              0.7777777777777778,
              "#fb9f3a"
             ],
             [
              0.8888888888888888,
              "#fdca26"
             ],
             [
              1,
              "#f0f921"
             ]
            ],
            "type": "histogram2dcontour"
           }
          ],
          "mesh3d": [
           {
            "colorbar": {
             "outlinewidth": 0,
             "ticks": ""
            },
            "type": "mesh3d"
           }
          ],
          "parcoords": [
           {
            "line": {
             "colorbar": {
              "outlinewidth": 0,
              "ticks": ""
             }
            },
            "type": "parcoords"
           }
          ],
          "pie": [
           {
            "automargin": true,
            "type": "pie"
           }
          ],
          "scatter": [
           {
            "fillpattern": {
             "fillmode": "overlay",
             "size": 10,
             "solidity": 0.2
            },
            "type": "scatter"
           }
          ],
          "scatter3d": [
           {
            "line": {
             "colorbar": {
              "outlinewidth": 0,
              "ticks": ""
             }
            },
            "marker": {
             "colorbar": {
              "outlinewidth": 0,
              "ticks": ""
             }
            },
            "type": "scatter3d"
           }
          ],
          "scattercarpet": [
           {
            "marker": {
             "colorbar": {
              "outlinewidth": 0,
              "ticks": ""
             }
            },
            "type": "scattercarpet"
           }
          ],
          "scattergeo": [
           {
            "marker": {
             "colorbar": {
              "outlinewidth": 0,
              "ticks": ""
             }
            },
            "type": "scattergeo"
           }
          ],
          "scattergl": [
           {
            "marker": {
             "colorbar": {
              "outlinewidth": 0,
              "ticks": ""
             }
            },
            "type": "scattergl"
           }
          ],
          "scattermapbox": [
           {
            "marker": {
             "colorbar": {
              "outlinewidth": 0,
              "ticks": ""
             }
            },
            "type": "scattermapbox"
           }
          ],
          "scatterpolar": [
           {
            "marker": {
             "colorbar": {
              "outlinewidth": 0,
              "ticks": ""
             }
            },
            "type": "scatterpolar"
           }
          ],
          "scatterpolargl": [
           {
            "marker": {
             "colorbar": {
              "outlinewidth": 0,
              "ticks": ""
             }
            },
            "type": "scatterpolargl"
           }
          ],
          "scatterternary": [
           {
            "marker": {
             "colorbar": {
              "outlinewidth": 0,
              "ticks": ""
             }
            },
            "type": "scatterternary"
           }
          ],
          "surface": [
           {
            "colorbar": {
             "outlinewidth": 0,
             "ticks": ""
            },
            "colorscale": [
             [
              0,
              "#0d0887"
             ],
             [
              0.1111111111111111,
              "#46039f"
             ],
             [
              0.2222222222222222,
              "#7201a8"
             ],
             [
              0.3333333333333333,
              "#9c179e"
             ],
             [
              0.4444444444444444,
              "#bd3786"
             ],
             [
              0.5555555555555556,
              "#d8576b"
             ],
             [
              0.6666666666666666,
              "#ed7953"
             ],
             [
              0.7777777777777778,
              "#fb9f3a"
             ],
             [
              0.8888888888888888,
              "#fdca26"
             ],
             [
              1,
              "#f0f921"
             ]
            ],
            "type": "surface"
           }
          ],
          "table": [
           {
            "cells": {
             "fill": {
              "color": "#EBF0F8"
             },
             "line": {
              "color": "white"
             }
            },
            "header": {
             "fill": {
              "color": "#C8D4E3"
             },
             "line": {
              "color": "white"
             }
            },
            "type": "table"
           }
          ]
         },
         "layout": {
          "annotationdefaults": {
           "arrowcolor": "#2a3f5f",
           "arrowhead": 0,
           "arrowwidth": 1
          },
          "autotypenumbers": "strict",
          "coloraxis": {
           "colorbar": {
            "outlinewidth": 0,
            "ticks": ""
           }
          },
          "colorscale": {
           "diverging": [
            [
             0,
             "#8e0152"
            ],
            [
             0.1,
             "#c51b7d"
            ],
            [
             0.2,
             "#de77ae"
            ],
            [
             0.3,
             "#f1b6da"
            ],
            [
             0.4,
             "#fde0ef"
            ],
            [
             0.5,
             "#f7f7f7"
            ],
            [
             0.6,
             "#e6f5d0"
            ],
            [
             0.7,
             "#b8e186"
            ],
            [
             0.8,
             "#7fbc41"
            ],
            [
             0.9,
             "#4d9221"
            ],
            [
             1,
             "#276419"
            ]
           ],
           "sequential": [
            [
             0,
             "#0d0887"
            ],
            [
             0.1111111111111111,
             "#46039f"
            ],
            [
             0.2222222222222222,
             "#7201a8"
            ],
            [
             0.3333333333333333,
             "#9c179e"
            ],
            [
             0.4444444444444444,
             "#bd3786"
            ],
            [
             0.5555555555555556,
             "#d8576b"
            ],
            [
             0.6666666666666666,
             "#ed7953"
            ],
            [
             0.7777777777777778,
             "#fb9f3a"
            ],
            [
             0.8888888888888888,
             "#fdca26"
            ],
            [
             1,
             "#f0f921"
            ]
           ],
           "sequentialminus": [
            [
             0,
             "#0d0887"
            ],
            [
             0.1111111111111111,
             "#46039f"
            ],
            [
             0.2222222222222222,
             "#7201a8"
            ],
            [
             0.3333333333333333,
             "#9c179e"
            ],
            [
             0.4444444444444444,
             "#bd3786"
            ],
            [
             0.5555555555555556,
             "#d8576b"
            ],
            [
             0.6666666666666666,
             "#ed7953"
            ],
            [
             0.7777777777777778,
             "#fb9f3a"
            ],
            [
             0.8888888888888888,
             "#fdca26"
            ],
            [
             1,
             "#f0f921"
            ]
           ]
          },
          "colorway": [
           "#636efa",
           "#EF553B",
           "#00cc96",
           "#ab63fa",
           "#FFA15A",
           "#19d3f3",
           "#FF6692",
           "#B6E880",
           "#FF97FF",
           "#FECB52"
          ],
          "font": {
           "color": "#2a3f5f"
          },
          "geo": {
           "bgcolor": "white",
           "lakecolor": "white",
           "landcolor": "#E5ECF6",
           "showlakes": true,
           "showland": true,
           "subunitcolor": "white"
          },
          "hoverlabel": {
           "align": "left"
          },
          "hovermode": "closest",
          "mapbox": {
           "style": "light"
          },
          "paper_bgcolor": "white",
          "plot_bgcolor": "#E5ECF6",
          "polar": {
           "angularaxis": {
            "gridcolor": "white",
            "linecolor": "white",
            "ticks": ""
           },
           "bgcolor": "#E5ECF6",
           "radialaxis": {
            "gridcolor": "white",
            "linecolor": "white",
            "ticks": ""
           }
          },
          "scene": {
           "xaxis": {
            "backgroundcolor": "#E5ECF6",
            "gridcolor": "white",
            "gridwidth": 2,
            "linecolor": "white",
            "showbackground": true,
            "ticks": "",
            "zerolinecolor": "white"
           },
           "yaxis": {
            "backgroundcolor": "#E5ECF6",
            "gridcolor": "white",
            "gridwidth": 2,
            "linecolor": "white",
            "showbackground": true,
            "ticks": "",
            "zerolinecolor": "white"
           },
           "zaxis": {
            "backgroundcolor": "#E5ECF6",
            "gridcolor": "white",
            "gridwidth": 2,
            "linecolor": "white",
            "showbackground": true,
            "ticks": "",
            "zerolinecolor": "white"
           }
          },
          "shapedefaults": {
           "line": {
            "color": "#2a3f5f"
           }
          },
          "ternary": {
           "aaxis": {
            "gridcolor": "white",
            "linecolor": "white",
            "ticks": ""
           },
           "baxis": {
            "gridcolor": "white",
            "linecolor": "white",
            "ticks": ""
           },
           "bgcolor": "#E5ECF6",
           "caxis": {
            "gridcolor": "white",
            "linecolor": "white",
            "ticks": ""
           }
          },
          "title": {
           "x": 0.05
          },
          "xaxis": {
           "automargin": true,
           "gridcolor": "white",
           "linecolor": "white",
           "ticks": "",
           "title": {
            "standoff": 15
           },
           "zerolinecolor": "white",
           "zerolinewidth": 2
          },
          "yaxis": {
           "automargin": true,
           "gridcolor": "white",
           "linecolor": "white",
           "ticks": "",
           "title": {
            "standoff": 15
           },
           "zerolinecolor": "white",
           "zerolinewidth": 2
          }
         }
        },
        "title": {
         "text": "1946-2020: median of the team level game won percentage by game location"
        },
        "xaxis": {
         "anchor": "y",
         "domain": [
          0,
          1
         ],
         "title": {
          "text": "season"
         }
        },
        "yaxis": {
         "anchor": "x",
         "domain": [
          0,
          1
         ],
         "title": {
          "text": "win_percentage"
         }
        }
       }
      }
     },
     "metadata": {},
     "output_type": "display_data"
    }
   ],
   "source": [
    "px.line(median_win_pct, x='season', y='win_percentage',\n",
    "        color='game_location', title='1946-2020: median of the team level game won percentage by game location')"
   ]
  },
  {
   "cell_type": "markdown",
   "metadata": {},
   "source": [
    "#### Is there any season os any team having away game game won percentages greater than 50%?"
   ]
  },
  {
   "cell_type": "code",
   "execution_count": 28,
   "metadata": {},
   "outputs": [
    {
     "data": {
      "text/html": [
       "<div>\n",
       "<style scoped>\n",
       "    .dataframe tbody tr th:only-of-type {\n",
       "        vertical-align: middle;\n",
       "    }\n",
       "\n",
       "    .dataframe tbody tr th {\n",
       "        vertical-align: top;\n",
       "    }\n",
       "\n",
       "    .dataframe thead th {\n",
       "        text-align: right;\n",
       "    }\n",
       "</style>\n",
       "<table border=\"1\" class=\"dataframe\">\n",
       "  <thead>\n",
       "    <tr style=\"text-align: right;\">\n",
       "      <th></th>\n",
       "      <th>season</th>\n",
       "      <th>team_id</th>\n",
       "      <th>team_name</th>\n",
       "      <th>win_count</th>\n",
       "      <th>team_game_count</th>\n",
       "      <th>game_location</th>\n",
       "      <th>win_percentage</th>\n",
       "    </tr>\n",
       "  </thead>\n",
       "  <tbody>\n",
       "    <tr>\n",
       "      <th>2800</th>\n",
       "      <td>2015</td>\n",
       "      <td>1610612744</td>\n",
       "      <td>Golden State Warriors</td>\n",
       "      <td>34</td>\n",
       "      <td>41</td>\n",
       "      <td>away</td>\n",
       "      <td>82.93</td>\n",
       "    </tr>\n",
       "    <tr>\n",
       "      <th>1610</th>\n",
       "      <td>1995</td>\n",
       "      <td>1610612741</td>\n",
       "      <td>Chicago Bulls</td>\n",
       "      <td>33</td>\n",
       "      <td>41</td>\n",
       "      <td>away</td>\n",
       "      <td>80.49</td>\n",
       "    </tr>\n",
       "    <tr>\n",
       "      <th>548</th>\n",
       "      <td>1972</td>\n",
       "      <td>1610612738</td>\n",
       "      <td>Boston Celtics</td>\n",
       "      <td>33</td>\n",
       "      <td>41</td>\n",
       "      <td>away</td>\n",
       "      <td>80.49</td>\n",
       "    </tr>\n",
       "    <tr>\n",
       "      <th>526</th>\n",
       "      <td>1971</td>\n",
       "      <td>1610612747</td>\n",
       "      <td>Los Angeles Lakers</td>\n",
       "      <td>33</td>\n",
       "      <td>41</td>\n",
       "      <td>away</td>\n",
       "      <td>80.49</td>\n",
       "    </tr>\n",
       "    <tr>\n",
       "      <th>1683</th>\n",
       "      <td>1996</td>\n",
       "      <td>1610612748</td>\n",
       "      <td>Miami Heat</td>\n",
       "      <td>32</td>\n",
       "      <td>41</td>\n",
       "      <td>away</td>\n",
       "      <td>78.05</td>\n",
       "    </tr>\n",
       "    <tr>\n",
       "      <th>...</th>\n",
       "      <td>...</td>\n",
       "      <td>...</td>\n",
       "      <td>...</td>\n",
       "      <td>...</td>\n",
       "      <td>...</td>\n",
       "      <td>...</td>\n",
       "      <td>...</td>\n",
       "    </tr>\n",
       "    <tr>\n",
       "      <th>1720</th>\n",
       "      <td>1997</td>\n",
       "      <td>1610612737</td>\n",
       "      <td>Atlanta Hawks</td>\n",
       "      <td>21</td>\n",
       "      <td>41</td>\n",
       "      <td>away</td>\n",
       "      <td>51.22</td>\n",
       "    </tr>\n",
       "    <tr>\n",
       "      <th>892</th>\n",
       "      <td>1980</td>\n",
       "      <td>1610612756</td>\n",
       "      <td>Phoenix Suns</td>\n",
       "      <td>21</td>\n",
       "      <td>41</td>\n",
       "      <td>away</td>\n",
       "      <td>51.22</td>\n",
       "    </tr>\n",
       "    <tr>\n",
       "      <th>922</th>\n",
       "      <td>1981</td>\n",
       "      <td>1610612745</td>\n",
       "      <td>Houston Rockets</td>\n",
       "      <td>21</td>\n",
       "      <td>41</td>\n",
       "      <td>away</td>\n",
       "      <td>51.22</td>\n",
       "    </tr>\n",
       "    <tr>\n",
       "      <th>1652</th>\n",
       "      <td>1995</td>\n",
       "      <td>1610612762</td>\n",
       "      <td>Utah Jazz</td>\n",
       "      <td>21</td>\n",
       "      <td>41</td>\n",
       "      <td>away</td>\n",
       "      <td>51.22</td>\n",
       "    </tr>\n",
       "    <tr>\n",
       "      <th>2946</th>\n",
       "      <td>2017</td>\n",
       "      <td>1610612757</td>\n",
       "      <td>Portland Trail Blazers</td>\n",
       "      <td>22</td>\n",
       "      <td>43</td>\n",
       "      <td>away</td>\n",
       "      <td>51.16</td>\n",
       "    </tr>\n",
       "  </tbody>\n",
       "</table>\n",
       "<p>356 rows × 7 columns</p>\n",
       "</div>"
      ],
      "text/plain": [
       "      season     team_id               team_name  win_count  team_game_count  \\\n",
       "2800    2015  1610612744   Golden State Warriors         34               41   \n",
       "1610    1995  1610612741           Chicago Bulls         33               41   \n",
       "548     1972  1610612738          Boston Celtics         33               41   \n",
       "526     1971  1610612747      Los Angeles Lakers         33               41   \n",
       "1683    1996  1610612748              Miami Heat         32               41   \n",
       "...      ...         ...                     ...        ...              ...   \n",
       "1720    1997  1610612737           Atlanta Hawks         21               41   \n",
       "892     1980  1610612756            Phoenix Suns         21               41   \n",
       "922     1981  1610612745         Houston Rockets         21               41   \n",
       "1652    1995  1610612762               Utah Jazz         21               41   \n",
       "2946    2017  1610612757  Portland Trail Blazers         22               43   \n",
       "\n",
       "     game_location  win_percentage  \n",
       "2800          away           82.93  \n",
       "1610          away           80.49  \n",
       "548           away           80.49  \n",
       "526           away           80.49  \n",
       "1683          away           78.05  \n",
       "...            ...             ...  \n",
       "1720          away           51.22  \n",
       "892           away           51.22  \n",
       "922           away           51.22  \n",
       "1652          away           51.22  \n",
       "2946          away           51.16  \n",
       "\n",
       "[356 rows x 7 columns]"
      ]
     },
     "execution_count": 28,
     "metadata": {},
     "output_type": "execute_result"
    }
   ],
   "source": [
    "team_level_home_game_stats.query(\"game_location == 'away' & win_percentage > 50\").sort_values(\"win_percentage\", ascending=False)"
   ]
  },
  {
   "cell_type": "markdown",
   "metadata": {},
   "source": [
    "#### How does the free throw percentage (FT%) changes over time from 1949 to 2020? For each season, which team had the best FT%?"
   ]
  },
  {
   "cell_type": "code",
   "execution_count": 29,
   "metadata": {},
   "outputs": [
    {
     "data": {
      "text/html": [
       "<div>\n",
       "<style scoped>\n",
       "    .dataframe tbody tr th:only-of-type {\n",
       "        vertical-align: middle;\n",
       "    }\n",
       "\n",
       "    .dataframe tbody tr th {\n",
       "        vertical-align: top;\n",
       "    }\n",
       "\n",
       "    .dataframe thead th {\n",
       "        text-align: right;\n",
       "    }\n",
       "</style>\n",
       "<table border=\"1\" class=\"dataframe\">\n",
       "  <thead>\n",
       "    <tr style=\"text-align: right;\">\n",
       "      <th></th>\n",
       "      <th>season</th>\n",
       "      <th>team_id</th>\n",
       "      <th>team_name</th>\n",
       "      <th>free_throw_percentage</th>\n",
       "      <th>team_game_count</th>\n",
       "      <th>game_location</th>\n",
       "    </tr>\n",
       "  </thead>\n",
       "  <tbody>\n",
       "    <tr>\n",
       "      <th>0</th>\n",
       "      <td>1946</td>\n",
       "      <td>1610610025</td>\n",
       "      <td>Chicago Stags</td>\n",
       "      <td>NaN</td>\n",
       "      <td>30</td>\n",
       "      <td>away</td>\n",
       "    </tr>\n",
       "    <tr>\n",
       "      <th>1</th>\n",
       "      <td>1946</td>\n",
       "      <td>1610610025</td>\n",
       "      <td>Chicago Stags</td>\n",
       "      <td>NaN</td>\n",
       "      <td>31</td>\n",
       "      <td>home</td>\n",
       "    </tr>\n",
       "    <tr>\n",
       "      <th>2</th>\n",
       "      <td>1946</td>\n",
       "      <td>1610610026</td>\n",
       "      <td>Cleveland Rebels</td>\n",
       "      <td>NaN</td>\n",
       "      <td>30</td>\n",
       "      <td>home</td>\n",
       "    </tr>\n",
       "    <tr>\n",
       "      <th>3</th>\n",
       "      <td>1946</td>\n",
       "      <td>1610610026</td>\n",
       "      <td>Cleveland Rebels</td>\n",
       "      <td>0.667</td>\n",
       "      <td>30</td>\n",
       "      <td>away</td>\n",
       "    </tr>\n",
       "    <tr>\n",
       "      <th>4</th>\n",
       "      <td>1946</td>\n",
       "      <td>1610610028</td>\n",
       "      <td>Detroit Falcons</td>\n",
       "      <td>NaN</td>\n",
       "      <td>30</td>\n",
       "      <td>home</td>\n",
       "    </tr>\n",
       "    <tr>\n",
       "      <th>...</th>\n",
       "      <td>...</td>\n",
       "      <td>...</td>\n",
       "      <td>...</td>\n",
       "      <td>...</td>\n",
       "      <td>...</td>\n",
       "      <td>...</td>\n",
       "    </tr>\n",
       "    <tr>\n",
       "      <th>3141</th>\n",
       "      <td>2020</td>\n",
       "      <td>1610612764</td>\n",
       "      <td>Washington Wizards</td>\n",
       "      <td>0.696</td>\n",
       "      <td>36</td>\n",
       "      <td>away</td>\n",
       "    </tr>\n",
       "    <tr>\n",
       "      <th>3142</th>\n",
       "      <td>2020</td>\n",
       "      <td>1610612765</td>\n",
       "      <td>Detroit Pistons</td>\n",
       "      <td>0.375</td>\n",
       "      <td>37</td>\n",
       "      <td>away</td>\n",
       "    </tr>\n",
       "    <tr>\n",
       "      <th>3143</th>\n",
       "      <td>2020</td>\n",
       "      <td>1610612765</td>\n",
       "      <td>Detroit Pistons</td>\n",
       "      <td>0.719</td>\n",
       "      <td>36</td>\n",
       "      <td>home</td>\n",
       "    </tr>\n",
       "    <tr>\n",
       "      <th>3144</th>\n",
       "      <td>2020</td>\n",
       "      <td>1610612766</td>\n",
       "      <td>Charlotte Hornets</td>\n",
       "      <td>0.533</td>\n",
       "      <td>36</td>\n",
       "      <td>away</td>\n",
       "    </tr>\n",
       "    <tr>\n",
       "      <th>3145</th>\n",
       "      <td>2020</td>\n",
       "      <td>1610612766</td>\n",
       "      <td>Charlotte Hornets</td>\n",
       "      <td>0.625</td>\n",
       "      <td>36</td>\n",
       "      <td>home</td>\n",
       "    </tr>\n",
       "  </tbody>\n",
       "</table>\n",
       "<p>3146 rows × 6 columns</p>\n",
       "</div>"
      ],
      "text/plain": [
       "      season     team_id           team_name  free_throw_percentage  \\\n",
       "0       1946  1610610025       Chicago Stags                    NaN   \n",
       "1       1946  1610610025       Chicago Stags                    NaN   \n",
       "2       1946  1610610026    Cleveland Rebels                    NaN   \n",
       "3       1946  1610610026    Cleveland Rebels                  0.667   \n",
       "4       1946  1610610028     Detroit Falcons                    NaN   \n",
       "...      ...         ...                 ...                    ...   \n",
       "3141    2020  1610612764  Washington Wizards                  0.696   \n",
       "3142    2020  1610612765     Detroit Pistons                  0.375   \n",
       "3143    2020  1610612765     Detroit Pistons                  0.719   \n",
       "3144    2020  1610612766   Charlotte Hornets                  0.533   \n",
       "3145    2020  1610612766   Charlotte Hornets                  0.625   \n",
       "\n",
       "      team_game_count game_location  \n",
       "0                  30          away  \n",
       "1                  31          home  \n",
       "2                  30          home  \n",
       "3                  30          away  \n",
       "4                  30          home  \n",
       "...               ...           ...  \n",
       "3141               36          away  \n",
       "3142               37          away  \n",
       "3143               36          home  \n",
       "3144               36          away  \n",
       "3145               36          home  \n",
       "\n",
       "[3146 rows x 6 columns]"
      ]
     },
     "execution_count": 29,
     "metadata": {},
     "output_type": "execute_result"
    }
   ],
   "source": [
    "# Union the home and away free throw data\n",
    "\n",
    "query = \"\"\"\n",
    "    SELECT\n",
    "        SEASON_ID-20000 AS season,\n",
    "        TEAM_ID_HOME AS team_id,\n",
    "        TEAM_NAME_HOME AS team_name,\n",
    "        FT_PCT_HOME AS free_throw_percentage,\n",
    "        COUNT(TEAM_ID_HOME) AS team_game_count,\n",
    "        \"home\" AS game_location\n",
    "    FROM Game\n",
    "    GROUP BY SEASON_ID, TEAM_ID_HOME\n",
    "\n",
    "    UNION\n",
    "\n",
    "    SELECT\n",
    "        SEASON_ID-20000 AS season,\n",
    "        TEAM_ID_AWAY AS team_id,\n",
    "        TEAM_NAME_AWAY AS team_name,\n",
    "        FT_PCT_AWAY AS free_throw_percentage,\n",
    "        COUNT(TEAM_ID_AWAY) AS team_game_count,\n",
    "        \"away\" AS game_location\n",
    "    FROM Game\n",
    "    GROUP BY SEASON_ID, TEAM_ID_AWAY\n",
    "\"\"\"\n",
    "\n",
    "team_level_free_throw_stats = pd.read_sql(query, connection)\n",
    "team_level_free_throw_stats"
   ]
  },
  {
   "cell_type": "markdown",
   "metadata": {},
   "source": [
    "#### Calculate the free_throw_percentage rows that have NA values"
   ]
  },
  {
   "cell_type": "code",
   "execution_count": 30,
   "metadata": {},
   "outputs": [
    {
     "data": {
      "text/plain": [
       "212"
      ]
     },
     "execution_count": 30,
     "metadata": {},
     "output_type": "execute_result"
    }
   ],
   "source": [
    "team_level_free_throw_stats.isna()['free_throw_percentage'].sum()"
   ]
  },
  {
   "cell_type": "markdown",
   "metadata": {},
   "source": [
    "#### Droping NA values"
   ]
  },
  {
   "cell_type": "code",
   "execution_count": 31,
   "metadata": {},
   "outputs": [],
   "source": [
    "team_level_free_throw_stats = team_level_free_throw_stats.dropna().query(\"free_throw_percentage < 1\").reset_index(drop=True)"
   ]
  },
  {
   "cell_type": "markdown",
   "metadata": {},
   "source": [
    "#### Calculate median free throw percentage"
   ]
  },
  {
   "cell_type": "code",
   "execution_count": 32,
   "metadata": {},
   "outputs": [
    {
     "data": {
      "text/html": [
       "<div>\n",
       "<style scoped>\n",
       "    .dataframe tbody tr th:only-of-type {\n",
       "        vertical-align: middle;\n",
       "    }\n",
       "\n",
       "    .dataframe tbody tr th {\n",
       "        vertical-align: top;\n",
       "    }\n",
       "\n",
       "    .dataframe thead th {\n",
       "        text-align: right;\n",
       "    }\n",
       "</style>\n",
       "<table border=\"1\" class=\"dataframe\">\n",
       "  <thead>\n",
       "    <tr style=\"text-align: right;\">\n",
       "      <th></th>\n",
       "      <th>season</th>\n",
       "      <th>game_location</th>\n",
       "      <th>free_throw_percentage</th>\n",
       "    </tr>\n",
       "  </thead>\n",
       "  <tbody>\n",
       "    <tr>\n",
       "      <th>0</th>\n",
       "      <td>1946</td>\n",
       "      <td>away</td>\n",
       "      <td>0.6785</td>\n",
       "    </tr>\n",
       "    <tr>\n",
       "      <th>1</th>\n",
       "      <td>1946</td>\n",
       "      <td>home</td>\n",
       "      <td>0.5965</td>\n",
       "    </tr>\n",
       "    <tr>\n",
       "      <th>2</th>\n",
       "      <td>1947</td>\n",
       "      <td>away</td>\n",
       "      <td>0.7080</td>\n",
       "    </tr>\n",
       "    <tr>\n",
       "      <th>3</th>\n",
       "      <td>1947</td>\n",
       "      <td>home</td>\n",
       "      <td>0.6870</td>\n",
       "    </tr>\n",
       "    <tr>\n",
       "      <th>4</th>\n",
       "      <td>1948</td>\n",
       "      <td>away</td>\n",
       "      <td>0.6580</td>\n",
       "    </tr>\n",
       "    <tr>\n",
       "      <th>...</th>\n",
       "      <td>...</td>\n",
       "      <td>...</td>\n",
       "      <td>...</td>\n",
       "    </tr>\n",
       "    <tr>\n",
       "      <th>136</th>\n",
       "      <td>2018</td>\n",
       "      <td>home</td>\n",
       "      <td>0.7295</td>\n",
       "    </tr>\n",
       "    <tr>\n",
       "      <th>137</th>\n",
       "      <td>2019</td>\n",
       "      <td>away</td>\n",
       "      <td>0.7880</td>\n",
       "    </tr>\n",
       "    <tr>\n",
       "      <th>138</th>\n",
       "      <td>2019</td>\n",
       "      <td>home</td>\n",
       "      <td>0.7815</td>\n",
       "    </tr>\n",
       "    <tr>\n",
       "      <th>139</th>\n",
       "      <td>2020</td>\n",
       "      <td>away</td>\n",
       "      <td>0.7545</td>\n",
       "    </tr>\n",
       "    <tr>\n",
       "      <th>140</th>\n",
       "      <td>2020</td>\n",
       "      <td>home</td>\n",
       "      <td>0.7445</td>\n",
       "    </tr>\n",
       "  </tbody>\n",
       "</table>\n",
       "<p>141 rows × 3 columns</p>\n",
       "</div>"
      ],
      "text/plain": [
       "     season game_location  free_throw_percentage\n",
       "0      1946          away                 0.6785\n",
       "1      1946          home                 0.5965\n",
       "2      1947          away                 0.7080\n",
       "3      1947          home                 0.6870\n",
       "4      1948          away                 0.6580\n",
       "..      ...           ...                    ...\n",
       "136    2018          home                 0.7295\n",
       "137    2019          away                 0.7880\n",
       "138    2019          home                 0.7815\n",
       "139    2020          away                 0.7545\n",
       "140    2020          home                 0.7445\n",
       "\n",
       "[141 rows x 3 columns]"
      ]
     },
     "execution_count": 32,
     "metadata": {},
     "output_type": "execute_result"
    }
   ],
   "source": [
    "cols_to_drop = ['team_id', 'team_name', 'team_game_count']\n",
    "\n",
    "median_ft_pct_1 = team_level_free_throw_stats.drop(cols_to_drop, axis=1).groupby(['season', 'game_location'])\n",
    "median_ft_pct = median_ft_pct_1.median().reset_index()\n",
    "median_ft_pct"
   ]
  },
  {
   "cell_type": "code",
   "execution_count": 33,
   "metadata": {},
   "outputs": [
    {
     "data": {
      "application/vnd.plotly.v1+json": {
       "config": {
        "plotlyServerURL": "https://plot.ly"
       },
       "data": [
        {
         "hovertemplate": "game_location=away<br>season=%{x}<br>free_throw_percentage=%{y}<extra></extra>",
         "legendgroup": "away",
         "line": {
          "color": "#636efa",
          "dash": "solid"
         },
         "marker": {
          "symbol": "circle"
         },
         "mode": "lines",
         "name": "away",
         "orientation": "v",
         "showlegend": true,
         "type": "scatter",
         "x": [
          1946,
          1947,
          1948,
          1949,
          1950,
          1951,
          1952,
          1955,
          1956,
          1957,
          1959,
          1960,
          1961,
          1963,
          1964,
          1965,
          1966,
          1967,
          1968,
          1969,
          1970,
          1971,
          1972,
          1973,
          1974,
          1975,
          1976,
          1977,
          1978,
          1979,
          1980,
          1981,
          1982,
          1983,
          1984,
          1985,
          1986,
          1987,
          1988,
          1989,
          1990,
          1991,
          1992,
          1993,
          1994,
          1995,
          1996,
          1997,
          1998,
          1999,
          2000,
          2001,
          2002,
          2003,
          2004,
          2005,
          2006,
          2007,
          2008,
          2009,
          2010,
          2011,
          2012,
          2013,
          2014,
          2015,
          2016,
          2017,
          2018,
          2019,
          2020
         ],
         "xaxis": "x",
         "y": [
          0.6785,
          0.708,
          0.658,
          0.6955,
          0.7130000000000001,
          0.786,
          0.806,
          0.723,
          0.675,
          0.711,
          0.846,
          0.784,
          0.75,
          0.6930000000000001,
          0.721,
          0.733,
          0.6865,
          0.724,
          0.71,
          0.7395,
          0.739,
          0.762,
          0.786,
          0.818,
          0.778,
          0.712,
          0.772,
          0.734,
          0.769,
          0.7424999999999999,
          0.731,
          0.727,
          0.717,
          0.721,
          0.771,
          0.739,
          0.778,
          0.73,
          0.769,
          0.769,
          0.727,
          0.719,
          0.741,
          0.75,
          0.75,
          0.742,
          0.714,
          0.719,
          0.6835,
          0.727,
          0.737,
          0.778,
          0.735,
          0.767,
          0.714,
          0.7484999999999999,
          0.726,
          0.75,
          0.76,
          0.76,
          0.7224999999999999,
          0.7915000000000001,
          0.76,
          0.756,
          0.7805,
          0.769,
          0.731,
          0.786,
          0.7545,
          0.788,
          0.7545
         ],
         "yaxis": "y"
        },
        {
         "hovertemplate": "game_location=home<br>season=%{x}<br>free_throw_percentage=%{y}<extra></extra>",
         "legendgroup": "home",
         "line": {
          "color": "#EF553B",
          "dash": "solid"
         },
         "marker": {
          "symbol": "circle"
         },
         "mode": "lines",
         "name": "home",
         "orientation": "v",
         "showlegend": true,
         "type": "scatter",
         "x": [
          1946,
          1947,
          1948,
          1949,
          1950,
          1952,
          1955,
          1956,
          1957,
          1959,
          1960,
          1961,
          1963,
          1964,
          1965,
          1966,
          1967,
          1968,
          1969,
          1970,
          1971,
          1972,
          1973,
          1974,
          1975,
          1976,
          1977,
          1978,
          1979,
          1980,
          1981,
          1982,
          1983,
          1984,
          1985,
          1986,
          1987,
          1988,
          1989,
          1990,
          1991,
          1992,
          1993,
          1994,
          1995,
          1996,
          1997,
          1998,
          1999,
          2000,
          2001,
          2002,
          2003,
          2004,
          2005,
          2006,
          2007,
          2008,
          2009,
          2010,
          2011,
          2012,
          2013,
          2014,
          2015,
          2016,
          2017,
          2018,
          2019,
          2020
         ],
         "xaxis": "x",
         "y": [
          0.5965,
          0.687,
          0.706,
          0.719,
          0.739,
          0.714,
          0.7565,
          0.8200000000000001,
          0.741,
          0.64,
          0.729,
          0.8009999999999999,
          0.711,
          0.71,
          0.732,
          0.696,
          0.6905,
          0.714,
          0.71,
          0.721,
          0.706,
          0.737,
          0.769,
          0.767,
          0.719,
          0.7685,
          0.716,
          0.768,
          0.778,
          0.721,
          0.727,
          0.758,
          0.739,
          0.733,
          0.723,
          0.747,
          0.759,
          0.739,
          0.744,
          0.767,
          0.769,
          0.737,
          0.714,
          0.745,
          0.7,
          0.714,
          0.706,
          0.679,
          0.75,
          0.737,
          0.727,
          0.714,
          0.714,
          0.7184999999999999,
          0.714,
          0.7344999999999999,
          0.735,
          0.72,
          0.7625,
          0.7895000000000001,
          0.731,
          0.7635000000000001,
          0.694,
          0.7464999999999999,
          0.769,
          0.758,
          0.789,
          0.7295,
          0.7815000000000001,
          0.7444999999999999
         ],
         "yaxis": "y"
        }
       ],
       "layout": {
        "legend": {
         "title": {
          "text": "game_location"
         },
         "tracegroupgap": 0
        },
        "template": {
         "data": {
          "bar": [
           {
            "error_x": {
             "color": "#2a3f5f"
            },
            "error_y": {
             "color": "#2a3f5f"
            },
            "marker": {
             "line": {
              "color": "#E5ECF6",
              "width": 0.5
             },
             "pattern": {
              "fillmode": "overlay",
              "size": 10,
              "solidity": 0.2
             }
            },
            "type": "bar"
           }
          ],
          "barpolar": [
           {
            "marker": {
             "line": {
              "color": "#E5ECF6",
              "width": 0.5
             },
             "pattern": {
              "fillmode": "overlay",
              "size": 10,
              "solidity": 0.2
             }
            },
            "type": "barpolar"
           }
          ],
          "carpet": [
           {
            "aaxis": {
             "endlinecolor": "#2a3f5f",
             "gridcolor": "white",
             "linecolor": "white",
             "minorgridcolor": "white",
             "startlinecolor": "#2a3f5f"
            },
            "baxis": {
             "endlinecolor": "#2a3f5f",
             "gridcolor": "white",
             "linecolor": "white",
             "minorgridcolor": "white",
             "startlinecolor": "#2a3f5f"
            },
            "type": "carpet"
           }
          ],
          "choropleth": [
           {
            "colorbar": {
             "outlinewidth": 0,
             "ticks": ""
            },
            "type": "choropleth"
           }
          ],
          "contour": [
           {
            "colorbar": {
             "outlinewidth": 0,
             "ticks": ""
            },
            "colorscale": [
             [
              0,
              "#0d0887"
             ],
             [
              0.1111111111111111,
              "#46039f"
             ],
             [
              0.2222222222222222,
              "#7201a8"
             ],
             [
              0.3333333333333333,
              "#9c179e"
             ],
             [
              0.4444444444444444,
              "#bd3786"
             ],
             [
              0.5555555555555556,
              "#d8576b"
             ],
             [
              0.6666666666666666,
              "#ed7953"
             ],
             [
              0.7777777777777778,
              "#fb9f3a"
             ],
             [
              0.8888888888888888,
              "#fdca26"
             ],
             [
              1,
              "#f0f921"
             ]
            ],
            "type": "contour"
           }
          ],
          "contourcarpet": [
           {
            "colorbar": {
             "outlinewidth": 0,
             "ticks": ""
            },
            "type": "contourcarpet"
           }
          ],
          "heatmap": [
           {
            "colorbar": {
             "outlinewidth": 0,
             "ticks": ""
            },
            "colorscale": [
             [
              0,
              "#0d0887"
             ],
             [
              0.1111111111111111,
              "#46039f"
             ],
             [
              0.2222222222222222,
              "#7201a8"
             ],
             [
              0.3333333333333333,
              "#9c179e"
             ],
             [
              0.4444444444444444,
              "#bd3786"
             ],
             [
              0.5555555555555556,
              "#d8576b"
             ],
             [
              0.6666666666666666,
              "#ed7953"
             ],
             [
              0.7777777777777778,
              "#fb9f3a"
             ],
             [
              0.8888888888888888,
              "#fdca26"
             ],
             [
              1,
              "#f0f921"
             ]
            ],
            "type": "heatmap"
           }
          ],
          "heatmapgl": [
           {
            "colorbar": {
             "outlinewidth": 0,
             "ticks": ""
            },
            "colorscale": [
             [
              0,
              "#0d0887"
             ],
             [
              0.1111111111111111,
              "#46039f"
             ],
             [
              0.2222222222222222,
              "#7201a8"
             ],
             [
              0.3333333333333333,
              "#9c179e"
             ],
             [
              0.4444444444444444,
              "#bd3786"
             ],
             [
              0.5555555555555556,
              "#d8576b"
             ],
             [
              0.6666666666666666,
              "#ed7953"
             ],
             [
              0.7777777777777778,
              "#fb9f3a"
             ],
             [
              0.8888888888888888,
              "#fdca26"
             ],
             [
              1,
              "#f0f921"
             ]
            ],
            "type": "heatmapgl"
           }
          ],
          "histogram": [
           {
            "marker": {
             "pattern": {
              "fillmode": "overlay",
              "size": 10,
              "solidity": 0.2
             }
            },
            "type": "histogram"
           }
          ],
          "histogram2d": [
           {
            "colorbar": {
             "outlinewidth": 0,
             "ticks": ""
            },
            "colorscale": [
             [
              0,
              "#0d0887"
             ],
             [
              0.1111111111111111,
              "#46039f"
             ],
             [
              0.2222222222222222,
              "#7201a8"
             ],
             [
              0.3333333333333333,
              "#9c179e"
             ],
             [
              0.4444444444444444,
              "#bd3786"
             ],
             [
              0.5555555555555556,
              "#d8576b"
             ],
             [
              0.6666666666666666,
              "#ed7953"
             ],
             [
              0.7777777777777778,
              "#fb9f3a"
             ],
             [
              0.8888888888888888,
              "#fdca26"
             ],
             [
              1,
              "#f0f921"
             ]
            ],
            "type": "histogram2d"
           }
          ],
          "histogram2dcontour": [
           {
            "colorbar": {
             "outlinewidth": 0,
             "ticks": ""
            },
            "colorscale": [
             [
              0,
              "#0d0887"
             ],
             [
              0.1111111111111111,
              "#46039f"
             ],
             [
              0.2222222222222222,
              "#7201a8"
             ],
             [
              0.3333333333333333,
              "#9c179e"
             ],
             [
              0.4444444444444444,
              "#bd3786"
             ],
             [
              0.5555555555555556,
              "#d8576b"
             ],
             [
              0.6666666666666666,
              "#ed7953"
             ],
             [
              0.7777777777777778,
              "#fb9f3a"
             ],
             [
              0.8888888888888888,
              "#fdca26"
             ],
             [
              1,
              "#f0f921"
             ]
            ],
            "type": "histogram2dcontour"
           }
          ],
          "mesh3d": [
           {
            "colorbar": {
             "outlinewidth": 0,
             "ticks": ""
            },
            "type": "mesh3d"
           }
          ],
          "parcoords": [
           {
            "line": {
             "colorbar": {
              "outlinewidth": 0,
              "ticks": ""
             }
            },
            "type": "parcoords"
           }
          ],
          "pie": [
           {
            "automargin": true,
            "type": "pie"
           }
          ],
          "scatter": [
           {
            "fillpattern": {
             "fillmode": "overlay",
             "size": 10,
             "solidity": 0.2
            },
            "type": "scatter"
           }
          ],
          "scatter3d": [
           {
            "line": {
             "colorbar": {
              "outlinewidth": 0,
              "ticks": ""
             }
            },
            "marker": {
             "colorbar": {
              "outlinewidth": 0,
              "ticks": ""
             }
            },
            "type": "scatter3d"
           }
          ],
          "scattercarpet": [
           {
            "marker": {
             "colorbar": {
              "outlinewidth": 0,
              "ticks": ""
             }
            },
            "type": "scattercarpet"
           }
          ],
          "scattergeo": [
           {
            "marker": {
             "colorbar": {
              "outlinewidth": 0,
              "ticks": ""
             }
            },
            "type": "scattergeo"
           }
          ],
          "scattergl": [
           {
            "marker": {
             "colorbar": {
              "outlinewidth": 0,
              "ticks": ""
             }
            },
            "type": "scattergl"
           }
          ],
          "scattermapbox": [
           {
            "marker": {
             "colorbar": {
              "outlinewidth": 0,
              "ticks": ""
             }
            },
            "type": "scattermapbox"
           }
          ],
          "scatterpolar": [
           {
            "marker": {
             "colorbar": {
              "outlinewidth": 0,
              "ticks": ""
             }
            },
            "type": "scatterpolar"
           }
          ],
          "scatterpolargl": [
           {
            "marker": {
             "colorbar": {
              "outlinewidth": 0,
              "ticks": ""
             }
            },
            "type": "scatterpolargl"
           }
          ],
          "scatterternary": [
           {
            "marker": {
             "colorbar": {
              "outlinewidth": 0,
              "ticks": ""
             }
            },
            "type": "scatterternary"
           }
          ],
          "surface": [
           {
            "colorbar": {
             "outlinewidth": 0,
             "ticks": ""
            },
            "colorscale": [
             [
              0,
              "#0d0887"
             ],
             [
              0.1111111111111111,
              "#46039f"
             ],
             [
              0.2222222222222222,
              "#7201a8"
             ],
             [
              0.3333333333333333,
              "#9c179e"
             ],
             [
              0.4444444444444444,
              "#bd3786"
             ],
             [
              0.5555555555555556,
              "#d8576b"
             ],
             [
              0.6666666666666666,
              "#ed7953"
             ],
             [
              0.7777777777777778,
              "#fb9f3a"
             ],
             [
              0.8888888888888888,
              "#fdca26"
             ],
             [
              1,
              "#f0f921"
             ]
            ],
            "type": "surface"
           }
          ],
          "table": [
           {
            "cells": {
             "fill": {
              "color": "#EBF0F8"
             },
             "line": {
              "color": "white"
             }
            },
            "header": {
             "fill": {
              "color": "#C8D4E3"
             },
             "line": {
              "color": "white"
             }
            },
            "type": "table"
           }
          ]
         },
         "layout": {
          "annotationdefaults": {
           "arrowcolor": "#2a3f5f",
           "arrowhead": 0,
           "arrowwidth": 1
          },
          "autotypenumbers": "strict",
          "coloraxis": {
           "colorbar": {
            "outlinewidth": 0,
            "ticks": ""
           }
          },
          "colorscale": {
           "diverging": [
            [
             0,
             "#8e0152"
            ],
            [
             0.1,
             "#c51b7d"
            ],
            [
             0.2,
             "#de77ae"
            ],
            [
             0.3,
             "#f1b6da"
            ],
            [
             0.4,
             "#fde0ef"
            ],
            [
             0.5,
             "#f7f7f7"
            ],
            [
             0.6,
             "#e6f5d0"
            ],
            [
             0.7,
             "#b8e186"
            ],
            [
             0.8,
             "#7fbc41"
            ],
            [
             0.9,
             "#4d9221"
            ],
            [
             1,
             "#276419"
            ]
           ],
           "sequential": [
            [
             0,
             "#0d0887"
            ],
            [
             0.1111111111111111,
             "#46039f"
            ],
            [
             0.2222222222222222,
             "#7201a8"
            ],
            [
             0.3333333333333333,
             "#9c179e"
            ],
            [
             0.4444444444444444,
             "#bd3786"
            ],
            [
             0.5555555555555556,
             "#d8576b"
            ],
            [
             0.6666666666666666,
             "#ed7953"
            ],
            [
             0.7777777777777778,
             "#fb9f3a"
            ],
            [
             0.8888888888888888,
             "#fdca26"
            ],
            [
             1,
             "#f0f921"
            ]
           ],
           "sequentialminus": [
            [
             0,
             "#0d0887"
            ],
            [
             0.1111111111111111,
             "#46039f"
            ],
            [
             0.2222222222222222,
             "#7201a8"
            ],
            [
             0.3333333333333333,
             "#9c179e"
            ],
            [
             0.4444444444444444,
             "#bd3786"
            ],
            [
             0.5555555555555556,
             "#d8576b"
            ],
            [
             0.6666666666666666,
             "#ed7953"
            ],
            [
             0.7777777777777778,
             "#fb9f3a"
            ],
            [
             0.8888888888888888,
             "#fdca26"
            ],
            [
             1,
             "#f0f921"
            ]
           ]
          },
          "colorway": [
           "#636efa",
           "#EF553B",
           "#00cc96",
           "#ab63fa",
           "#FFA15A",
           "#19d3f3",
           "#FF6692",
           "#B6E880",
           "#FF97FF",
           "#FECB52"
          ],
          "font": {
           "color": "#2a3f5f"
          },
          "geo": {
           "bgcolor": "white",
           "lakecolor": "white",
           "landcolor": "#E5ECF6",
           "showlakes": true,
           "showland": true,
           "subunitcolor": "white"
          },
          "hoverlabel": {
           "align": "left"
          },
          "hovermode": "closest",
          "mapbox": {
           "style": "light"
          },
          "paper_bgcolor": "white",
          "plot_bgcolor": "#E5ECF6",
          "polar": {
           "angularaxis": {
            "gridcolor": "white",
            "linecolor": "white",
            "ticks": ""
           },
           "bgcolor": "#E5ECF6",
           "radialaxis": {
            "gridcolor": "white",
            "linecolor": "white",
            "ticks": ""
           }
          },
          "scene": {
           "xaxis": {
            "backgroundcolor": "#E5ECF6",
            "gridcolor": "white",
            "gridwidth": 2,
            "linecolor": "white",
            "showbackground": true,
            "ticks": "",
            "zerolinecolor": "white"
           },
           "yaxis": {
            "backgroundcolor": "#E5ECF6",
            "gridcolor": "white",
            "gridwidth": 2,
            "linecolor": "white",
            "showbackground": true,
            "ticks": "",
            "zerolinecolor": "white"
           },
           "zaxis": {
            "backgroundcolor": "#E5ECF6",
            "gridcolor": "white",
            "gridwidth": 2,
            "linecolor": "white",
            "showbackground": true,
            "ticks": "",
            "zerolinecolor": "white"
           }
          },
          "shapedefaults": {
           "line": {
            "color": "#2a3f5f"
           }
          },
          "ternary": {
           "aaxis": {
            "gridcolor": "white",
            "linecolor": "white",
            "ticks": ""
           },
           "baxis": {
            "gridcolor": "white",
            "linecolor": "white",
            "ticks": ""
           },
           "bgcolor": "#E5ECF6",
           "caxis": {
            "gridcolor": "white",
            "linecolor": "white",
            "ticks": ""
           }
          },
          "title": {
           "x": 0.05
          },
          "xaxis": {
           "automargin": true,
           "gridcolor": "white",
           "linecolor": "white",
           "ticks": "",
           "title": {
            "standoff": 15
           },
           "zerolinecolor": "white",
           "zerolinewidth": 2
          },
          "yaxis": {
           "automargin": true,
           "gridcolor": "white",
           "linecolor": "white",
           "ticks": "",
           "title": {
            "standoff": 15
           },
           "zerolinecolor": "white",
           "zerolinewidth": 2
          }
         }
        },
        "title": {
         "text": "1946-2020: median of the team level free throw percentage by game location"
        },
        "xaxis": {
         "anchor": "y",
         "domain": [
          0,
          1
         ],
         "title": {
          "text": "season"
         }
        },
        "yaxis": {
         "anchor": "x",
         "domain": [
          0,
          1
         ],
         "title": {
          "text": "free_throw_percentage"
         }
        }
       }
      }
     },
     "metadata": {},
     "output_type": "display_data"
    }
   ],
   "source": [
    "px.line(median_ft_pct, x='season', y='free_throw_percentage',\n",
    "        color='game_location', title='1946-2020: median of the team level free throw percentage by game location')"
   ]
  },
  {
   "cell_type": "markdown",
   "metadata": {},
   "source": [
    "#### Player background and salary analysis"
   ]
  },
  {
   "cell_type": "markdown",
   "metadata": {},
   "source": [
    "#### Who are the top 10 NBA players based on 2020-2021 season salary?"
   ]
  },
  {
   "cell_type": "code",
   "execution_count": 34,
   "metadata": {},
   "outputs": [
    {
     "data": {
      "text/html": [
       "<div>\n",
       "<style scoped>\n",
       "    .dataframe tbody tr th:only-of-type {\n",
       "        vertical-align: middle;\n",
       "    }\n",
       "\n",
       "    .dataframe tbody tr th {\n",
       "        vertical-align: top;\n",
       "    }\n",
       "\n",
       "    .dataframe thead th {\n",
       "        text-align: right;\n",
       "    }\n",
       "</style>\n",
       "<table border=\"1\" class=\"dataframe\">\n",
       "  <thead>\n",
       "    <tr style=\"text-align: right;\">\n",
       "      <th></th>\n",
       "      <th>player_name</th>\n",
       "      <th>team_name</th>\n",
       "      <th>age</th>\n",
       "      <th>draft_year</th>\n",
       "      <th>years_in_NBA</th>\n",
       "      <th>game_position</th>\n",
       "      <th>salary_in_millions</th>\n",
       "    </tr>\n",
       "  </thead>\n",
       "  <tbody>\n",
       "    <tr>\n",
       "      <th>0</th>\n",
       "      <td>Stephen Curry</td>\n",
       "      <td>Golden State Warriors</td>\n",
       "      <td>33</td>\n",
       "      <td>2009</td>\n",
       "      <td>12</td>\n",
       "      <td>Guard</td>\n",
       "      <td>43.0</td>\n",
       "    </tr>\n",
       "    <tr>\n",
       "      <th>1</th>\n",
       "      <td>James Harden</td>\n",
       "      <td>Brooklyn Nets</td>\n",
       "      <td>32</td>\n",
       "      <td>2009</td>\n",
       "      <td>12</td>\n",
       "      <td>Guard</td>\n",
       "      <td>41.0</td>\n",
       "    </tr>\n",
       "    <tr>\n",
       "      <th>2</th>\n",
       "      <td>John Wall</td>\n",
       "      <td>Houston Rockets</td>\n",
       "      <td>31</td>\n",
       "      <td>2010</td>\n",
       "      <td>11</td>\n",
       "      <td>Guard</td>\n",
       "      <td>41.0</td>\n",
       "    </tr>\n",
       "    <tr>\n",
       "      <th>3</th>\n",
       "      <td>Chris Paul</td>\n",
       "      <td>Phoenix Suns</td>\n",
       "      <td>36</td>\n",
       "      <td>2005</td>\n",
       "      <td>16</td>\n",
       "      <td>Guard</td>\n",
       "      <td>41.0</td>\n",
       "    </tr>\n",
       "    <tr>\n",
       "      <th>4</th>\n",
       "      <td>Russell Westbrook</td>\n",
       "      <td>Washington Wizards</td>\n",
       "      <td>33</td>\n",
       "      <td>2008</td>\n",
       "      <td>13</td>\n",
       "      <td>Guard</td>\n",
       "      <td>41.0</td>\n",
       "    </tr>\n",
       "    <tr>\n",
       "      <th>5</th>\n",
       "      <td>Kevin Durant</td>\n",
       "      <td>Brooklyn Nets</td>\n",
       "      <td>33</td>\n",
       "      <td>2007</td>\n",
       "      <td>14</td>\n",
       "      <td>Forward</td>\n",
       "      <td>40.0</td>\n",
       "    </tr>\n",
       "    <tr>\n",
       "      <th>6</th>\n",
       "      <td>LeBron James</td>\n",
       "      <td>Los Angeles Lakers</td>\n",
       "      <td>37</td>\n",
       "      <td>2003</td>\n",
       "      <td>18</td>\n",
       "      <td>Forward</td>\n",
       "      <td>39.0</td>\n",
       "    </tr>\n",
       "    <tr>\n",
       "      <th>7</th>\n",
       "      <td>Klay Thompson</td>\n",
       "      <td>Golden State Warriors</td>\n",
       "      <td>31</td>\n",
       "      <td>2011</td>\n",
       "      <td>10</td>\n",
       "      <td>Guard</td>\n",
       "      <td>35.0</td>\n",
       "    </tr>\n",
       "    <tr>\n",
       "      <th>8</th>\n",
       "      <td>Paul George</td>\n",
       "      <td>Los Angeles Clippers</td>\n",
       "      <td>31</td>\n",
       "      <td>2010</td>\n",
       "      <td>11</td>\n",
       "      <td>Forward</td>\n",
       "      <td>35.0</td>\n",
       "    </tr>\n",
       "    <tr>\n",
       "      <th>9</th>\n",
       "      <td>Mike Conley</td>\n",
       "      <td>Utah Jazz</td>\n",
       "      <td>34</td>\n",
       "      <td>2007</td>\n",
       "      <td>14</td>\n",
       "      <td>Guard</td>\n",
       "      <td>35.0</td>\n",
       "    </tr>\n",
       "  </tbody>\n",
       "</table>\n",
       "</div>"
      ],
      "text/plain": [
       "         player_name              team_name  age draft_year  years_in_NBA  \\\n",
       "0      Stephen Curry  Golden State Warriors   33       2009            12   \n",
       "1       James Harden          Brooklyn Nets   32       2009            12   \n",
       "2          John Wall        Houston Rockets   31       2010            11   \n",
       "3         Chris Paul           Phoenix Suns   36       2005            16   \n",
       "4  Russell Westbrook     Washington Wizards   33       2008            13   \n",
       "5       Kevin Durant          Brooklyn Nets   33       2007            14   \n",
       "6       LeBron James     Los Angeles Lakers   37       2003            18   \n",
       "7      Klay Thompson  Golden State Warriors   31       2011            10   \n",
       "8        Paul George   Los Angeles Clippers   31       2010            11   \n",
       "9        Mike Conley              Utah Jazz   34       2007            14   \n",
       "\n",
       "  game_position  salary_in_millions  \n",
       "0         Guard                43.0  \n",
       "1         Guard                41.0  \n",
       "2         Guard                41.0  \n",
       "3         Guard                41.0  \n",
       "4         Guard                41.0  \n",
       "5       Forward                40.0  \n",
       "6       Forward                39.0  \n",
       "7         Guard                35.0  \n",
       "8       Forward                35.0  \n",
       "9         Guard                35.0  "
      ]
     },
     "execution_count": 34,
     "metadata": {},
     "output_type": "execute_result"
    }
   ],
   "source": [
    "# Getting data\n",
    "# strftime -> return the date formatted according to the format string specified\n",
    "# strftime('%year %month %date')\n",
    "\n",
    "query = \"\"\"\n",
    "    SELECT\n",
    "        namePlayer AS player_name,\n",
    "        nameTeam AS team_name,\n",
    "        2021 - strftime('%Y', Player_Attributes.BIRTHDATE) AS age,\n",
    "        Player_Attributes.DRAFT_YEAR AS draft_year,\n",
    "        2021 - Player_Attributes.DRAFT_YEAR AS years_in_NBA,\n",
    "        Player_Attributes.POSITION as game_position,\n",
    "        ROUND(value/1000000) AS salary_in_millions\n",
    "    FROM Player_Salary\n",
    "    JOIN Player ON\n",
    "        Player_Salary.namePlayer = Player.full_name\n",
    "    JOIN Player_Attributes ON\n",
    "        Player.ID = Player_Attributes.ID\n",
    "    WHERE slugSeason = '2020-21'\n",
    "    ORDER BY salary_in_millions DESC\n",
    "    LIMIT 10;      \n",
    "\"\"\"\n",
    "\n",
    "player_salary_top_10 = pd.read_sql(query, connection)\n",
    "player_salary_top_10"
   ]
  },
  {
   "cell_type": "markdown",
   "metadata": {},
   "source": [
    "#### What are the game play stats for the top 10 earning NBA players based on the data available?"
   ]
  },
  {
   "cell_type": "code",
   "execution_count": 35,
   "metadata": {},
   "outputs": [
    {
     "data": {
      "text/html": [
       "<div>\n",
       "<style scoped>\n",
       "    .dataframe tbody tr th:only-of-type {\n",
       "        vertical-align: middle;\n",
       "    }\n",
       "\n",
       "    .dataframe tbody tr th {\n",
       "        vertical-align: top;\n",
       "    }\n",
       "\n",
       "    .dataframe thead th {\n",
       "        text-align: right;\n",
       "    }\n",
       "</style>\n",
       "<table border=\"1\" class=\"dataframe\">\n",
       "  <thead>\n",
       "    <tr style=\"text-align: right;\">\n",
       "      <th></th>\n",
       "      <th>player_name</th>\n",
       "      <th>team_name</th>\n",
       "      <th>draft_year</th>\n",
       "      <th>game_position</th>\n",
       "      <th>points</th>\n",
       "      <th>assists</th>\n",
       "      <th>rebounds</th>\n",
       "      <th>salary_in_millions</th>\n",
       "    </tr>\n",
       "  </thead>\n",
       "  <tbody>\n",
       "    <tr>\n",
       "      <th>0</th>\n",
       "      <td>Stephen Curry</td>\n",
       "      <td>Golden State Warriors</td>\n",
       "      <td>2009</td>\n",
       "      <td>Guard</td>\n",
       "      <td>29.0</td>\n",
       "      <td>6.2</td>\n",
       "      <td>5.3</td>\n",
       "      <td>43.0</td>\n",
       "    </tr>\n",
       "    <tr>\n",
       "      <th>1</th>\n",
       "      <td>James Harden</td>\n",
       "      <td>Brooklyn Nets</td>\n",
       "      <td>2009</td>\n",
       "      <td>Guard</td>\n",
       "      <td>25.3</td>\n",
       "      <td>11.2</td>\n",
       "      <td>7.9</td>\n",
       "      <td>41.0</td>\n",
       "    </tr>\n",
       "    <tr>\n",
       "      <th>2</th>\n",
       "      <td>John Wall</td>\n",
       "      <td>Houston Rockets</td>\n",
       "      <td>2010</td>\n",
       "      <td>Guard</td>\n",
       "      <td>21.1</td>\n",
       "      <td>6.3</td>\n",
       "      <td>3.5</td>\n",
       "      <td>41.0</td>\n",
       "    </tr>\n",
       "    <tr>\n",
       "      <th>3</th>\n",
       "      <td>Chris Paul</td>\n",
       "      <td>Phoenix Suns</td>\n",
       "      <td>2005</td>\n",
       "      <td>Guard</td>\n",
       "      <td>15.7</td>\n",
       "      <td>8.8</td>\n",
       "      <td>4.7</td>\n",
       "      <td>41.0</td>\n",
       "    </tr>\n",
       "    <tr>\n",
       "      <th>4</th>\n",
       "      <td>Russell Westbrook</td>\n",
       "      <td>Washington Wizards</td>\n",
       "      <td>2008</td>\n",
       "      <td>Guard</td>\n",
       "      <td>21.7</td>\n",
       "      <td>10.3</td>\n",
       "      <td>9.5</td>\n",
       "      <td>41.0</td>\n",
       "    </tr>\n",
       "    <tr>\n",
       "      <th>5</th>\n",
       "      <td>Kevin Durant</td>\n",
       "      <td>Brooklyn Nets</td>\n",
       "      <td>2007</td>\n",
       "      <td>Forward</td>\n",
       "      <td>29.0</td>\n",
       "      <td>5.3</td>\n",
       "      <td>7.3</td>\n",
       "      <td>40.0</td>\n",
       "    </tr>\n",
       "    <tr>\n",
       "      <th>6</th>\n",
       "      <td>LeBron James</td>\n",
       "      <td>Los Angeles Lakers</td>\n",
       "      <td>2003</td>\n",
       "      <td>Forward</td>\n",
       "      <td>25.4</td>\n",
       "      <td>7.9</td>\n",
       "      <td>7.9</td>\n",
       "      <td>39.0</td>\n",
       "    </tr>\n",
       "    <tr>\n",
       "      <th>7</th>\n",
       "      <td>Klay Thompson</td>\n",
       "      <td>Golden State Warriors</td>\n",
       "      <td>2011</td>\n",
       "      <td>Guard</td>\n",
       "      <td>21.5</td>\n",
       "      <td>2.4</td>\n",
       "      <td>3.8</td>\n",
       "      <td>35.0</td>\n",
       "    </tr>\n",
       "    <tr>\n",
       "      <th>8</th>\n",
       "      <td>Paul George</td>\n",
       "      <td>Los Angeles Clippers</td>\n",
       "      <td>2010</td>\n",
       "      <td>Forward</td>\n",
       "      <td>22.5</td>\n",
       "      <td>5.5</td>\n",
       "      <td>6.0</td>\n",
       "      <td>35.0</td>\n",
       "    </tr>\n",
       "    <tr>\n",
       "      <th>9</th>\n",
       "      <td>Mike Conley</td>\n",
       "      <td>Utah Jazz</td>\n",
       "      <td>2007</td>\n",
       "      <td>Guard</td>\n",
       "      <td>16.4</td>\n",
       "      <td>5.5</td>\n",
       "      <td>3.4</td>\n",
       "      <td>35.0</td>\n",
       "    </tr>\n",
       "  </tbody>\n",
       "</table>\n",
       "</div>"
      ],
      "text/plain": [
       "         player_name              team_name draft_year game_position  points  \\\n",
       "0      Stephen Curry  Golden State Warriors       2009         Guard    29.0   \n",
       "1       James Harden          Brooklyn Nets       2009         Guard    25.3   \n",
       "2          John Wall        Houston Rockets       2010         Guard    21.1   \n",
       "3         Chris Paul           Phoenix Suns       2005         Guard    15.7   \n",
       "4  Russell Westbrook     Washington Wizards       2008         Guard    21.7   \n",
       "5       Kevin Durant          Brooklyn Nets       2007       Forward    29.0   \n",
       "6       LeBron James     Los Angeles Lakers       2003       Forward    25.4   \n",
       "7      Klay Thompson  Golden State Warriors       2011         Guard    21.5   \n",
       "8        Paul George   Los Angeles Clippers       2010       Forward    22.5   \n",
       "9        Mike Conley              Utah Jazz       2007         Guard    16.4   \n",
       "\n",
       "   assists  rebounds  salary_in_millions  \n",
       "0      6.2       5.3                43.0  \n",
       "1     11.2       7.9                41.0  \n",
       "2      6.3       3.5                41.0  \n",
       "3      8.8       4.7                41.0  \n",
       "4     10.3       9.5                41.0  \n",
       "5      5.3       7.3                40.0  \n",
       "6      7.9       7.9                39.0  \n",
       "7      2.4       3.8                35.0  \n",
       "8      5.5       6.0                35.0  \n",
       "9      5.5       3.4                35.0  "
      ]
     },
     "execution_count": 35,
     "metadata": {},
     "output_type": "execute_result"
    }
   ],
   "source": [
    "# Getting the top 10 earning player salary data\n",
    "\n",
    "query = \"\"\"\n",
    "    SELECT\n",
    "        namePlayer AS player_name,\n",
    "        nameTeam AS team_name,\n",
    "        Player_Attributes.DRAFT_YEAR AS draft_year,\n",
    "        Player_Attributes.POSITION AS game_position,\n",
    "        Player_Attributes.PTS AS points,\n",
    "        Player_Attributes.AST AS assists,\n",
    "        Player_Attributes.REB AS rebounds,\n",
    "        ROUND(value/1000000) AS salary_in_millions\n",
    "    FROM Player_Salary\n",
    "    JOIN Player ON\n",
    "        Player_Salary.namePlayer = Player.full_name\n",
    "    JOIN Player_Attributes ON\n",
    "        Player.ID = Player_Attributes.ID\n",
    "    WHERE slugSeason = '2020-21'\n",
    "    ORDER BY salary_in_millions DESC\n",
    "    LIMIT 10;\n",
    "\"\"\"\n",
    "player_salary_top_10_game_stats = pd.read_sql(query, connection)\n",
    "player_salary_top_10_game_stats"
   ]
  },
  {
   "cell_type": "markdown",
   "metadata": {},
   "source": [
    "## Team Background Data Analysis"
   ]
  },
  {
   "cell_type": "markdown",
   "metadata": {},
   "source": [
    "#### What are the top 10 paying teams ins 2020-21 season based on the average salary?"
   ]
  },
  {
   "cell_type": "code",
   "execution_count": 36,
   "metadata": {},
   "outputs": [
    {
     "data": {
      "text/html": [
       "<div>\n",
       "<style scoped>\n",
       "    .dataframe tbody tr th:only-of-type {\n",
       "        vertical-align: middle;\n",
       "    }\n",
       "\n",
       "    .dataframe tbody tr th {\n",
       "        vertical-align: top;\n",
       "    }\n",
       "\n",
       "    .dataframe thead th {\n",
       "        text-align: right;\n",
       "    }\n",
       "</style>\n",
       "<table border=\"1\" class=\"dataframe\">\n",
       "  <thead>\n",
       "    <tr style=\"text-align: right;\">\n",
       "      <th></th>\n",
       "      <th>team_name</th>\n",
       "      <th>avg_salary_in_millions</th>\n",
       "    </tr>\n",
       "  </thead>\n",
       "  <tbody>\n",
       "    <tr>\n",
       "      <th>0</th>\n",
       "      <td>Golden State Warriors</td>\n",
       "      <td>12.05</td>\n",
       "    </tr>\n",
       "    <tr>\n",
       "      <th>1</th>\n",
       "      <td>Los Angeles Clippers</td>\n",
       "      <td>9.76</td>\n",
       "    </tr>\n",
       "    <tr>\n",
       "      <th>2</th>\n",
       "      <td>Philadelphia 76ers</td>\n",
       "      <td>9.11</td>\n",
       "    </tr>\n",
       "    <tr>\n",
       "      <th>3</th>\n",
       "      <td>Miami Heat</td>\n",
       "      <td>8.79</td>\n",
       "    </tr>\n",
       "    <tr>\n",
       "      <th>4</th>\n",
       "      <td>Portland Trail Blazers</td>\n",
       "      <td>8.66</td>\n",
       "    </tr>\n",
       "    <tr>\n",
       "      <th>5</th>\n",
       "      <td>Minnesota Timberwolves</td>\n",
       "      <td>8.64</td>\n",
       "    </tr>\n",
       "    <tr>\n",
       "      <th>6</th>\n",
       "      <td>Denver Nuggets</td>\n",
       "      <td>8.55</td>\n",
       "    </tr>\n",
       "    <tr>\n",
       "      <th>7</th>\n",
       "      <td>Utah Jazz</td>\n",
       "      <td>8.50</td>\n",
       "    </tr>\n",
       "    <tr>\n",
       "      <th>8</th>\n",
       "      <td>Brooklyn Nets</td>\n",
       "      <td>8.28</td>\n",
       "    </tr>\n",
       "    <tr>\n",
       "      <th>9</th>\n",
       "      <td>New Orleans Pelicans</td>\n",
       "      <td>8.27</td>\n",
       "    </tr>\n",
       "  </tbody>\n",
       "</table>\n",
       "</div>"
      ],
      "text/plain": [
       "                team_name  avg_salary_in_millions\n",
       "0   Golden State Warriors                   12.05\n",
       "1    Los Angeles Clippers                    9.76\n",
       "2      Philadelphia 76ers                    9.11\n",
       "3              Miami Heat                    8.79\n",
       "4  Portland Trail Blazers                    8.66\n",
       "5  Minnesota Timberwolves                    8.64\n",
       "6          Denver Nuggets                    8.55\n",
       "7               Utah Jazz                    8.50\n",
       "8           Brooklyn Nets                    8.28\n",
       "9    New Orleans Pelicans                    8.27"
      ]
     },
     "execution_count": 36,
     "metadata": {},
     "output_type": "execute_result"
    }
   ],
   "source": [
    "query = \"\"\"\n",
    "    SELECT\n",
    "        nameTeam AS team_name,\n",
    "        ROUND(AVG(value/1000000), 2) AS avg_salary_in_millions\n",
    "    FROM Player_Salary\n",
    "    WHERE slugSeason = '2020-21'\n",
    "    GROUP BY team_name\n",
    "    ORDER BY avg_salary_in_millions DESC\n",
    "    LIMIT 10;\n",
    "\"\"\"\n",
    "\n",
    "team_top_10_paying = pd.read_sql(query, connection)\n",
    "team_top_10_paying\n"
   ]
  },
  {
   "cell_type": "code",
   "execution_count": 37,
   "metadata": {},
   "outputs": [
    {
     "data": {
      "application/vnd.plotly.v1+json": {
       "config": {
        "plotlyServerURL": "https://plot.ly"
       },
       "data": [
        {
         "alignmentgroup": "True",
         "hovertemplate": "team_name=%{x}<br>avg_salary_in_millions=%{text}<extra></extra>",
         "legendgroup": "",
         "marker": {
          "color": "#636efa",
          "pattern": {
           "shape": ""
          }
         },
         "name": "",
         "offsetgroup": "",
         "orientation": "v",
         "showlegend": false,
         "text": [
          12.05,
          9.76,
          9.11,
          8.79,
          8.66,
          8.64,
          8.55,
          8.5,
          8.28,
          8.27
         ],
         "textposition": "auto",
         "type": "bar",
         "x": [
          "Golden State Warriors",
          "Los Angeles Clippers",
          "Philadelphia 76ers",
          "Miami Heat",
          "Portland Trail Blazers",
          "Minnesota Timberwolves",
          "Denver Nuggets",
          "Utah Jazz",
          "Brooklyn Nets",
          "New Orleans Pelicans"
         ],
         "xaxis": "x",
         "y": [
          12.05,
          9.76,
          9.11,
          8.79,
          8.66,
          8.64,
          8.55,
          8.5,
          8.28,
          8.27
         ],
         "yaxis": "y"
        }
       ],
       "layout": {
        "barmode": "relative",
        "legend": {
         "tracegroupgap": 0
        },
        "template": {
         "data": {
          "bar": [
           {
            "error_x": {
             "color": "#2a3f5f"
            },
            "error_y": {
             "color": "#2a3f5f"
            },
            "marker": {
             "line": {
              "color": "#E5ECF6",
              "width": 0.5
             },
             "pattern": {
              "fillmode": "overlay",
              "size": 10,
              "solidity": 0.2
             }
            },
            "type": "bar"
           }
          ],
          "barpolar": [
           {
            "marker": {
             "line": {
              "color": "#E5ECF6",
              "width": 0.5
             },
             "pattern": {
              "fillmode": "overlay",
              "size": 10,
              "solidity": 0.2
             }
            },
            "type": "barpolar"
           }
          ],
          "carpet": [
           {
            "aaxis": {
             "endlinecolor": "#2a3f5f",
             "gridcolor": "white",
             "linecolor": "white",
             "minorgridcolor": "white",
             "startlinecolor": "#2a3f5f"
            },
            "baxis": {
             "endlinecolor": "#2a3f5f",
             "gridcolor": "white",
             "linecolor": "white",
             "minorgridcolor": "white",
             "startlinecolor": "#2a3f5f"
            },
            "type": "carpet"
           }
          ],
          "choropleth": [
           {
            "colorbar": {
             "outlinewidth": 0,
             "ticks": ""
            },
            "type": "choropleth"
           }
          ],
          "contour": [
           {
            "colorbar": {
             "outlinewidth": 0,
             "ticks": ""
            },
            "colorscale": [
             [
              0,
              "#0d0887"
             ],
             [
              0.1111111111111111,
              "#46039f"
             ],
             [
              0.2222222222222222,
              "#7201a8"
             ],
             [
              0.3333333333333333,
              "#9c179e"
             ],
             [
              0.4444444444444444,
              "#bd3786"
             ],
             [
              0.5555555555555556,
              "#d8576b"
             ],
             [
              0.6666666666666666,
              "#ed7953"
             ],
             [
              0.7777777777777778,
              "#fb9f3a"
             ],
             [
              0.8888888888888888,
              "#fdca26"
             ],
             [
              1,
              "#f0f921"
             ]
            ],
            "type": "contour"
           }
          ],
          "contourcarpet": [
           {
            "colorbar": {
             "outlinewidth": 0,
             "ticks": ""
            },
            "type": "contourcarpet"
           }
          ],
          "heatmap": [
           {
            "colorbar": {
             "outlinewidth": 0,
             "ticks": ""
            },
            "colorscale": [
             [
              0,
              "#0d0887"
             ],
             [
              0.1111111111111111,
              "#46039f"
             ],
             [
              0.2222222222222222,
              "#7201a8"
             ],
             [
              0.3333333333333333,
              "#9c179e"
             ],
             [
              0.4444444444444444,
              "#bd3786"
             ],
             [
              0.5555555555555556,
              "#d8576b"
             ],
             [
              0.6666666666666666,
              "#ed7953"
             ],
             [
              0.7777777777777778,
              "#fb9f3a"
             ],
             [
              0.8888888888888888,
              "#fdca26"
             ],
             [
              1,
              "#f0f921"
             ]
            ],
            "type": "heatmap"
           }
          ],
          "heatmapgl": [
           {
            "colorbar": {
             "outlinewidth": 0,
             "ticks": ""
            },
            "colorscale": [
             [
              0,
              "#0d0887"
             ],
             [
              0.1111111111111111,
              "#46039f"
             ],
             [
              0.2222222222222222,
              "#7201a8"
             ],
             [
              0.3333333333333333,
              "#9c179e"
             ],
             [
              0.4444444444444444,
              "#bd3786"
             ],
             [
              0.5555555555555556,
              "#d8576b"
             ],
             [
              0.6666666666666666,
              "#ed7953"
             ],
             [
              0.7777777777777778,
              "#fb9f3a"
             ],
             [
              0.8888888888888888,
              "#fdca26"
             ],
             [
              1,
              "#f0f921"
             ]
            ],
            "type": "heatmapgl"
           }
          ],
          "histogram": [
           {
            "marker": {
             "pattern": {
              "fillmode": "overlay",
              "size": 10,
              "solidity": 0.2
             }
            },
            "type": "histogram"
           }
          ],
          "histogram2d": [
           {
            "colorbar": {
             "outlinewidth": 0,
             "ticks": ""
            },
            "colorscale": [
             [
              0,
              "#0d0887"
             ],
             [
              0.1111111111111111,
              "#46039f"
             ],
             [
              0.2222222222222222,
              "#7201a8"
             ],
             [
              0.3333333333333333,
              "#9c179e"
             ],
             [
              0.4444444444444444,
              "#bd3786"
             ],
             [
              0.5555555555555556,
              "#d8576b"
             ],
             [
              0.6666666666666666,
              "#ed7953"
             ],
             [
              0.7777777777777778,
              "#fb9f3a"
             ],
             [
              0.8888888888888888,
              "#fdca26"
             ],
             [
              1,
              "#f0f921"
             ]
            ],
            "type": "histogram2d"
           }
          ],
          "histogram2dcontour": [
           {
            "colorbar": {
             "outlinewidth": 0,
             "ticks": ""
            },
            "colorscale": [
             [
              0,
              "#0d0887"
             ],
             [
              0.1111111111111111,
              "#46039f"
             ],
             [
              0.2222222222222222,
              "#7201a8"
             ],
             [
              0.3333333333333333,
              "#9c179e"
             ],
             [
              0.4444444444444444,
              "#bd3786"
             ],
             [
              0.5555555555555556,
              "#d8576b"
             ],
             [
              0.6666666666666666,
              "#ed7953"
             ],
             [
              0.7777777777777778,
              "#fb9f3a"
             ],
             [
              0.8888888888888888,
              "#fdca26"
             ],
             [
              1,
              "#f0f921"
             ]
            ],
            "type": "histogram2dcontour"
           }
          ],
          "mesh3d": [
           {
            "colorbar": {
             "outlinewidth": 0,
             "ticks": ""
            },
            "type": "mesh3d"
           }
          ],
          "parcoords": [
           {
            "line": {
             "colorbar": {
              "outlinewidth": 0,
              "ticks": ""
             }
            },
            "type": "parcoords"
           }
          ],
          "pie": [
           {
            "automargin": true,
            "type": "pie"
           }
          ],
          "scatter": [
           {
            "fillpattern": {
             "fillmode": "overlay",
             "size": 10,
             "solidity": 0.2
            },
            "type": "scatter"
           }
          ],
          "scatter3d": [
           {
            "line": {
             "colorbar": {
              "outlinewidth": 0,
              "ticks": ""
             }
            },
            "marker": {
             "colorbar": {
              "outlinewidth": 0,
              "ticks": ""
             }
            },
            "type": "scatter3d"
           }
          ],
          "scattercarpet": [
           {
            "marker": {
             "colorbar": {
              "outlinewidth": 0,
              "ticks": ""
             }
            },
            "type": "scattercarpet"
           }
          ],
          "scattergeo": [
           {
            "marker": {
             "colorbar": {
              "outlinewidth": 0,
              "ticks": ""
             }
            },
            "type": "scattergeo"
           }
          ],
          "scattergl": [
           {
            "marker": {
             "colorbar": {
              "outlinewidth": 0,
              "ticks": ""
             }
            },
            "type": "scattergl"
           }
          ],
          "scattermapbox": [
           {
            "marker": {
             "colorbar": {
              "outlinewidth": 0,
              "ticks": ""
             }
            },
            "type": "scattermapbox"
           }
          ],
          "scatterpolar": [
           {
            "marker": {
             "colorbar": {
              "outlinewidth": 0,
              "ticks": ""
             }
            },
            "type": "scatterpolar"
           }
          ],
          "scatterpolargl": [
           {
            "marker": {
             "colorbar": {
              "outlinewidth": 0,
              "ticks": ""
             }
            },
            "type": "scatterpolargl"
           }
          ],
          "scatterternary": [
           {
            "marker": {
             "colorbar": {
              "outlinewidth": 0,
              "ticks": ""
             }
            },
            "type": "scatterternary"
           }
          ],
          "surface": [
           {
            "colorbar": {
             "outlinewidth": 0,
             "ticks": ""
            },
            "colorscale": [
             [
              0,
              "#0d0887"
             ],
             [
              0.1111111111111111,
              "#46039f"
             ],
             [
              0.2222222222222222,
              "#7201a8"
             ],
             [
              0.3333333333333333,
              "#9c179e"
             ],
             [
              0.4444444444444444,
              "#bd3786"
             ],
             [
              0.5555555555555556,
              "#d8576b"
             ],
             [
              0.6666666666666666,
              "#ed7953"
             ],
             [
              0.7777777777777778,
              "#fb9f3a"
             ],
             [
              0.8888888888888888,
              "#fdca26"
             ],
             [
              1,
              "#f0f921"
             ]
            ],
            "type": "surface"
           }
          ],
          "table": [
           {
            "cells": {
             "fill": {
              "color": "#EBF0F8"
             },
             "line": {
              "color": "white"
             }
            },
            "header": {
             "fill": {
              "color": "#C8D4E3"
             },
             "line": {
              "color": "white"
             }
            },
            "type": "table"
           }
          ]
         },
         "layout": {
          "annotationdefaults": {
           "arrowcolor": "#2a3f5f",
           "arrowhead": 0,
           "arrowwidth": 1
          },
          "autotypenumbers": "strict",
          "coloraxis": {
           "colorbar": {
            "outlinewidth": 0,
            "ticks": ""
           }
          },
          "colorscale": {
           "diverging": [
            [
             0,
             "#8e0152"
            ],
            [
             0.1,
             "#c51b7d"
            ],
            [
             0.2,
             "#de77ae"
            ],
            [
             0.3,
             "#f1b6da"
            ],
            [
             0.4,
             "#fde0ef"
            ],
            [
             0.5,
             "#f7f7f7"
            ],
            [
             0.6,
             "#e6f5d0"
            ],
            [
             0.7,
             "#b8e186"
            ],
            [
             0.8,
             "#7fbc41"
            ],
            [
             0.9,
             "#4d9221"
            ],
            [
             1,
             "#276419"
            ]
           ],
           "sequential": [
            [
             0,
             "#0d0887"
            ],
            [
             0.1111111111111111,
             "#46039f"
            ],
            [
             0.2222222222222222,
             "#7201a8"
            ],
            [
             0.3333333333333333,
             "#9c179e"
            ],
            [
             0.4444444444444444,
             "#bd3786"
            ],
            [
             0.5555555555555556,
             "#d8576b"
            ],
            [
             0.6666666666666666,
             "#ed7953"
            ],
            [
             0.7777777777777778,
             "#fb9f3a"
            ],
            [
             0.8888888888888888,
             "#fdca26"
            ],
            [
             1,
             "#f0f921"
            ]
           ],
           "sequentialminus": [
            [
             0,
             "#0d0887"
            ],
            [
             0.1111111111111111,
             "#46039f"
            ],
            [
             0.2222222222222222,
             "#7201a8"
            ],
            [
             0.3333333333333333,
             "#9c179e"
            ],
            [
             0.4444444444444444,
             "#bd3786"
            ],
            [
             0.5555555555555556,
             "#d8576b"
            ],
            [
             0.6666666666666666,
             "#ed7953"
            ],
            [
             0.7777777777777778,
             "#fb9f3a"
            ],
            [
             0.8888888888888888,
             "#fdca26"
            ],
            [
             1,
             "#f0f921"
            ]
           ]
          },
          "colorway": [
           "#636efa",
           "#EF553B",
           "#00cc96",
           "#ab63fa",
           "#FFA15A",
           "#19d3f3",
           "#FF6692",
           "#B6E880",
           "#FF97FF",
           "#FECB52"
          ],
          "font": {
           "color": "#2a3f5f"
          },
          "geo": {
           "bgcolor": "white",
           "lakecolor": "white",
           "landcolor": "#E5ECF6",
           "showlakes": true,
           "showland": true,
           "subunitcolor": "white"
          },
          "hoverlabel": {
           "align": "left"
          },
          "hovermode": "closest",
          "mapbox": {
           "style": "light"
          },
          "paper_bgcolor": "white",
          "plot_bgcolor": "#E5ECF6",
          "polar": {
           "angularaxis": {
            "gridcolor": "white",
            "linecolor": "white",
            "ticks": ""
           },
           "bgcolor": "#E5ECF6",
           "radialaxis": {
            "gridcolor": "white",
            "linecolor": "white",
            "ticks": ""
           }
          },
          "scene": {
           "xaxis": {
            "backgroundcolor": "#E5ECF6",
            "gridcolor": "white",
            "gridwidth": 2,
            "linecolor": "white",
            "showbackground": true,
            "ticks": "",
            "zerolinecolor": "white"
           },
           "yaxis": {
            "backgroundcolor": "#E5ECF6",
            "gridcolor": "white",
            "gridwidth": 2,
            "linecolor": "white",
            "showbackground": true,
            "ticks": "",
            "zerolinecolor": "white"
           },
           "zaxis": {
            "backgroundcolor": "#E5ECF6",
            "gridcolor": "white",
            "gridwidth": 2,
            "linecolor": "white",
            "showbackground": true,
            "ticks": "",
            "zerolinecolor": "white"
           }
          },
          "shapedefaults": {
           "line": {
            "color": "#2a3f5f"
           }
          },
          "ternary": {
           "aaxis": {
            "gridcolor": "white",
            "linecolor": "white",
            "ticks": ""
           },
           "baxis": {
            "gridcolor": "white",
            "linecolor": "white",
            "ticks": ""
           },
           "bgcolor": "#E5ECF6",
           "caxis": {
            "gridcolor": "white",
            "linecolor": "white",
            "ticks": ""
           }
          },
          "title": {
           "x": 0.05
          },
          "xaxis": {
           "automargin": true,
           "gridcolor": "white",
           "linecolor": "white",
           "ticks": "",
           "title": {
            "standoff": 15
           },
           "zerolinecolor": "white",
           "zerolinewidth": 2
          },
          "yaxis": {
           "automargin": true,
           "gridcolor": "white",
           "linecolor": "white",
           "ticks": "",
           "title": {
            "standoff": 15
           },
           "zerolinecolor": "white",
           "zerolinewidth": 2
          }
         }
        },
        "title": {
         "text": "top 10 high paying NBA team by average salary"
        },
        "xaxis": {
         "anchor": "y",
         "domain": [
          0,
          1
         ],
         "title": {
          "text": "team_name"
         }
        },
        "yaxis": {
         "anchor": "x",
         "domain": [
          0,
          1
         ],
         "title": {
          "text": "avg_salary_in_millions"
         }
        }
       }
      }
     },
     "metadata": {},
     "output_type": "display_data"
    }
   ],
   "source": [
    "px.bar(team_top_10_paying, x='team_name', y='avg_salary_in_millions',\n",
    "       text='avg_salary_in_millions', title='top 10 high paying NBA team by average salary')"
   ]
  }
 ],
 "metadata": {
  "kernelspec": {
   "display_name": "Python 3.10.4 ('Handbook_Python_DS': conda)",
   "language": "python",
   "name": "python3"
  },
  "language_info": {
   "codemirror_mode": {
    "name": "ipython",
    "version": 3
   },
   "file_extension": ".py",
   "mimetype": "text/x-python",
   "name": "python",
   "nbconvert_exporter": "python",
   "pygments_lexer": "ipython3",
   "version": "3.10.4"
  },
  "orig_nbformat": 4,
  "vscode": {
   "interpreter": {
    "hash": "d43d953e0acd0cedb1a9b7948f708072a1c3cac0cb47fa29a39ad05b51d390d4"
   }
  }
 },
 "nbformat": 4,
 "nbformat_minor": 2
}
